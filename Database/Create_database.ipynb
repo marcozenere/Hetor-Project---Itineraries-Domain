{
 "cells": [
  {
   "cell_type": "markdown",
   "id": "a8972c89",
   "metadata": {},
   "source": [
    "## Imports and database connection"
   ]
  },
  {
   "cell_type": "code",
   "execution_count": 1,
   "id": "a99600e5",
   "metadata": {},
   "outputs": [],
   "source": [
    "import pandas as pd\n",
    "import psycopg2\n",
    "import csv\n",
    "\n",
    "from sqlalchemy import create_engine\n",
    "from sqlalchemy.orm import sessionmaker\n",
    "\n",
    "# File 'database_configuration.txt' should contain database configurations in csv format like:\n",
    "# dialect,postgresql+psycopg2'\n",
    "# user,postgres\n",
    "# password,password\n",
    "# host,localhost\n",
    "# port,5432\n",
    "# database,database_name\n",
    "\n",
    "with open('database_configuration.txt', mode='r') as infile:\n",
    "    reader = csv.reader(infile)\n",
    "    database_configuration = {rows[0]:rows[1] for rows in reader}\n",
    "    \n",
    "dialect = database_configuration[\"dialect\"]\n",
    "database = database_configuration[\"database\"]\n",
    "user = database_configuration[\"user\"]\n",
    "password = database_configuration[\"password\"]\n",
    "host = database_configuration[\"host\"]\n",
    "port = database_configuration[\"port\"]"
   ]
  },
  {
   "cell_type": "markdown",
   "id": "5802e6b9",
   "metadata": {},
   "source": [
    "## Create schema and tables"
   ]
  },
  {
   "cell_type": "code",
   "execution_count": 2,
   "id": "faa40391",
   "metadata": {},
   "outputs": [],
   "source": [
    "conn = psycopg2.connect(database=database, user=user, password=password, host=host, port=port)\n",
    "\n",
    "conn.autocommit = True\n",
    "cursor = conn.cursor()\n",
    "\n",
    "sql = '''\n",
    "        -- SCHEMA: public\n",
    "\n",
    "        DROP SCHEMA IF EXISTS public CASCADE ;\n",
    "\n",
    "        CREATE SCHEMA IF NOT EXISTS public\n",
    "            AUTHORIZATION postgres;\n",
    "\n",
    "        COMMENT ON SCHEMA public\n",
    "            IS 'standard public schema';\n",
    "\n",
    "        GRANT ALL ON SCHEMA public TO PUBLIC;\n",
    "\n",
    "        GRANT ALL ON SCHEMA public TO postgres;\n",
    "        \n",
    "        -- Table: public.comune\n",
    "\n",
    "        DROP TABLE IF EXISTS public.comune;\n",
    "\n",
    "        CREATE TABLE IF NOT EXISTS public.comune\n",
    "        (\n",
    "            id integer NOT NULL,\n",
    "            nome character varying(255) COLLATE pg_catalog.\"default\" NOT NULL,\n",
    "            cap character varying(255) COLLATE pg_catalog.\"default\",\n",
    "            provincia character varying(255) COLLATE pg_catalog.\"default\",\n",
    "            regione character varying(255) COLLATE pg_catalog.\"default\",\n",
    "            CONSTRAINT comune_pk PRIMARY KEY (id)\n",
    "        )\n",
    "\n",
    "        TABLESPACE pg_default;\n",
    "\n",
    "        ALTER TABLE IF EXISTS public.comune\n",
    "            OWNER to postgres;\n",
    "            \n",
    "        -- Table: public.azienda\n",
    "\n",
    "        DROP TABLE IF EXISTS public.azienda;\n",
    "\n",
    "        CREATE TABLE IF NOT EXISTS public.azienda\n",
    "        (\n",
    "            id integer NOT NULL,\n",
    "            n_registro integer NOT NULL,\n",
    "            nome character varying(255) COLLATE pg_catalog.\"default\" NOT NULL,\n",
    "            data_deposito date NOT NULL,\n",
    "            luogo_deposito character varying(255) COLLATE pg_catalog.\"default\",\n",
    "            settore_produzione character varying(255) COLLATE pg_catalog.\"default\" NOT NULL,\n",
    "            importazione character varying(255) COLLATE pg_catalog.\"default\",\n",
    "            nome_marchio character varying(255) COLLATE pg_catalog.\"default\",\n",
    "            data_registrazione_marchio date NOT NULL,\n",
    "            descrizione_marchio text COLLATE pg_catalog.\"default\",\n",
    "            CONSTRAINT azienda_pk PRIMARY KEY (id)\n",
    "        )\n",
    "\n",
    "        TABLESPACE pg_default;\n",
    "\n",
    "        ALTER TABLE IF EXISTS public.azienda\n",
    "            OWNER to postgres;\n",
    "            \n",
    "        -- Table: public.luogo_di_interesse\n",
    "\n",
    "        DROP TABLE IF EXISTS public.luogo_di_interesse;\n",
    "\n",
    "        CREATE TABLE IF NOT EXISTS public.luogo_di_interesse\n",
    "        (\n",
    "            id integer NOT NULL,\n",
    "            nome character varying(255) COLLATE pg_catalog.\"default\",\n",
    "            tipologia character varying(255) COLLATE pg_catalog.\"default\",\n",
    "            secolo_costruzione character varying(255) COLLATE pg_catalog.\"default\",\n",
    "            prima_attestazione character varying(255) COLLATE pg_catalog.\"default\",\n",
    "            stile character varying(255) COLLATE pg_catalog.\"default\",\n",
    "            CONSTRAINT luogo_di_interesse_pk PRIMARY KEY (id)\n",
    "        )\n",
    "\n",
    "        TABLESPACE pg_default;\n",
    "\n",
    "        ALTER TABLE IF EXISTS public.luogo_di_interesse\n",
    "            OWNER to postgres;\n",
    "        \n",
    "        -- Table: public.itinerario_aziendale\n",
    "\n",
    "        DROP TABLE IF EXISTS public.itinerario_aziendale;\n",
    "\n",
    "        CREATE TABLE IF NOT EXISTS public.itinerario_aziendale\n",
    "        (\n",
    "            id integer NOT NULL,\n",
    "            tipologia_itinerario character varying(255) COLLATE pg_catalog.\"default\" NOT NULL,\n",
    "            comune_id integer NOT NULL,\n",
    "            localita character varying(255) COLLATE pg_catalog.\"default\",\n",
    "            latitudine numeric(8,6),\n",
    "            longitudine numeric(9,6),\n",
    "            note text COLLATE pg_catalog.\"default\",\n",
    "            bibliografia character varying(255) COLLATE pg_catalog.\"default\",\n",
    "            sitografia character varying(255) COLLATE pg_catalog.\"default\",\n",
    "            url_immagine character varying(255) COLLATE pg_catalog.\"default\",\n",
    "            azienda_id integer NOT NULL,\n",
    "            CONSTRAINT itinerario_aziendale_pk PRIMARY KEY (id),\n",
    "            CONSTRAINT itinerario_aziendale_azienda FOREIGN KEY (azienda_id)\n",
    "                REFERENCES public.azienda (id) MATCH SIMPLE\n",
    "                ON UPDATE NO ACTION\n",
    "                ON DELETE NO ACTION,\n",
    "            CONSTRAINT itinerario_aziendale_comune FOREIGN KEY (comune_id)\n",
    "                REFERENCES public.comune (id) MATCH SIMPLE\n",
    "                ON UPDATE NO ACTION\n",
    "                ON DELETE NO ACTION\n",
    "        )\n",
    "\n",
    "        TABLESPACE pg_default;\n",
    "\n",
    "        ALTER TABLE IF EXISTS public.itinerario_aziendale\n",
    "            OWNER to postgres;\n",
    "            \n",
    "        -- Table: public.itinerario_culinario\n",
    "\n",
    "        DROP TABLE IF EXISTS public.itinerario_culinario;\n",
    "\n",
    "        CREATE TABLE IF NOT EXISTS public.itinerario_culinario\n",
    "        (\n",
    "            id integer NOT NULL,\n",
    "            nome character varying(255) COLLATE pg_catalog.\"default\" NOT NULL,\n",
    "            comune_id integer NOT NULL,\n",
    "            tipologia character varying(255) COLLATE pg_catalog.\"default\",\n",
    "            descrizione text COLLATE pg_catalog.\"default\",\n",
    "            note text COLLATE pg_catalog.\"default\",\n",
    "            url_immagine character varying(255) COLLATE pg_catalog.\"default\",\n",
    "            latitudine numeric(8,6),\n",
    "            longitudine numeric(9,6),\n",
    "            CONSTRAINT itinerario_culinario_pk PRIMARY KEY (id),\n",
    "            CONSTRAINT itinerario_culinario_comune FOREIGN KEY (comune_id)\n",
    "                REFERENCES public.comune (id) MATCH SIMPLE\n",
    "                ON UPDATE NO ACTION\n",
    "                ON DELETE NO ACTION\n",
    "        )\n",
    "\n",
    "        TABLESPACE pg_default;\n",
    "\n",
    "        ALTER TABLE IF EXISTS public.itinerario_culinario\n",
    "            OWNER to postgres;\n",
    "\n",
    "        -- Table: public.itinerario_culturale\n",
    "\n",
    "        DROP TABLE IF EXISTS public.itinerario_culturale;\n",
    "\n",
    "        CREATE TABLE IF NOT EXISTS public.itinerario_culturale\n",
    "        (\n",
    "            id integer NOT NULL,\n",
    "            luogo_interesse_id integer NOT NULL,\n",
    "            comune_id integer NOT NULL,\n",
    "            via character varying(255) COLLATE pg_catalog.\"default\",\n",
    "            localita character varying(255) COLLATE pg_catalog.\"default\",\n",
    "            tipologia character varying(255) COLLATE pg_catalog.\"default\",\n",
    "            informazioni text COLLATE pg_catalog.\"default\",\n",
    "            note text COLLATE pg_catalog.\"default\",\n",
    "            bibliografia character varying(255) COLLATE pg_catalog.\"default\",\n",
    "            sitografia character varying(255) COLLATE pg_catalog.\"default\",\n",
    "            url_immagine character varying(255) COLLATE pg_catalog.\"default\",\n",
    "            latitudine numeric(8,6),\n",
    "            longitudine numeric(9,6),\n",
    "            CONSTRAINT itinerario_culturale_pk PRIMARY KEY (id),\n",
    "            CONSTRAINT itinerario_comune FOREIGN KEY (comune_id)\n",
    "                REFERENCES public.comune (id) MATCH SIMPLE\n",
    "                ON UPDATE NO ACTION\n",
    "                ON DELETE NO ACTION,\n",
    "            CONSTRAINT itinerario_culturale_luogo_di_interesse FOREIGN KEY (luogo_interesse_id)\n",
    "                REFERENCES public.luogo_di_interesse (id) MATCH SIMPLE\n",
    "                ON UPDATE NO ACTION\n",
    "                ON DELETE NO ACTION\n",
    "        )\n",
    "\n",
    "        TABLESPACE pg_default;\n",
    "\n",
    "        ALTER TABLE IF EXISTS public.itinerario_culturale\n",
    "            OWNER to postgres;\n",
    "        \n",
    "        '''\n",
    "cursor.execute(sql)\n",
    "conn.commit()\n",
    "conn.close()\n"
   ]
  },
  {
   "cell_type": "markdown",
   "id": "594c28c1",
   "metadata": {},
   "source": [
    "## Populate the database"
   ]
  },
  {
   "cell_type": "markdown",
   "id": "f452e40e",
   "metadata": {},
   "source": [
    "### Import tables"
   ]
  },
  {
   "cell_type": "code",
   "execution_count": 3,
   "id": "22009204",
   "metadata": {},
   "outputs": [],
   "source": [
    "itineraries_caserta_df = pd.read_pickle(\"../Dataset_clean/itineraries-Caserta.pkl\")\n",
    "itineraries_costiera_amalfitana_df = pd.read_pickle(\"../Dataset_clean/itineraries-CostieraAmalfitana.pkl\")\n",
    "itineraries_nocera_df = pd.read_pickle(\"../Dataset_clean/itineraries-Nocera.pkl\")\n",
    "itineraries_nocera_inferiore_df = pd.read_pickle(\"../Dataset_clean/itineraries-NoceraInferiore.pkl\")\n",
    "\n",
    "itineraries_costiera_amalfitana_df = itineraries_costiera_amalfitana_df.rename(str.capitalize, axis='columns')"
   ]
  },
  {
   "cell_type": "code",
   "execution_count": 4,
   "id": "f7f0fd5c",
   "metadata": {},
   "outputs": [
    {
     "data": {
      "text/plain": [
       "Index(['Categoria itinerario', 'Nome', 'Comune', 'Località', 'Via', 'Cap',\n",
       "       'Provincia', 'Regione', 'Tipologia', 'Secolo di costruzione',\n",
       "       'Anno prima attestazione', 'Itinerario (periodo)', 'Stile',\n",
       "       'Informazioni', 'URL Immagine', 'Bibliografia', 'Sitografia',\n",
       "       'Rifunzionalizzato', 'Tipo di Rifunzionalizzazione', 'Latitude',\n",
       "       'Longitude'],\n",
       "      dtype='object')"
      ]
     },
     "execution_count": 4,
     "metadata": {},
     "output_type": "execute_result"
    }
   ],
   "source": [
    "itineraries_caserta_df.columns"
   ]
  },
  {
   "cell_type": "code",
   "execution_count": 5,
   "id": "497a1351",
   "metadata": {},
   "outputs": [
    {
     "data": {
      "text/plain": [
       "Index(['Categoria itinerario', 'Nome', 'Localitaˈ', 'Cap', 'Provincia',\n",
       "       'Regione', 'Tipologia', 'Descrizione', 'Note', 'Url immagine',\n",
       "       'Latitude', 'Longitude'],\n",
       "      dtype='object')"
      ]
     },
     "execution_count": 5,
     "metadata": {},
     "output_type": "execute_result"
    }
   ],
   "source": [
    "itineraries_costiera_amalfitana_df.columns"
   ]
  },
  {
   "cell_type": "code",
   "execution_count": 6,
   "id": "f7e5e55b",
   "metadata": {},
   "outputs": [
    {
     "data": {
      "text/plain": [
       "Index(['Categoria itinerario', 'Città', 'Località', 'Via', 'Cap', 'Provincia',\n",
       "       'Regione', 'N. Registro generale', 'Nome azienda', 'Data deposito',\n",
       "       'Data registrazione marchio', 'Luogo di Deposito', 'Nome marchio',\n",
       "       'Settore produzione', 'Importazione Si/No', 'Itinerario (periodo)',\n",
       "       'Descrizione del marchio', 'Sito azienda', 'Note', 'Bibliografia',\n",
       "       'Sitografia', 'URL immagine', 'URL immagine 2', 'Tipologia edificio',\n",
       "       'Rifunzionalizzato Si/No', 'Tipo di rifunzionalizzazione', 'Latitude',\n",
       "       'Longitude'],\n",
       "      dtype='object')"
      ]
     },
     "execution_count": 6,
     "metadata": {},
     "output_type": "execute_result"
    }
   ],
   "source": [
    "itineraries_nocera_df.columns"
   ]
  },
  {
   "cell_type": "code",
   "execution_count": 7,
   "id": "6a6c2e75",
   "metadata": {
    "scrolled": true
   },
   "outputs": [
    {
     "data": {
      "text/plain": [
       "Index(['Categoria itinerario', 'Città', 'Località', 'Via', 'Cap', 'Provincia',\n",
       "       'Regione', 'Sito/definizione manufatto', 'Epoca prima attestazione',\n",
       "       'Itinerario (periodo)', 'Informazioni', 'URL immagine', 'Bibliografia',\n",
       "       'Sitografia', 'Tipologia edificio', 'Rifunzionalizzato',\n",
       "       'Tipo di rifunzionalizzazione', 'Latitude', 'Longitude'],\n",
       "      dtype='object')"
      ]
     },
     "execution_count": 7,
     "metadata": {},
     "output_type": "execute_result"
    }
   ],
   "source": [
    "itineraries_nocera_inferiore_df.columns"
   ]
  },
  {
   "cell_type": "markdown",
   "id": "cff4dd2a",
   "metadata": {},
   "source": [
    "## Split and merge tables based on itinerary category"
   ]
  },
  {
   "cell_type": "markdown",
   "id": "ad54f235",
   "metadata": {},
   "source": [
    "### Itineraries culturale"
   ]
  },
  {
   "cell_type": "code",
   "execution_count": 8,
   "id": "e0402e6b",
   "metadata": {},
   "outputs": [
    {
     "name": "stdout",
     "output_type": "stream",
     "text": [
      "Columns that are not used:\n",
      "{'Tipo di Rifunzionalizzazione', 'Categoria itinerario', 'Rifunzionalizzato'}\n"
     ]
    }
   ],
   "source": [
    "itineraries_culturale_caserta_df = itineraries_caserta_df[itineraries_caserta_df['Categoria itinerario'] == \"culturale\"]\n",
    "\n",
    "column_mapping_culturale_caserta = {\n",
    "    \"luogo_interesse\": None,\n",
    "    \"luogo_interesse_nome\": 'Nome',\n",
    "    \"luogo_interesse_tipologia\": 'Tipologia',\n",
    "    \"luogo_interesse_secolo_costruzione\": 'Secolo di costruzione',\n",
    "    \"luogo_interesse_prima_attestazione\": 'Anno prima attestazione',\n",
    "    \"luogo_interesse_stile\": 'Stile',\n",
    "    \"comune\": None,\n",
    "    \"comune_nome\": 'Comune',\n",
    "    \"comune_cap\": 'Cap',\n",
    "    \"comune_provincia\": 'Provincia',\n",
    "    \"comune_regione\": 'Regione',\n",
    "    \"via\": 'Via',\n",
    "    \"localita\": 'Località',\n",
    "    \"tipologia\": 'Itinerario (periodo)',\n",
    "    \"informazioni\": 'Informazioni',\n",
    "    \"note\": None,\n",
    "    \"bibliografia\": 'Bibliografia',\n",
    "    \"sitografia\": 'Sitografia',\n",
    "    \"url_immagine\": 'URL Immagine',\n",
    "    \"latitudine\": 'Latitude',\n",
    "    \"longitudine\": 'Longitude'\n",
    "}\n",
    "\n",
    "column_mapping_culturale_caserta_inv = {v: k for k, v in column_mapping_culturale_caserta.items() if v}\n",
    "\n",
    "itineraries_culturale_caserta_df = itineraries_culturale_caserta_df.reindex(columns=column_mapping_culturale_caserta_inv.keys())\\\n",
    "                                                                    .rename(columns=column_mapping_culturale_caserta_inv)\\\n",
    "                                                                    .rename_axis(None,axis=1)\n",
    "\n",
    "print(f\"Columns that are not used:\\n{set(itineraries_caserta_df.columns).difference(column_mapping_culturale_caserta.values())}\")"
   ]
  },
  {
   "cell_type": "code",
   "execution_count": 9,
   "id": "f58ca52c",
   "metadata": {},
   "outputs": [
    {
     "name": "stdout",
     "output_type": "stream",
     "text": [
      "Columns that are not used:\n",
      "{'Tipo di rifunzionalizzazione', 'Sito/definizione manufatto', 'Rifunzionalizzato', 'Categoria itinerario'}\n"
     ]
    }
   ],
   "source": [
    "itineraries_culturale_nocera_inferiore_df = itineraries_nocera_inferiore_df[itineraries_nocera_inferiore_df['Categoria itinerario'] == \"culturale\"]\n",
    "\n",
    "column_mapping_culturale_nocera_inferiore = {\n",
    "    \"luogo_interesse\": None,\n",
    "    \"luogo_interesse_nome\": None, #could be \"Sito/definizione manufatto\"\n",
    "    \"luogo_interesse_tipologia\": 'Tipologia edificio',\n",
    "    \"luogo_interesse_secolo_costruzione\": None,\n",
    "    \"luogo_interesse_prima_attestazione\": 'Epoca prima attestazione',\n",
    "    \"luogo_interesse_stile\": None,\n",
    "    \"comune\": None,\n",
    "    \"comune_nome\": 'Città',\n",
    "    \"comune_cap\": 'Cap',\n",
    "    \"comune_provincia\": 'Provincia',\n",
    "    \"comune_regione\": 'Regione',\n",
    "    \"via\": 'Via',\n",
    "    \"localita\": 'Località',\n",
    "    \"tipologia\": 'Itinerario (periodo)',\n",
    "    \"informazioni\": 'Informazioni',\n",
    "    \"note\": None,\n",
    "    \"bibliografia\": 'Bibliografia',\n",
    "    \"sitografia\": 'Sitografia',\n",
    "    \"url_immagine\": 'URL immagine',\n",
    "    \"latitudine\": 'Latitude',\n",
    "    \"longitudine\": 'Longitude'\n",
    "}\n",
    "\n",
    "column_mapping_culturale_nocera_inferiore_inv = {v: k for k, v in column_mapping_culturale_nocera_inferiore.items() if v}\n",
    "\n",
    "itineraries_culturale_nocera_inferiore_df = itineraries_culturale_nocera_inferiore_df.reindex(columns=column_mapping_culturale_nocera_inferiore_inv.keys())\\\n",
    "                                                                    .rename(columns=column_mapping_culturale_nocera_inferiore_inv)\\\n",
    "                                                                    .rename_axis(None,axis=1)\n",
    "\n",
    "print(f\"Columns that are not used:\\n{set(itineraries_nocera_inferiore_df.columns).difference(column_mapping_culturale_nocera_inferiore.values())}\")"
   ]
  },
  {
   "cell_type": "code",
   "execution_count": 10,
   "id": "55a1147d",
   "metadata": {},
   "outputs": [
    {
     "name": "stdout",
     "output_type": "stream",
     "text": [
      "Columns that are not used:\n",
      "{'Categoria itinerario'}\n"
     ]
    }
   ],
   "source": [
    "itineraries_culturale_costiera_amalfitana_df = itineraries_costiera_amalfitana_df[itineraries_costiera_amalfitana_df['Categoria itinerario'] == \"culturale\"]\n",
    "\n",
    "column_mapping_culturale_costiera_amalfitana = {\n",
    "    \"luogo_interesse\": None,\n",
    "    \"luogo_interesse_nome\": 'Nome',\n",
    "    \"luogo_interesse_tipologia\": 'Tipologia',\n",
    "    \"luogo_interesse_secolo_costruzione\": None,\n",
    "    \"luogo_interesse_prima_attestazione\": None,\n",
    "    \"luogo_interesse_stile\": None,\n",
    "    \"comune\": None,\n",
    "    \"comune_nome\": 'Localitaˈ',\n",
    "    \"comune_cap\": 'Cap',\n",
    "    \"comune_provincia\": 'Provincia',\n",
    "    \"comune_regione\": 'Regione',\n",
    "    \"via\": None,\n",
    "    \"localita\": None,\n",
    "    \"tipologia\": None,\n",
    "    \"informazioni\": 'Descrizione',\n",
    "    \"note\": 'Note',\n",
    "    \"bibliografia\": None,\n",
    "    \"sitografia\": None,\n",
    "    \"url_immagine\": 'Url immagine',\n",
    "    \"latitudine\": 'Latitude',\n",
    "    \"longitudine\": 'Longitude'\n",
    "}\n",
    "\n",
    "column_mapping_culturale_costiera_amalfitana_inv = {v: k for k, v in column_mapping_culturale_costiera_amalfitana.items() if v}\n",
    "\n",
    "itineraries_culturale_costiera_amalfitana_df = itineraries_culturale_costiera_amalfitana_df.reindex(columns=column_mapping_culturale_costiera_amalfitana_inv.keys())\\\n",
    "                                                                    .rename(columns=column_mapping_culturale_costiera_amalfitana_inv)\\\n",
    "                                                                    .rename_axis(None,axis=1)\n",
    "\n",
    "print(f\"Columns that are not used:\\n{set(itineraries_costiera_amalfitana_df.columns).difference(column_mapping_culturale_costiera_amalfitana.values())}\")"
   ]
  },
  {
   "cell_type": "code",
   "execution_count": 11,
   "id": "f6c7ec96",
   "metadata": {},
   "outputs": [],
   "source": [
    "itineraries_culturale_df = pd.concat([itineraries_culturale_caserta_df, itineraries_culturale_nocera_inferiore_df, itineraries_culturale_costiera_amalfitana_df], ignore_index=True, sort=False)\n",
    "itineraries_culturale_df = itineraries_culturale_df.fillna(\"NULL\")\n"
   ]
  },
  {
   "cell_type": "markdown",
   "id": "111daa52",
   "metadata": {},
   "source": [
    "### Itineraries culinario"
   ]
  },
  {
   "cell_type": "code",
   "execution_count": 12,
   "id": "b19bcdd9",
   "metadata": {},
   "outputs": [
    {
     "name": "stdout",
     "output_type": "stream",
     "text": [
      "Columns that are not used:\n",
      "{'Categoria itinerario'}\n"
     ]
    }
   ],
   "source": [
    "itineraries_culinario_costiera_amalfitana_df = itineraries_costiera_amalfitana_df[itineraries_costiera_amalfitana_df['Categoria itinerario'] == \"culinario\"]\n",
    "\n",
    "column_mapping_culinario_costiera_amalfitana = {\n",
    "    \"nome\": \"Nome\",\n",
    "    \"comune\": None,\n",
    "    \"comune_nome\": 'Localitaˈ',\n",
    "    \"comune_cap\": 'Cap',\n",
    "    \"comune_provincia\": 'Provincia',\n",
    "    \"comune_regione\": 'Regione',\n",
    "    \"tipologia\": \"Tipologia\",\n",
    "    \"descrizione\": 'Descrizione',\n",
    "    \"note\": 'Note',\n",
    "    \"url_immagine\": 'Url immagine',\n",
    "    \"latitudine\": 'Latitude',\n",
    "    \"longitudine\": 'Longitude'\n",
    "}\n",
    "\n",
    "column_mapping_culinario_costiera_amalfitana_inv = {v: k for k, v in column_mapping_culinario_costiera_amalfitana.items() if v}\n",
    "\n",
    "itineraries_culinario_costiera_amalfitana_df = itineraries_culinario_costiera_amalfitana_df.reindex(columns=column_mapping_culinario_costiera_amalfitana_inv.keys())\\\n",
    "                                                                    .rename(columns=column_mapping_culinario_costiera_amalfitana_inv)\\\n",
    "                                                                    .rename_axis(None,axis=1)\n",
    "\n",
    "print(f\"Columns that are not used:\\n{set(itineraries_costiera_amalfitana_df.columns).difference(column_mapping_culinario_costiera_amalfitana.values())}\")"
   ]
  },
  {
   "cell_type": "code",
   "execution_count": 13,
   "id": "0ee335ae",
   "metadata": {},
   "outputs": [],
   "source": [
    "itineraries_culinario_df = itineraries_culinario_costiera_amalfitana_df"
   ]
  },
  {
   "cell_type": "markdown",
   "id": "7985d572",
   "metadata": {},
   "source": [
    "### Itineraries aziendale"
   ]
  },
  {
   "cell_type": "code",
   "execution_count": 14,
   "id": "b619b5c2",
   "metadata": {},
   "outputs": [
    {
     "name": "stdout",
     "output_type": "stream",
     "text": [
      "Columns that are not used:\n",
      "{'Tipo di rifunzionalizzazione', 'Via', 'URL immagine 2', 'Tipologia edificio', 'Categoria itinerario', 'Rifunzionalizzato Si/No', 'Sito azienda'}\n"
     ]
    }
   ],
   "source": [
    "itineraries_aziendale_nocera_df = itineraries_nocera_df[itineraries_nocera_df['Categoria itinerario'] == \"aziendale\"]\n",
    "\n",
    "column_mapping_aziendale_nocera = {\n",
    "    \"tipologia_itinerario\": \"Itinerario (periodo)\",\n",
    "    \"comune\": None,\n",
    "    \"comune_nome\": 'Città',\n",
    "    \"comune_cap\": 'Cap',\n",
    "    \"comune_provincia\": 'Provincia',\n",
    "    \"comune_regione\": 'Regione',    \n",
    "    \"localita\": 'Località',\n",
    "    \"note\": 'Note',\n",
    "    \"bibliografia\": 'Bibliografia',\n",
    "    \"url_immagine\": 'URL immagine',\n",
    "    \"sitografia\": 'Sitografia',\n",
    "    \"azienda\": None,\n",
    "    \"azienda_n_registro\": 'N. Registro generale',\n",
    "    \"azienda_nome\": 'Nome azienda',\n",
    "    \"azienda_data_deposito\": 'Data deposito',\n",
    "    \"azienda_luogo_deposito\": 'Luogo di Deposito',\n",
    "    \"azienda_settore_produzione\": 'Settore produzione',\n",
    "    \"azienda_importazione\": 'Importazione Si/No',\n",
    "    \"azienda_nome_marchio\": 'Nome marchio',\n",
    "    \"azienda_data_registrazione_marchio\": 'Data registrazione marchio',\n",
    "    \"azienda_descrizione_marchio\": 'Descrizione del marchio',\n",
    "    \"latitudine\": 'Latitude',\n",
    "    \"longitudine\": 'Longitude'\n",
    "}\n",
    "\n",
    "column_mapping_aziendale_nocera_inv = {v: k for k, v in column_mapping_aziendale_nocera.items() if v}\n",
    "\n",
    "itineraries_aziendale_nocera_df = itineraries_aziendale_nocera_df.reindex(columns=column_mapping_aziendale_nocera_inv.keys())\\\n",
    "                                                                    .rename(columns=column_mapping_aziendale_nocera_inv)\\\n",
    "                                                                    .rename_axis(None,axis=1)\n",
    "\n",
    "print(f\"Columns that are not used:\\n{set(itineraries_nocera_df.columns).difference(column_mapping_aziendale_nocera.values())}\")"
   ]
  },
  {
   "cell_type": "code",
   "execution_count": 15,
   "id": "9f7aced6",
   "metadata": {},
   "outputs": [],
   "source": [
    "itineraries_aziendale_df = itineraries_aziendale_nocera_df"
   ]
  },
  {
   "cell_type": "markdown",
   "id": "e5555abf",
   "metadata": {},
   "source": [
    "## Extract join tables and foreign keys"
   ]
  },
  {
   "cell_type": "code",
   "execution_count": 16,
   "id": "ab43d8aa",
   "metadata": {},
   "outputs": [],
   "source": [
    "def revert_join(df_list, prefix_columns_to_exclude=None, columns_to_exclude=None, foreign_key_name=\"fk_id\", delete_prefix=True):\n",
    "    if columns_to_exclude is None:\n",
    "        columns_to_exclude = [[] for _ in range(len(df_list))]\n",
    "    \n",
    "    if prefix_columns_to_exclude:\n",
    "        for i, df in enumerate(df_list):\n",
    "            columns_to_exclude[i].extend([col for col in df if col.startswith(prefix_columns_to_exclude)])\n",
    "        if foreign_key_name == \"fk_id\":\n",
    "            foreign_key_name = f\"{prefix_columns_to_exclude}_id\"\n",
    "    \n",
    "    join_table_df_list = []\n",
    "    \n",
    "    for i, df in enumerate(df_list):\n",
    "        temp = pd.DataFrame(df.groupby(columns_to_exclude[i])[columns_to_exclude[i][0]].count())\n",
    "        temp.columns = [\"dummy\"]\n",
    "        join_table_df_list.append(temp)\n",
    "    join_table_df = pd.concat(join_table_df_list)\n",
    "    join_table_df.columns=['dummy']\n",
    "    join_table_df = join_table_df.reset_index().drop('dummy', axis=1)\n",
    "    join_table_df = join_table_df.drop_duplicates()\n",
    "    join_table_df.index.name=foreign_key_name\n",
    "    for i, df in enumerate(df_list):\n",
    "        new_columns = [column for column in df.columns if column not in columns_to_exclude[i]]\n",
    "        new_columns.append(foreign_key_name)\n",
    "        df_list[i] = df.merge(join_table_df.reset_index())[new_columns]\n",
    "    join_table_df.index.name='id'\n",
    "    if prefix_columns_to_exclude is not None and delete_prefix:\n",
    "        join_table_df.columns = join_table_df.columns.str.replace(prefix_columns_to_exclude, \"\")\n",
    "        join_table_df.columns = join_table_df.columns.str.lstrip(\"_\")\n",
    "    return df_list, join_table_df"
   ]
  },
  {
   "cell_type": "markdown",
   "id": "8ae525a2",
   "metadata": {},
   "source": [
    "### Table comune"
   ]
  },
  {
   "cell_type": "code",
   "execution_count": 17,
   "id": "5e59120a",
   "metadata": {},
   "outputs": [],
   "source": [
    "df_list, comune_df = revert_join([itineraries_culturale_df, itineraries_culinario_df, itineraries_aziendale_df],\\\n",
    "                        prefix_columns_to_exclude=\"comune\")\n",
    "(itineraries_culturale_no_comune_df, itineraries_culinario_no_comune_df, itineraries_aziendale_no_comune_df) = df_list"
   ]
  },
  {
   "cell_type": "markdown",
   "id": "8dd490b7",
   "metadata": {},
   "source": [
    "### Table azienda"
   ]
  },
  {
   "cell_type": "code",
   "execution_count": 18,
   "id": "53bc13a4",
   "metadata": {},
   "outputs": [],
   "source": [
    "(itineraries_aziendale_no_comune_no_azienda_df, ), azienda_df = revert_join([itineraries_aziendale_no_comune_df],\\\n",
    "                        prefix_columns_to_exclude=\"azienda\")"
   ]
  },
  {
   "cell_type": "markdown",
   "id": "0205aac2",
   "metadata": {},
   "source": [
    "### Table luogo_di_interesse"
   ]
  },
  {
   "cell_type": "code",
   "execution_count": 19,
   "id": "4541d568",
   "metadata": {},
   "outputs": [],
   "source": [
    "(itineraries_culturale_no_comune_no_luogo_di_interesse_df, ), luogo_di_interesse_df = revert_join([itineraries_culturale_no_comune_df],\\\n",
    "                        prefix_columns_to_exclude=\"luogo_interesse\")"
   ]
  },
  {
   "cell_type": "markdown",
   "id": "8303a029",
   "metadata": {},
   "source": [
    "## Add index as id-column"
   ]
  },
  {
   "cell_type": "code",
   "execution_count": 20,
   "id": "2bec8f4a",
   "metadata": {},
   "outputs": [],
   "source": [
    "def add_column_id_from_index(df):\n",
    "    df.index.name = 'id'\n",
    "    return df.reset_index()\n",
    "\n",
    "comune_df = add_column_id_from_index(comune_df)\n",
    "azienda_df = add_column_id_from_index(azienda_df)\n",
    "luogo_di_interesse_df = add_column_id_from_index(luogo_di_interesse_df)\n",
    "itineraries_aziendale_no_comune_no_azienda_df = add_column_id_from_index(itineraries_aziendale_no_comune_no_azienda_df)\n",
    "itineraries_culinario_no_comune_df = add_column_id_from_index(itineraries_culinario_no_comune_df)\n",
    "itineraries_culturale_no_comune_no_luogo_di_interesse_df = add_column_id_from_index(itineraries_culturale_no_comune_no_luogo_di_interesse_df)"
   ]
  },
  {
   "cell_type": "markdown",
   "id": "764df01e",
   "metadata": {},
   "source": [
    "## Check columns"
   ]
  },
  {
   "cell_type": "code",
   "execution_count": 21,
   "id": "e9856a6d",
   "metadata": {},
   "outputs": [
    {
     "data": {
      "text/plain": [
       "Index(['id', 'n_registro', 'nome', 'data_deposito', 'luogo_deposito',\n",
       "       'settore_produzione', 'importazione', 'nome_marchio',\n",
       "       'data_registrazione_marchio', 'descrizione_marchio'],\n",
       "      dtype='object')"
      ]
     },
     "execution_count": 21,
     "metadata": {},
     "output_type": "execute_result"
    }
   ],
   "source": [
    "azienda_df.columns"
   ]
  },
  {
   "cell_type": "code",
   "execution_count": 22,
   "id": "e7978a4c",
   "metadata": {},
   "outputs": [
    {
     "data": {
      "text/plain": [
       "Index(['id', 'nome', 'cap', 'provincia', 'regione'], dtype='object')"
      ]
     },
     "execution_count": 22,
     "metadata": {},
     "output_type": "execute_result"
    }
   ],
   "source": [
    "comune_df.columns"
   ]
  },
  {
   "cell_type": "code",
   "execution_count": 23,
   "id": "6a1b7042",
   "metadata": {},
   "outputs": [
    {
     "data": {
      "text/plain": [
       "Index(['id', 'nome', 'tipologia', 'secolo_costruzione', 'prima_attestazione',\n",
       "       'stile'],\n",
       "      dtype='object')"
      ]
     },
     "execution_count": 23,
     "metadata": {},
     "output_type": "execute_result"
    }
   ],
   "source": [
    "luogo_di_interesse_df.columns"
   ]
  },
  {
   "cell_type": "code",
   "execution_count": 24,
   "id": "ba950cf9",
   "metadata": {},
   "outputs": [
    {
     "data": {
      "text/plain": [
       "Index(['id', 'tipologia_itinerario', 'localita', 'note', 'bibliografia',\n",
       "       'url_immagine', 'sitografia', 'latitudine', 'longitudine', 'comune_id',\n",
       "       'azienda_id'],\n",
       "      dtype='object')"
      ]
     },
     "execution_count": 24,
     "metadata": {},
     "output_type": "execute_result"
    }
   ],
   "source": [
    "itineraries_aziendale_no_comune_no_azienda_df.columns"
   ]
  },
  {
   "cell_type": "code",
   "execution_count": 25,
   "id": "62c9a1ed",
   "metadata": {},
   "outputs": [
    {
     "data": {
      "text/plain": [
       "Index(['id', 'nome', 'tipologia', 'descrizione', 'note', 'url_immagine',\n",
       "       'latitudine', 'longitudine', 'comune_id'],\n",
       "      dtype='object')"
      ]
     },
     "execution_count": 25,
     "metadata": {},
     "output_type": "execute_result"
    }
   ],
   "source": [
    "itineraries_culinario_no_comune_df.columns"
   ]
  },
  {
   "cell_type": "code",
   "execution_count": 26,
   "id": "69f6cecc",
   "metadata": {},
   "outputs": [
    {
     "data": {
      "text/plain": [
       "Index(['id', 'via', 'localita', 'tipologia', 'informazioni', 'bibliografia',\n",
       "       'sitografia', 'url_immagine', 'latitudine', 'longitudine', 'note',\n",
       "       'comune_id', 'luogo_interesse_id'],\n",
       "      dtype='object')"
      ]
     },
     "execution_count": 26,
     "metadata": {},
     "output_type": "execute_result"
    }
   ],
   "source": [
    "itineraries_culturale_no_comune_no_luogo_di_interesse_df.columns"
   ]
  },
  {
   "cell_type": "markdown",
   "id": "e0c7130b",
   "metadata": {},
   "source": [
    "## Populate database with tables"
   ]
  },
  {
   "cell_type": "code",
   "execution_count": 27,
   "id": "6e23022d",
   "metadata": {},
   "outputs": [],
   "source": [
    "azienda_df = azienda_df.replace('NULL', None)\n",
    "comune_df = comune_df.replace('NULL', None)\n",
    "luogo_di_interesse_df = luogo_di_interesse_df = luogo_di_interesse_df.replace('NULL', None)\n",
    "itineraries_aziendale_no_comune_no_azienda_df = itineraries_aziendale_no_comune_no_azienda_df.replace('NULL', None)\n",
    "itineraries_culinario_no_comune_df = itineraries_culinario_no_comune_df.replace('NULL', None)\n",
    "itineraries_culturale_no_comune_no_luogo_di_interesse_df = itineraries_culturale_no_comune_no_luogo_di_interesse_df.replace('NULL', None)\n",
    "\n",
    "engine = create_engine(f'{dialect}://{user}:{password}@{host}:{port}/{database}', echo=False)\n",
    "conn = engine.connect()\n",
    "#Session = sessionmaker(bind=engine) \n",
    "#with Session() as session:\n",
    "\n",
    "azienda_df.to_sql(name='azienda', schema='public', con=engine, if_exists='append', index=False)\n",
    "comune_df.to_sql(name='comune', schema='public', con=engine, if_exists='append', index=False)\n",
    "luogo_di_interesse_df.to_sql(name='luogo_di_interesse', schema='public', con=engine, if_exists='append', index=False)\n",
    "itineraries_aziendale_no_comune_no_azienda_df.to_sql(name='itinerario_aziendale', schema='public', con=engine, if_exists='append', index=False)\n",
    "itineraries_culinario_no_comune_df.to_sql(name='itinerario_culinario', schema='public', con=engine, if_exists='append', index=False)\n",
    "itineraries_culturale_no_comune_no_luogo_di_interesse_df.to_sql(name='itinerario_culturale', schema='public', con=engine, if_exists='append', index=False)\n",
    "\n",
    "conn.close()"
   ]
  },
  {
   "cell_type": "code",
   "execution_count": null,
   "id": "e4f27416",
   "metadata": {},
   "outputs": [],
   "source": []
  }
 ],
 "metadata": {
  "kernelspec": {
   "display_name": "Python 3 (ipykernel)",
   "language": "python",
   "name": "python3"
  },
  "language_info": {
   "codemirror_mode": {
    "name": "ipython",
    "version": 3
   },
   "file_extension": ".py",
   "mimetype": "text/x-python",
   "name": "python",
   "nbconvert_exporter": "python",
   "pygments_lexer": "ipython3",
   "version": "3.10.2"
  }
 },
 "nbformat": 4,
 "nbformat_minor": 5
}
