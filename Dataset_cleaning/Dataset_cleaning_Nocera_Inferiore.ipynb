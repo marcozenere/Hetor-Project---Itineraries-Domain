{
 "cells": [
  {
   "cell_type": "code",
   "execution_count": 1,
   "id": "f5658ebf",
   "metadata": {
    "cell_id": "00000-3a0d56c0-9d47-4b29-aefd-afe675c8e717",
    "deepnote_cell_type": "code",
    "deepnote_to_be_reexecuted": false,
    "execution_millis": 1723,
    "execution_start": 1641769429003,
    "source_hash": "5302ac93"
   },
   "outputs": [],
   "source": [
    "import pandas as pd\n",
    "from data_cleaning_util import *"
   ]
  },
  {
   "cell_type": "markdown",
   "id": "85e01638",
   "metadata": {
    "cell_id": "00007-bfd8a0ac-faed-4e8c-bdee-e3f180fa18f9",
    "deepnote_cell_type": "markdown"
   },
   "source": [
    "# Dataset itineraries-NoceraInferiore"
   ]
  },
  {
   "cell_type": "code",
   "execution_count": 2,
   "id": "f614a974",
   "metadata": {
    "cell_id": "00008-646b413f-e966-474f-91ff-6c84c78d7da7",
    "deepnote_cell_type": "code",
    "deepnote_to_be_reexecuted": false,
    "execution_millis": 15,
    "execution_start": 1641769430729,
    "source_hash": "82290fa3"
   },
   "outputs": [],
   "source": [
    "itineraries_nocera_inferiore_df = pd.read_csv('../Dataset/itineraries-NoceraInferiore.csv')"
   ]
  },
  {
   "cell_type": "code",
   "execution_count": 3,
   "id": "07ae123c",
   "metadata": {
    "cell_id": "00009-05db8bdc-13b7-48de-852a-37b2dd052554",
    "deepnote_cell_type": "code",
    "deepnote_output_heights": [
     264
    ],
    "deepnote_to_be_reexecuted": false,
    "execution_millis": 19,
    "execution_start": 1641769430751,
    "source_hash": "eb2d12da",
    "tags": []
   },
   "outputs": [
    {
     "name": "stdout",
     "output_type": "stream",
     "text": [
      "<class 'pandas.core.frame.DataFrame'>\n",
      "RangeIndex: 22 entries, 0 to 21\n",
      "Data columns (total 14 columns):\n",
      " #   Column                        Non-Null Count  Dtype  \n",
      "---  ------                        --------------  -----  \n",
      " 0   Città                         22 non-null     object \n",
      " 1   Località                      21 non-null     object \n",
      " 2   Via                           22 non-null     object \n",
      " 3   Sito/definizione manufatto    22 non-null     object \n",
      " 4   Epoca prima attestazione      22 non-null     object \n",
      " 5   Itinerario (periodo)          22 non-null     object \n",
      " 6   Infomrazioni                  22 non-null     object \n",
      " 7   geolocalizzazione             22 non-null     object \n",
      " 8   URL immagine                  11 non-null     object \n",
      " 9   Bibliografia                  22 non-null     object \n",
      " 10  Sitografia                    0 non-null      float64\n",
      " 11  Tipologia edificio            22 non-null     object \n",
      " 12  Rifunzionalizzato             22 non-null     object \n",
      " 13  Tipo di rifunzionalizzazione  22 non-null     object \n",
      "dtypes: float64(1), object(13)\n",
      "memory usage: 2.5+ KB\n"
     ]
    }
   ],
   "source": [
    "itineraries_nocera_inferiore_df.info()"
   ]
  },
  {
   "cell_type": "code",
   "execution_count": 4,
   "id": "3aabd94b",
   "metadata": {
    "cell_id": "00010-a473a7f1-35cf-4238-9d10-c779818ed62b",
    "deepnote_cell_type": "code",
    "deepnote_output_heights": [
     177
    ],
    "deepnote_to_be_reexecuted": false,
    "execution_millis": 177,
    "execution_start": 1641769430781,
    "source_hash": "ecd1f54c"
   },
   "outputs": [
    {
     "data": {
      "text/html": [
       "<div>\n",
       "<style scoped>\n",
       "    .dataframe tbody tr th:only-of-type {\n",
       "        vertical-align: middle;\n",
       "    }\n",
       "\n",
       "    .dataframe tbody tr th {\n",
       "        vertical-align: top;\n",
       "    }\n",
       "\n",
       "    .dataframe thead th {\n",
       "        text-align: right;\n",
       "    }\n",
       "</style>\n",
       "<table border=\"1\" class=\"dataframe\">\n",
       "  <thead>\n",
       "    <tr style=\"text-align: right;\">\n",
       "      <th></th>\n",
       "      <th>Città</th>\n",
       "      <th>Località</th>\n",
       "      <th>Via</th>\n",
       "      <th>Sito/definizione manufatto</th>\n",
       "      <th>Epoca prima attestazione</th>\n",
       "      <th>Itinerario (periodo)</th>\n",
       "      <th>Infomrazioni</th>\n",
       "      <th>geolocalizzazione</th>\n",
       "      <th>URL immagine</th>\n",
       "      <th>Bibliografia</th>\n",
       "      <th>Sitografia</th>\n",
       "      <th>Tipologia edificio</th>\n",
       "      <th>Rifunzionalizzato</th>\n",
       "      <th>Tipo di rifunzionalizzazione</th>\n",
       "    </tr>\n",
       "  </thead>\n",
       "  <tbody>\n",
       "    <tr>\n",
       "      <th>0</th>\n",
       "      <td>Nocera Inferiore</td>\n",
       "      <td>Collina del parco</td>\n",
       "      <td>via del Parco</td>\n",
       "      <td>Castello del Parco</td>\n",
       "      <td>994</td>\n",
       "      <td>Medievale</td>\n",
       "      <td>Il castello fu molto importante sin dalla sua ...</td>\n",
       "      <td>40.74970319867134,14.642455279827118</td>\n",
       "      <td>https://upload.wikimedia.org/wikipedia/commons...</td>\n",
       "      <td>Corolla A, Fiorillo R. (eds.), Nocera. Il cast...</td>\n",
       "      <td>NaN</td>\n",
       "      <td>Rudere, residenza signorile</td>\n",
       "      <td>Si</td>\n",
       "      <td>Nessuno</td>\n",
       "    </tr>\n",
       "    <tr>\n",
       "      <th>1</th>\n",
       "      <td>Nocera Inferiore</td>\n",
       "      <td>Vescovado</td>\n",
       "      <td>Via S.Prisco</td>\n",
       "      <td>Chiesa Cattedrale</td>\n",
       "      <td>955 d.C</td>\n",
       "      <td>Medievale</td>\n",
       "      <td>Dalle pergamene cavesi si ha testimonianza del...</td>\n",
       "      <td>40.73801815509796,14.65237408876419</td>\n",
       "      <td>https://upload.wikimedia.org/wikipedia/commons...</td>\n",
       "      <td>Ruggiero G.,L'Abbazia di San Prisco di Nocera:...</td>\n",
       "      <td>NaN</td>\n",
       "      <td>Edificio religioso</td>\n",
       "      <td>No</td>\n",
       "      <td>Nessuno</td>\n",
       "    </tr>\n",
       "    <tr>\n",
       "      <th>2</th>\n",
       "      <td>Nocera Inferiore</td>\n",
       "      <td>Collina del Parco</td>\n",
       "      <td>Via S.Anna</td>\n",
       "      <td>Convento</td>\n",
       "      <td>1282</td>\n",
       "      <td>Medievale</td>\n",
       "      <td>Appartenuti da sempre alle suore Domenicane la...</td>\n",
       "      <td>40.749696493148804,14.639217853546144</td>\n",
       "      <td>https://upload.wikimedia.org/wikipedia/commons...</td>\n",
       "      <td>fonti estratte dalla brochure di Monumenti por...</td>\n",
       "      <td>NaN</td>\n",
       "      <td>Edificio religioso</td>\n",
       "      <td>No</td>\n",
       "      <td>Nessuno</td>\n",
       "    </tr>\n",
       "    <tr>\n",
       "      <th>3</th>\n",
       "      <td>Nocera Inferiore</td>\n",
       "      <td>Centro</td>\n",
       "      <td>Corso Vittorio Emanuele II</td>\n",
       "      <td>Area archeologica</td>\n",
       "      <td>II a. C. - V d. C.</td>\n",
       "      <td>Antico</td>\n",
       "      <td>Il sito di Piazza del Corso è stato oggetto di...</td>\n",
       "      <td>40.74289977550507,14.63829517364502</td>\n",
       "      <td>https://upload.wikimedia.org/wikipedia/commons...</td>\n",
       "      <td>Fonti estratte dalla brochure di Monumenti por...</td>\n",
       "      <td>NaN</td>\n",
       "      <td>Area archeologica</td>\n",
       "      <td>No</td>\n",
       "      <td>Nessuno</td>\n",
       "    </tr>\n",
       "    <tr>\n",
       "      <th>4</th>\n",
       "      <td>Nocera Inferiore</td>\n",
       "      <td>Centro</td>\n",
       "      <td>Corso Vittorio Emanuele II</td>\n",
       "      <td>Edicola funeraria di Fructus</td>\n",
       "      <td>Fonti sconosciute</td>\n",
       "      <td>Antico</td>\n",
       "      <td>Edicola funeraria di epoca romana appartenuta ...</td>\n",
       "      <td>40.742673128843315,14.639877676963808</td>\n",
       "      <td>http://spod.databenc.it:8001/images/5d2e753f-c...</td>\n",
       "      <td>Fortunato M., Kajava M., Magalhaes M.M.. Su un...</td>\n",
       "      <td>NaN</td>\n",
       "      <td>Stele funeraria</td>\n",
       "      <td>si</td>\n",
       "      <td>Museo cittadino</td>\n",
       "    </tr>\n",
       "  </tbody>\n",
       "</table>\n",
       "</div>"
      ],
      "text/plain": [
       "              Città           Località                         Via  \\\n",
       "0  Nocera Inferiore  Collina del parco               via del Parco   \n",
       "1  Nocera Inferiore          Vescovado                Via S.Prisco   \n",
       "2  Nocera Inferiore  Collina del Parco                  Via S.Anna   \n",
       "3  Nocera Inferiore             Centro  Corso Vittorio Emanuele II   \n",
       "4  Nocera Inferiore             Centro  Corso Vittorio Emanuele II   \n",
       "\n",
       "     Sito/definizione manufatto Epoca prima attestazione Itinerario (periodo)  \\\n",
       "0            Castello del Parco                      994            Medievale   \n",
       "1             Chiesa Cattedrale                  955 d.C            Medievale   \n",
       "2                      Convento                     1282            Medievale   \n",
       "3             Area archeologica       II a. C. - V d. C.               Antico   \n",
       "4  Edicola funeraria di Fructus        Fonti sconosciute               Antico   \n",
       "\n",
       "                                        Infomrazioni  \\\n",
       "0  Il castello fu molto importante sin dalla sua ...   \n",
       "1  Dalle pergamene cavesi si ha testimonianza del...   \n",
       "2  Appartenuti da sempre alle suore Domenicane la...   \n",
       "3  Il sito di Piazza del Corso è stato oggetto di...   \n",
       "4  Edicola funeraria di epoca romana appartenuta ...   \n",
       "\n",
       "                       geolocalizzazione  \\\n",
       "0   40.74970319867134,14.642455279827118   \n",
       "1    40.73801815509796,14.65237408876419   \n",
       "2  40.749696493148804,14.639217853546144   \n",
       "3    40.74289977550507,14.63829517364502   \n",
       "4  40.742673128843315,14.639877676963808   \n",
       "\n",
       "                                        URL immagine  \\\n",
       "0  https://upload.wikimedia.org/wikipedia/commons...   \n",
       "1  https://upload.wikimedia.org/wikipedia/commons...   \n",
       "2  https://upload.wikimedia.org/wikipedia/commons...   \n",
       "3  https://upload.wikimedia.org/wikipedia/commons...   \n",
       "4  http://spod.databenc.it:8001/images/5d2e753f-c...   \n",
       "\n",
       "                                        Bibliografia  Sitografia  \\\n",
       "0  Corolla A, Fiorillo R. (eds.), Nocera. Il cast...         NaN   \n",
       "1  Ruggiero G.,L'Abbazia di San Prisco di Nocera:...         NaN   \n",
       "2  fonti estratte dalla brochure di Monumenti por...         NaN   \n",
       "3  Fonti estratte dalla brochure di Monumenti por...         NaN   \n",
       "4  Fortunato M., Kajava M., Magalhaes M.M.. Su un...         NaN   \n",
       "\n",
       "            Tipologia edificio Rifunzionalizzato Tipo di rifunzionalizzazione  \n",
       "0  Rudere, residenza signorile                Si                      Nessuno  \n",
       "1           Edificio religioso                No                      Nessuno  \n",
       "2           Edificio religioso                No                      Nessuno  \n",
       "3            Area archeologica                No                      Nessuno  \n",
       "4              Stele funeraria                si              Museo cittadino  "
      ]
     },
     "execution_count": 4,
     "metadata": {},
     "output_type": "execute_result"
    }
   ],
   "source": [
    "itineraries_nocera_inferiore_df.head(5)"
   ]
  },
  {
   "cell_type": "code",
   "execution_count": 5,
   "id": "6582e921",
   "metadata": {
    "cell_id": "00011-cacfa248-80cb-44b8-b4bc-2e87d9e1c802",
    "deepnote_cell_type": "code",
    "deepnote_output_heights": [
     174.6875
    ],
    "deepnote_to_be_reexecuted": false,
    "execution_millis": 1172829,
    "execution_start": 1641769430975,
    "source_hash": "568815a4",
    "tags": []
   },
   "outputs": [
    {
     "name": "stdout",
     "output_type": "stream",
     "text": [
      "Number of columns 14\n",
      "Index(['Città', 'Località', 'Via', 'Sito/definizione manufatto',\n",
      "       'Epoca prima attestazione', 'Itinerario (periodo)', 'Infomrazioni',\n",
      "       'geolocalizzazione', 'URL immagine', 'Bibliografia', 'Sitografia',\n",
      "       'Tipologia edificio', 'Rifunzionalizzato',\n",
      "       'Tipo di rifunzionalizzazione'],\n",
      "      dtype='object'))\n"
     ]
    }
   ],
   "source": [
    "print(f\"Number of columns {len(itineraries_nocera_inferiore_df.columns)}\\n{itineraries_nocera_inferiore_df.columns})\")"
   ]
  },
  {
   "cell_type": "markdown",
   "id": "2ab666b8",
   "metadata": {
    "cell_id": "00012-8f5236d3-8ccb-4a07-a617-cf9a0a1f83e5",
    "deepnote_cell_type": "markdown",
    "tags": []
   },
   "source": [
    "## Correction to do:\n",
    "\n",
    "1. Municipality - Città - align it with official municipality names (e.g., https://www.istat.it/storage/codici-unita-amministrative/Elenco-comuni-italiani.xls)\n",
    "2. Location - Località - remove extra spaces,  remove abbreviations, deal with empty values as NULL\n",
    "3. Address - Via - split it on multiple columns reporting (zip code, street, municipality, country, etc.) \n",
    "4. Site type - Sito/definizione manufatto - check value consistency\n",
    "5. Epoch of first certification - Epoca prima attestazione - deal with empty values\n",
    "6. Itinerary period - Itinerario (periodo) - check consistency\n",
    "7. Details - Infomrazioni - replace NON DISPONIBILE/empty values with NULL + clean values (e.g., numbers) correct label to Informazioni\n",
    "8. Localization - Geolocalizzazione - consider the possibility to split it in longitude and latitude + replace NON DISPONIBILE/empty values with NULL + check suspicious values\n",
    "9. Image - URL Immagine -  replace NON DISPONIBILE/empty values with NULL \n",
    "10. Bibliography - Bibliography -  replace NON DISPONIBILE/empty values with NULL \n",
    "11. Site - Sitografia -  replace NON DISPONIBILE/empty values with NULL \n",
    "12. Building type - Tipologia edificio - check value consistency\n",
    "13. Novel usage - Rifunzionalizzato -  check value consistency + replace empty values with NULL\n",
    "14. Usage type - Tipo di rifunzionalizzazione -  replace NESSUNO/empty values with NULL"
   ]
  },
  {
   "cell_type": "markdown",
   "id": "b152c60d",
   "metadata": {
    "cell_id": "00013-84b4e31d-1e80-4651-a8bd-8a0c729ec148",
    "deepnote_cell_type": "markdown",
    "tags": []
   },
   "source": [
    "### Fill Na with NULL"
   ]
  },
  {
   "cell_type": "code",
   "execution_count": 6,
   "id": "863fdfeb",
   "metadata": {
    "cell_id": "00014-25702cd2-9609-4f55-a081-9f4adcaf1acd",
    "deepnote_cell_type": "code",
    "deepnote_to_be_reexecuted": false,
    "execution_millis": 1172786,
    "execution_start": 1641769431030,
    "source_hash": "3c37f171",
    "tags": []
   },
   "outputs": [],
   "source": [
    "itineraries_nocera_inferiore_df = itineraries_nocera_inferiore_df.fillna(NULL_VALUE)"
   ]
  },
  {
   "cell_type": "markdown",
   "id": "7fc9311f",
   "metadata": {
    "cell_id": "00015-21c369d3-0ea5-469b-9be0-55805224dd80",
    "deepnote_cell_type": "markdown"
   },
   "source": [
    "### 1. Municipality - Città - align it with official municipality names\n"
   ]
  },
  {
   "cell_type": "code",
   "execution_count": 7,
   "id": "1a4cdd27",
   "metadata": {
    "cell_id": "00016-ac837331-a661-4d34-97a6-1d6494853d7c",
    "deepnote_cell_type": "code",
    "deepnote_output_heights": [
     117.125
    ],
    "deepnote_to_be_reexecuted": false,
    "execution_millis": 109,
    "execution_start": 1641769431030,
    "source_hash": "1ace7814"
   },
   "outputs": [
    {
     "data": {
      "text/plain": [
       "Corbara                          1\n",
       "Nocera Inferiore                12\n",
       "Nocera Superiore                 3\n",
       "Pagani                           5\n",
       "Sant'Egidio del Monte Albino     1\n",
       "Name: Città, dtype: int64"
      ]
     },
     "execution_count": 7,
     "metadata": {},
     "output_type": "execute_result"
    }
   ],
   "source": [
    "itineraries_nocera_inferiore_df['Città'] = itineraries_nocera_inferiore_df['Città'].apply(lambda x: municipality_alignment(comune=x,\\\n",
    "                                                                                comuni_istat_ita_list=comuni_istat_ita_list,\\\n",
    "                                                                                comuni_istat_altra_lingua_list=comuni_istat_altra_lingua_list,\\\n",
    "                                                                                comuni_istat_ita_e_straniero_list=comuni_istat_ita_e_straniero_list,\\\n",
    "                                                                                null_value=NULL_VALUE, \\\n",
    "                                                                                max_levenshtein_distance=2))\n",
    "\n",
    "itineraries_nocera_inferiore_df['Città'].value_counts().sort_index()"
   ]
  },
  {
   "cell_type": "markdown",
   "id": "85212e80",
   "metadata": {
    "cell_id": "00017-545290c7-2b65-4629-ade3-b215fc7186bb",
    "deepnote_cell_type": "markdown",
    "tags": []
   },
   "source": [
    "### 2. Location - Località - remove extra spaces,  remove abbreviations, deal with empty values as NULL"
   ]
  },
  {
   "cell_type": "code",
   "execution_count": 8,
   "id": "7f260d5c",
   "metadata": {
    "cell_id": "00018-58e9a803-fb33-40bd-a5f7-b234507bb9e3",
    "deepnote_cell_type": "code",
    "deepnote_output_heights": [
     289.8125
    ],
    "deepnote_to_be_reexecuted": false,
    "execution_millis": 40,
    "execution_start": 1641769431140,
    "source_hash": "d977430b",
    "tags": []
   },
   "outputs": [
    {
     "data": {
      "text/plain": [
       "Area Periferica Tra Pagani E Nocera Inferiore    1\n",
       "Borgo                                            3\n",
       "Borgo Sola                                       1\n",
       "Casolla                                          1\n",
       "Centro                                           2\n",
       "Collina Del Parco                                3\n",
       "Mercato                                          1\n",
       "NULL                                             1\n",
       "Pagani Centro Città                              4\n",
       "Pizzone                                          1\n",
       "S. Chiara                                        1\n",
       "Sant'Egidio Del Monte Albino                     1\n",
       "Santa Maria Maggiore                             1\n",
       "Vescovado                                        1\n",
       "Name: Località, dtype: int64"
      ]
     },
     "execution_count": 8,
     "metadata": {},
     "output_type": "execute_result"
    }
   ],
   "source": [
    "itineraries_nocera_inferiore_df['Località'] = itineraries_nocera_inferiore_df['Località'].str.replace(\"/\", \" / \", regex=False)\n",
    "itineraries_nocera_inferiore_df['Località'] = itineraries_nocera_inferiore_df['Località'].apply(lambda x: remove_extra_spaces(x))\n",
    "itineraries_nocera_inferiore_df['Località'] = itineraries_nocera_inferiore_df['Località'].str.title()\n",
    "itineraries_nocera_inferiore_df['Località'] = itineraries_nocera_inferiore_df['Località'].str.replace(NULL_VALUE.title(), NULL_VALUE, regex=False)\n",
    "itineraries_nocera_inferiore_df['Località'].value_counts().sort_index()"
   ]
  },
  {
   "cell_type": "markdown",
   "id": "196d2f5f",
   "metadata": {
    "cell_id": "00019-2878bd4b-7dd5-4252-ae4a-c91034077c2f",
    "deepnote_cell_type": "markdown",
    "tags": []
   },
   "source": [
    "### 3. Address - Via - split it on multiple columns reporting (zip code, street, municipality, country, etc.) \n"
   ]
  },
  {
   "cell_type": "code",
   "execution_count": 9,
   "id": "fc1e6936",
   "metadata": {
    "cell_id": "00015-861b5586-9e65-4570-8dce-b37e7dcba11e",
    "deepnote_cell_type": "code",
    "deepnote_output_heights": [
     404.9375
    ],
    "deepnote_to_be_reexecuted": false,
    "execution_millis": 0,
    "execution_start": 1641769431187,
    "source_hash": "889c3d3d",
    "tags": []
   },
   "outputs": [
    {
     "data": {
      "text/plain": [
       "Corso Ettore Padovano            1\n",
       "Corso Vittorio Emanuele Ii       2\n",
       "Piazza Corpo Di Cristo           1\n",
       "Piazza S. Alfonso                1\n",
       "Piazza Zonardelli                1\n",
       "Santa Maria Maggiore             1\n",
       "Stradale 18                      1\n",
       "Via Carmine                      1\n",
       "Via Casolla                      1\n",
       "Via Del Parco                    2\n",
       "Via F. Solimena                  1\n",
       "Via Francesco Ferraioli          1\n",
       "Via Francesco Solimena           1\n",
       "Via Franceso Robuffo Giordano    1\n",
       "Via Piazza S. Antonio            1\n",
       "Via Raffaele Libroia             1\n",
       "Via S. Anna                      1\n",
       "Via S. Prisco                    1\n",
       "Via Striano                      1\n",
       "Viale Del Santuario              1\n",
       "Name: Via, dtype: int64"
      ]
     },
     "execution_count": 9,
     "metadata": {},
     "output_type": "execute_result"
    }
   ],
   "source": [
    "itineraries_nocera_inferiore_df['Via'] = itineraries_nocera_inferiore_df['Via'].str.replace(\".\", \". \", regex=False)\n",
    "itineraries_nocera_inferiore_df['Via'] = itineraries_nocera_inferiore_df['Via'].apply(lambda x: remove_extra_spaces(x))\n",
    "itineraries_nocera_inferiore_df['Via'] = itineraries_nocera_inferiore_df['Via'].str.title()\n",
    "itineraries_nocera_inferiore_df['Via'] = itineraries_nocera_inferiore_df['Via'].str.replace(NULL_VALUE.title(), NULL_VALUE, regex=False)\n",
    "itineraries_nocera_inferiore_df['Via'].value_counts().sort_index()"
   ]
  },
  {
   "cell_type": "code",
   "execution_count": 10,
   "id": "1a2138ff",
   "metadata": {
    "cell_id": "00020-b51d15d6-be88-47c7-8ef6-12fce4ca7cd2",
    "deepnote_cell_type": "code",
    "deepnote_output_heights": [
     611
    ],
    "deepnote_to_be_reexecuted": false,
    "execution_millis": 185,
    "execution_start": 1641769431238,
    "source_hash": "9572c30a",
    "tags": []
   },
   "outputs": [
    {
     "data": {
      "text/html": [
       "<div>\n",
       "<style scoped>\n",
       "    .dataframe tbody tr th:only-of-type {\n",
       "        vertical-align: middle;\n",
       "    }\n",
       "\n",
       "    .dataframe tbody tr th {\n",
       "        vertical-align: top;\n",
       "    }\n",
       "\n",
       "    .dataframe thead th {\n",
       "        text-align: right;\n",
       "    }\n",
       "</style>\n",
       "<table border=\"1\" class=\"dataframe\">\n",
       "  <thead>\n",
       "    <tr style=\"text-align: right;\">\n",
       "      <th></th>\n",
       "      <th>Via</th>\n",
       "      <th>Cap</th>\n",
       "      <th>Provincia</th>\n",
       "      <th>Regione</th>\n",
       "    </tr>\n",
       "  </thead>\n",
       "  <tbody>\n",
       "    <tr>\n",
       "      <th>0</th>\n",
       "      <td>Via Del Parco</td>\n",
       "      <td>84014</td>\n",
       "      <td>SA</td>\n",
       "      <td>Campania</td>\n",
       "    </tr>\n",
       "    <tr>\n",
       "      <th>1</th>\n",
       "      <td>Via S. Prisco</td>\n",
       "      <td>84014</td>\n",
       "      <td>SA</td>\n",
       "      <td>Campania</td>\n",
       "    </tr>\n",
       "    <tr>\n",
       "      <th>2</th>\n",
       "      <td>Via S. Anna</td>\n",
       "      <td>84014</td>\n",
       "      <td>SA</td>\n",
       "      <td>Campania</td>\n",
       "    </tr>\n",
       "    <tr>\n",
       "      <th>3</th>\n",
       "      <td>Corso Vittorio Emanuele Ii</td>\n",
       "      <td>84014</td>\n",
       "      <td>SA</td>\n",
       "      <td>Campania</td>\n",
       "    </tr>\n",
       "    <tr>\n",
       "      <th>5</th>\n",
       "      <td>Via F. Solimena</td>\n",
       "      <td>84014</td>\n",
       "      <td>SA</td>\n",
       "      <td>Campania</td>\n",
       "    </tr>\n",
       "    <tr>\n",
       "      <th>7</th>\n",
       "      <td>Via Piazza S. Antonio</td>\n",
       "      <td>84014</td>\n",
       "      <td>SA</td>\n",
       "      <td>Campania</td>\n",
       "    </tr>\n",
       "    <tr>\n",
       "      <th>8</th>\n",
       "      <td>Via Raffaele Libroia</td>\n",
       "      <td>84014</td>\n",
       "      <td>SA</td>\n",
       "      <td>Campania</td>\n",
       "    </tr>\n",
       "    <tr>\n",
       "      <th>9</th>\n",
       "      <td>Via Franceso Robuffo Giordano</td>\n",
       "      <td>84010</td>\n",
       "      <td>SA</td>\n",
       "      <td>Campania</td>\n",
       "    </tr>\n",
       "    <tr>\n",
       "      <th>10</th>\n",
       "      <td>Piazza Corpo Di Cristo</td>\n",
       "      <td>84016</td>\n",
       "      <td>SA</td>\n",
       "      <td>Campania</td>\n",
       "    </tr>\n",
       "    <tr>\n",
       "      <th>11</th>\n",
       "      <td>Via Carmine</td>\n",
       "      <td>84016</td>\n",
       "      <td>SA</td>\n",
       "      <td>Campania</td>\n",
       "    </tr>\n",
       "    <tr>\n",
       "      <th>12</th>\n",
       "      <td>Santa Maria Maggiore</td>\n",
       "      <td>84015</td>\n",
       "      <td>SA</td>\n",
       "      <td>Campania</td>\n",
       "    </tr>\n",
       "    <tr>\n",
       "      <th>13</th>\n",
       "      <td>Viale Del Santuario</td>\n",
       "      <td>84015</td>\n",
       "      <td>SA</td>\n",
       "      <td>Campania</td>\n",
       "    </tr>\n",
       "    <tr>\n",
       "      <th>14</th>\n",
       "      <td>Stradale 18</td>\n",
       "      <td>84015</td>\n",
       "      <td>SA</td>\n",
       "      <td>Campania</td>\n",
       "    </tr>\n",
       "    <tr>\n",
       "      <th>15</th>\n",
       "      <td>Via Casolla</td>\n",
       "      <td>84014</td>\n",
       "      <td>SA</td>\n",
       "      <td>Campania</td>\n",
       "    </tr>\n",
       "    <tr>\n",
       "      <th>16</th>\n",
       "      <td>Via Francesco Solimena</td>\n",
       "      <td>84014</td>\n",
       "      <td>SA</td>\n",
       "      <td>Campania</td>\n",
       "    </tr>\n",
       "    <tr>\n",
       "      <th>17</th>\n",
       "      <td>Piazza Zonardelli</td>\n",
       "      <td>84014</td>\n",
       "      <td>SA</td>\n",
       "      <td>Campania</td>\n",
       "    </tr>\n",
       "    <tr>\n",
       "      <th>18</th>\n",
       "      <td>Piazza S. Alfonso</td>\n",
       "      <td>84016</td>\n",
       "      <td>SA</td>\n",
       "      <td>Campania</td>\n",
       "    </tr>\n",
       "    <tr>\n",
       "      <th>19</th>\n",
       "      <td>Via Francesco Ferraioli</td>\n",
       "      <td>84010</td>\n",
       "      <td>SA</td>\n",
       "      <td>Campania</td>\n",
       "    </tr>\n",
       "    <tr>\n",
       "      <th>20</th>\n",
       "      <td>Corso Ettore Padovano</td>\n",
       "      <td>84016</td>\n",
       "      <td>SA</td>\n",
       "      <td>Campania</td>\n",
       "    </tr>\n",
       "    <tr>\n",
       "      <th>21</th>\n",
       "      <td>Via Striano</td>\n",
       "      <td>84016</td>\n",
       "      <td>SA</td>\n",
       "      <td>Campania</td>\n",
       "    </tr>\n",
       "  </tbody>\n",
       "</table>\n",
       "</div>"
      ],
      "text/plain": [
       "                              Via    Cap Provincia   Regione\n",
       "0                   Via Del Parco  84014        SA  Campania\n",
       "1                   Via S. Prisco  84014        SA  Campania\n",
       "2                     Via S. Anna  84014        SA  Campania\n",
       "3      Corso Vittorio Emanuele Ii  84014        SA  Campania\n",
       "5                 Via F. Solimena  84014        SA  Campania\n",
       "7           Via Piazza S. Antonio  84014        SA  Campania\n",
       "8            Via Raffaele Libroia  84014        SA  Campania\n",
       "9   Via Franceso Robuffo Giordano  84010        SA  Campania\n",
       "10         Piazza Corpo Di Cristo  84016        SA  Campania\n",
       "11                    Via Carmine  84016        SA  Campania\n",
       "12           Santa Maria Maggiore  84015        SA  Campania\n",
       "13            Viale Del Santuario  84015        SA  Campania\n",
       "14                    Stradale 18  84015        SA  Campania\n",
       "15                    Via Casolla  84014        SA  Campania\n",
       "16         Via Francesco Solimena  84014        SA  Campania\n",
       "17              Piazza Zonardelli  84014        SA  Campania\n",
       "18              Piazza S. Alfonso  84016        SA  Campania\n",
       "19        Via Francesco Ferraioli  84010        SA  Campania\n",
       "20          Corso Ettore Padovano  84016        SA  Campania\n",
       "21                    Via Striano  84016        SA  Campania"
      ]
     },
     "execution_count": 10,
     "metadata": {},
     "output_type": "execute_result"
    }
   ],
   "source": [
    "temp_separator = \";;\"\n",
    "itineraries_nocera_inferiore_df['Temp'] = itineraries_nocera_inferiore_df['Città'].apply(lambda x: temp_separator.join(getAddressInfo(comune=map_comune_to_elenco_comuni_cap(x), elenco_comuni_cap=elenco_comuni_cap)))\n",
    "itineraries_nocera_inferiore_df[['Cap','Provincia','Regione']] = itineraries_nocera_inferiore_df.Temp.str.split(temp_separator, expand=True)\n",
    "itineraries_nocera_inferiore_df = itineraries_nocera_inferiore_df.drop(['Temp'], axis=1)\n",
    "\n",
    "itineraries_nocera_inferiore_df.drop_duplicates(subset = ['Via', 'Cap','Provincia','Regione'])[['Via', 'Cap','Provincia','Regione']]\n"
   ]
  },
  {
   "cell_type": "markdown",
   "id": "f476efd8",
   "metadata": {
    "cell_id": "00021-28d2206e-40d9-4801-86c0-510f8349e633",
    "deepnote_cell_type": "markdown",
    "tags": []
   },
   "source": [
    "### 4. Site type - Sito/definizione manufatto - check value consistency"
   ]
  },
  {
   "cell_type": "code",
   "execution_count": 11,
   "id": "71e6fa36",
   "metadata": {
    "cell_id": "00022-7a268493-6346-44fb-b1d4-04dd38583c1f",
    "deepnote_cell_type": "code",
    "deepnote_output_heights": [
     289.8125
    ],
    "deepnote_to_be_reexecuted": false,
    "execution_millis": 3,
    "execution_start": 1641769431421,
    "source_hash": "5036cbbc",
    "tags": []
   },
   "outputs": [
    {
     "data": {
      "text/plain": [
       "Area archeologica               1\n",
       "Basilica                        1\n",
       "Battistero paleocristiano       1\n",
       "Cappella                        1\n",
       "Castello del Parco              1\n",
       "Chiesa                          6\n",
       "Chiesa\\Cappella                 1\n",
       "Chiesa\\Cattedrale               1\n",
       "Chiesa\\Convento                 2\n",
       "Chiesa\\Santuario                1\n",
       "Convento                        3\n",
       "Edicola funeraria di Fructus    1\n",
       "Edificio militare               1\n",
       "Museo archeologico              1\n",
       "Name: Sito/definizione manufatto, dtype: int64"
      ]
     },
     "execution_count": 11,
     "metadata": {},
     "output_type": "execute_result"
    }
   ],
   "source": [
    "itineraries_nocera_inferiore_df['Sito/definizione manufatto'] = itineraries_nocera_inferiore_df['Sito/definizione manufatto'].str.replace(\"Chiesa\\ Santuario\", \"Chiesa\\Santuario\", regex=False)\n",
    "itineraries_nocera_inferiore_df['Sito/definizione manufatto'] = itineraries_nocera_inferiore_df['Sito/definizione manufatto'].str.replace(\"Chiesa Cattedrale\", \"Chiesa\\Cattedrale\", regex=False)\n",
    "itineraries_nocera_inferiore_df['Sito/definizione manufatto'].value_counts().sort_index()"
   ]
  },
  {
   "cell_type": "markdown",
   "id": "84108f39",
   "metadata": {
    "cell_id": "00023-05a7500c-b10b-41d0-b29a-189093d5ba6b",
    "deepnote_cell_type": "markdown",
    "tags": []
   },
   "source": [
    "### 5. Epoch of first certification - Epoca prima attestazione - deal with empty values"
   ]
  },
  {
   "cell_type": "code",
   "execution_count": 12,
   "id": "a15f2053",
   "metadata": {
    "cell_id": "00024-693d1085-999a-45e9-93ef-ad03886ef2b4",
    "deepnote_cell_type": "code",
    "deepnote_output_heights": [
     366.5625
    ],
    "deepnote_to_be_reexecuted": false,
    "execution_millis": 2,
    "execution_start": 1641769431422,
    "source_hash": "7a1e8b82",
    "tags": []
   },
   "outputs": [
    {
     "data": {
      "text/plain": [
       "1000                  1\n",
       "1256-1290             1\n",
       "1282                  1\n",
       "1283                  1\n",
       "1515                  1\n",
       "1563                  1\n",
       "90 a.C.               1\n",
       "955 d.C               1\n",
       "994                   1\n",
       "Fonti sconosciute     1\n",
       "II a. C. - V d. C.    1\n",
       "XI secolo             1\n",
       "XIX secolo            2\n",
       "XV-XVI secolo         1\n",
       "XVI secolo            3\n",
       "XVII secolo           2\n",
       "XVIII secolo          1\n",
       "fine V - inizi VI     1\n",
       "Name: Epoca prima attestazione, dtype: int64"
      ]
     },
     "execution_count": 12,
     "metadata": {},
     "output_type": "execute_result"
    }
   ],
   "source": [
    "itineraries_nocera_inferiore_df['Epoca prima attestazione'].value_counts().sort_index()"
   ]
  },
  {
   "cell_type": "markdown",
   "id": "575e827d",
   "metadata": {
    "cell_id": "00025-e4a1563d-b997-4385-82e4-e9a9995aa4b1",
    "deepnote_cell_type": "markdown",
    "tags": []
   },
   "source": [
    "### 6. Itinerary period - Itinerario (periodo) - check consistency"
   ]
  },
  {
   "cell_type": "code",
   "execution_count": 13,
   "id": "a21eb5fc",
   "metadata": {
    "cell_id": "00026-0bdfdb1e-f1d6-4ac1-8422-be21ccb505c6",
    "deepnote_cell_type": "code",
    "deepnote_output_heights": [
     97.9375
    ],
    "deepnote_to_be_reexecuted": false,
    "execution_millis": 0,
    "execution_start": 1641769431466,
    "source_hash": "71d67145",
    "tags": []
   },
   "outputs": [
    {
     "data": {
      "text/plain": [
       "Antico           3\n",
       "Medievale        7\n",
       "Moderno         11\n",
       "Tardo antico     1\n",
       "Name: Itinerario (periodo), dtype: int64"
      ]
     },
     "execution_count": 13,
     "metadata": {},
     "output_type": "execute_result"
    }
   ],
   "source": [
    "itineraries_nocera_inferiore_df['Itinerario (periodo)'].value_counts().sort_index()"
   ]
  },
  {
   "cell_type": "markdown",
   "id": "dabae53f",
   "metadata": {
    "cell_id": "00027-e3015d29-a182-4b5f-b387-61345a9d2b51",
    "deepnote_cell_type": "markdown",
    "tags": []
   },
   "source": [
    "### 7. Details - Infomrazioni - replace NON DISPONIBILE/empty values with NULL + clean values (e.g., numbers) correct label to Informazioni"
   ]
  },
  {
   "cell_type": "code",
   "execution_count": 14,
   "id": "8f379878",
   "metadata": {
    "cell_id": "00028-1b831139-30ff-4bfb-a784-dd3136ffa3ce",
    "deepnote_cell_type": "code",
    "deepnote_output_heights": [
     443.3125
    ],
    "deepnote_to_be_reexecuted": false,
    "execution_millis": 5,
    "execution_start": 1641769431467,
    "source_hash": "80752a8f",
    "tags": []
   },
   "outputs": [
    {
     "data": {
      "text/plain": [
       "Appartenuti da sempre alle suore domenicane la chiesa e il convento di s.anna furono costruiti nel 1282,su commissione del vescovo di capaccio pietro nonchè consigliere del re angioino carlo ii. le sue imponenti dimensioni mostrano le tracce di una serie di trasformazioni,la più importante delle quali è quella del 1685-1686,dovuta alle conseguenze di un disastroso terremoto. infatti delle originarie forme gotiche restano tracce nelle mura esterne,in alcuni settori del convento e un bel portale d'ingresso alla chiesa. inoltre ci rimangono alcuni affreschi del tardo '300 e primo '400.    1\n",
       "Costruita nel 1803, la basilica di s.alfonso  è adornata da vari dipinti del '700 e '800. la struttura segue lo stile neoclassico.                                                                                                                                                                                                                                                                                                                                                                                                                                                                               1\n",
       "Costruito molto probabilmente nel 1515,appartenne ai frati benedettini virginiani;dal 1716 divenne un abbazia dipendente da montevergine. tra il 1740 ed il 1759 fu completamente ristrutturato su commisione di   mons. nicola letizia. nel 1807,soppresso il monastero, l'edifico fu acquistato da costantino amato,padre del letterato saverio costantino,che vi ospitò nel 1815 murat fuggiasco. oggi purtroppo è quasi del tutto abbandonato e rimangono solamente pochi elementi decorativi.                                                                                                               1\n",
       "Costruito nel 1563, il convento di s. andrea fu voluto dal duca alfonso i carrafa,il quale lo affidò ai frati cappuccini. subì un importante restauro nel 1614,tuttavvia ad oggi di tutte le opere che lo abbellivano, ci rimane solo la tomba di alfonso carrafa,eretta nell'atrio del convento nel 1581.                                                                                                                                                                                                                                                                                                       1\n",
       "Dalle pergamene cavesi si ha testimonianza dell esistenza di una chiesa dedicata a s.prisco,situata nel luogo dell'attuale cattedrale,già nel 955 d.c. nel corso poi del xiii secolo la chiesa incominciò a crescere notevolmente,inoltre il 10 ottobre 1384 papa urbano vi conferì alla città ed al sito ecclesiastico la dignità di sede vescocile.                                                                                                                                                                                                                                                            1\n",
       "Edicola funeraria di epoca romana appartenuta ad un tale chiamato fructus. ad oggi non ci restano che pochi resti ed un iscrizione in latino.                                                                                                                                                                                                                                                                                                                                                                                                                                                                    1\n",
       "Fondata nel 1191 dal duca di nocera francesco zurlo nel '600 fu teatro di sanguinosi scontri. all' inferla                                                                                                                                                                                                                                                                                                                                                                                                                                                                                                       1\n",
       "Fu costruita dai bizantini nella seconda metà del vi secolo. ripete la struttura del battistero di santa costanza a roma. all'interno è presente una vasca battesimale ottagonale di oltre 7 metri di diametro. nell' edificio vi sono inoltre affreschi del '300 e '400.                                                                                                                                                                                                                                                                                                                                        1\n",
       "Già esistente nel xi secolo, la chiesa della maddalena fu ricostruita tra il 1506 e il 1518. all'interno sono presenti molti quadri e affreschi del '500 e del '600.                                                                                                                                                                                                                                                                                                                                                                                                                                             1\n",
       "Il castello fu molto importante sin dalla sua fondazione. infatti non solo rappresentò un punto strategico sia per i longobardi e poi per gli angioini, ma nelle sue stanze soggiornavano personaggi del calibro di dante e boccaccio. nel '521 fu acquistato con la città dal duca tiberio corofa, tuttavia dopo la sua morte venne del tutto abbandonato fino al '800 quando venne riacquistato dai fienga. ad oggi è di proprietà del comune.                                                                                                                                                                 1\n",
       "Il santuario di maria ss. delle galline, costruito nel '600 presenta ricchi stucchi e decorazioni con un soffitto a cassettoni con 21 tele con soggetto mariano.                                                                                                                                                                                                                                                                                                                                                                                                                                                 1\n",
       "Il sito di piazza del corso è stato oggetto di indagini archeologiche  nel 1991. durante gli scavi furono portati alle luce una serie di strutture realizzate tra  il ii secolo a.c e il v secolo d.c. nel 2015 durante la sistemazione dell'area furono effettuate nuove indagini i cui risultati sono ancora in corso di studio.                                                                                                                                                                                                                                                                               1\n",
       "La cappella di s. erasmo conserva una statua ottocentesca del santo, una tela raffigurante il martirio di s. erasmo ed una statua lignea di s. lucia.                                                                                                                                                                                                                                                                                                                                                                                                                                                            1\n",
       "La cappella di san nicola, è formata da due piccole cappelle abbinate, la prima delle quali presenta un discreto pavimento ottocentesco di maiolica e un  magnifico soffitto ligneo con al centro una tela del sammartino del 1759.                                                                                                                                                                                                                                                                                                                                                                              1\n",
       "La chiesa del corpo di cristo, fueretta nel 1565 e a causa di molteplici furti, non c'è rimasto molto, se non qualche dipinto di scuola solimenica.                                                                                                                                                                                                                                                                                                                                                                                                                                                              1\n",
       "La chiesa del corpo di cristo,fu costruita nel 1554, solo nel '700 assunse l'aspetto attuale, infatti all'interno si possono trovare dipinti ed affreschi di quell'epoca.                                                                                                                                                                                                                                                                                                                                                                                                                                        1\n",
       "La chiesa di s.maria mater domini venne costruita nel 1060 e conservata da papa nicolò ii. affidata ai benedettini, nel 1631 passò ai basiliani, fino alla soppressione nel 1807, quando parte del convento venne destinata al manicomio. della vecchia chiesa sono la tela di guarino del 1615 raffigurante la vergine e altre di francesco solimena.                                                                                                                                                                                                                                                           1\n",
       "La chiesa di santa chiara appartenuta da sempre alle clarisse,risale agli ultimi anni del '200 e ha avuto per secoli una notevle importanza come centro di spiritualità ed anche per le ricchezze accumulate. soppresso dopo l'unità,fu nel 1905 riacquistato dalle suore,che peraltro non l'avevano mai abbandonato. la parte più esterna della costruzione presenta un portale classicheggiante,che porta ad un raccolto cortile in fondo a cui si trova la chiesa e, sulla destra,il monastero.                                                                                                               1\n",
       "La chiesa di santa maria della purità,venne costruita nel 1680 non a caso perchè presenta una fcciata barocca e il pavimento di maionica, l'interno conserva dipinti del solimena.                                                                                                                                                                                                                                                                                                                                                                                                                               1\n",
       "La costruzione della chiesa di s.antonio,originariamente dedicata a s.francesco,incominciò nel 1256 per poi finire nel  1286. tuttavia subì importanti restauri, in particolare nel 1500 ad opera di alfonso carrafa,nel 1700 con l'aggiunta di alcune camere nel vicino convento ed infine nel 1829-31 su progetto dell'architetto giovanni rosalba. inoltre non bisogna dimenticare la presenza di una pinacoteca nell'ala più antica del convento,dove si trovano reperti archeologici di epoca romana.                                                                                                       1\n",
       "La necrolopi ellenistica venne costruita ai lati di un asse stradale nel i secolo a.c. tra gli edifici funerari annoveriamo quello edificato dalla gens numisia , il mausoled della gens cornelia, con la parte inferiore quadrata, sormontata da un tholos ed infine un edificio simile costruito, però, dalla gens lutate.                                                                                                                                                                                                                                                                                     1\n",
       "Sorto nella seconda metà del '500 il palazzo ducale dei carafa, presentava un maestoso giardino che attualmente è una villa comunale. saccheggiato dal popolo nel 1647 fu abbattuto da  carlo iii nel 1750 per costruire l'attuale caserma tofano, una tra i maggiori edifici in italia.                                                                                                                                                                                                                                                                                                                         1\n",
       "Name: Informazioni, dtype: int64"
      ]
     },
     "execution_count": 14,
     "metadata": {},
     "output_type": "execute_result"
    }
   ],
   "source": [
    "itineraries_nocera_inferiore_df['Infomrazioni'] = itineraries_nocera_inferiore_df['Infomrazioni'].str.capitalize()\n",
    "itineraries_nocera_inferiore_df['Infomrazioni'] = itineraries_nocera_inferiore_df['Infomrazioni'].replace(to_replace=[NULL_VALUE.capitalize()], value=NULL_VALUE)\n",
    "itineraries_nocera_inferiore_df['Informazioni'] = itineraries_nocera_inferiore_df['Infomrazioni']\n",
    "itineraries_nocera_inferiore_df['Informazioni'].value_counts().sort_index()"
   ]
  },
  {
   "cell_type": "markdown",
   "id": "982371c1",
   "metadata": {
    "cell_id": "00029-34cbd934-f51f-4363-8cc6-aac69dd28484",
    "deepnote_cell_type": "markdown",
    "tags": []
   },
   "source": [
    "### 8. Localization - Geolocalizzazione - consider the possibility to split it in longitude and latitude + replace NON DISPONIBILE/empty values with NULL + check suspicious values"
   ]
  },
  {
   "cell_type": "code",
   "execution_count": 15,
   "id": "18a2e2c7",
   "metadata": {
    "cell_id": "00030-0ef3747f-cb32-45c1-931b-db57dffc4436",
    "deepnote_cell_type": "code",
    "deepnote_output_heights": [
     611
    ],
    "deepnote_table_loading": false,
    "deepnote_table_state": {
     "filters": [],
     "pageIndex": 0,
     "pageSize": 50,
     "sortBy": []
    },
    "deepnote_to_be_reexecuted": false,
    "execution_millis": 56,
    "execution_start": 1641769431484,
    "source_hash": "262c54d6",
    "tags": []
   },
   "outputs": [
    {
     "data": {
      "text/html": [
       "<div>\n",
       "<style scoped>\n",
       "    .dataframe tbody tr th:only-of-type {\n",
       "        vertical-align: middle;\n",
       "    }\n",
       "\n",
       "    .dataframe tbody tr th {\n",
       "        vertical-align: top;\n",
       "    }\n",
       "\n",
       "    .dataframe thead th {\n",
       "        text-align: right;\n",
       "    }\n",
       "</style>\n",
       "<table border=\"1\" class=\"dataframe\">\n",
       "  <thead>\n",
       "    <tr style=\"text-align: right;\">\n",
       "      <th></th>\n",
       "      <th>Latitude</th>\n",
       "      <th>Longitude</th>\n",
       "    </tr>\n",
       "  </thead>\n",
       "  <tbody>\n",
       "    <tr>\n",
       "      <th>0</th>\n",
       "      <td>40.74970319867134</td>\n",
       "      <td>14.642455279827118</td>\n",
       "    </tr>\n",
       "    <tr>\n",
       "      <th>1</th>\n",
       "      <td>40.73801815509796</td>\n",
       "      <td>14.65237408876419</td>\n",
       "    </tr>\n",
       "    <tr>\n",
       "      <th>2</th>\n",
       "      <td>40.749696493148804</td>\n",
       "      <td>14.639217853546144</td>\n",
       "    </tr>\n",
       "    <tr>\n",
       "      <th>3</th>\n",
       "      <td>40.74289977550507</td>\n",
       "      <td>14.63829517364502</td>\n",
       "    </tr>\n",
       "    <tr>\n",
       "      <th>4</th>\n",
       "      <td>40.742673128843315</td>\n",
       "      <td>14.639877676963808</td>\n",
       "    </tr>\n",
       "    <tr>\n",
       "      <th>5</th>\n",
       "      <td>40.74831783771515</td>\n",
       "      <td>14.639450199902058</td>\n",
       "    </tr>\n",
       "    <tr>\n",
       "      <th>6</th>\n",
       "      <td>40.7472133</td>\n",
       "      <td>14.6433202</td>\n",
       "    </tr>\n",
       "    <tr>\n",
       "      <th>7</th>\n",
       "      <td>40.747153759002686</td>\n",
       "      <td>14.645808041095734</td>\n",
       "    </tr>\n",
       "    <tr>\n",
       "      <th>8</th>\n",
       "      <td>40.742856860160835</td>\n",
       "      <td>14.62901271879673</td>\n",
       "    </tr>\n",
       "    <tr>\n",
       "      <th>9</th>\n",
       "      <td>40.72027886286378</td>\n",
       "      <td>14.595392941846512</td>\n",
       "    </tr>\n",
       "    <tr>\n",
       "      <th>10</th>\n",
       "      <td>40.740850986912854</td>\n",
       "      <td>14.618504345125984</td>\n",
       "    </tr>\n",
       "    <tr>\n",
       "      <th>11</th>\n",
       "      <td>40.741360606625676</td>\n",
       "      <td>14.62410479754908</td>\n",
       "    </tr>\n",
       "    <tr>\n",
       "      <th>12</th>\n",
       "      <td>40.74240708723664</td>\n",
       "      <td>14.667694568051957</td>\n",
       "    </tr>\n",
       "    <tr>\n",
       "      <th>13</th>\n",
       "      <td>40.753434151411064</td>\n",
       "      <td>14.68718254007399</td>\n",
       "    </tr>\n",
       "    <tr>\n",
       "      <th>14</th>\n",
       "      <td>40.74230968952179</td>\n",
       "      <td>14.666014797985556</td>\n",
       "    </tr>\n",
       "    <tr>\n",
       "      <th>15</th>\n",
       "      <td>40.74244111776352</td>\n",
       "      <td>14.65</td>\n",
       "    </tr>\n",
       "    <tr>\n",
       "      <th>16</th>\n",
       "      <td>40.74727714061737</td>\n",
       "      <td>14.642561562359333</td>\n",
       "    </tr>\n",
       "    <tr>\n",
       "      <th>17</th>\n",
       "      <td>40.740450918674476</td>\n",
       "      <td>14.618273321539164</td>\n",
       "    </tr>\n",
       "    <tr>\n",
       "      <th>18</th>\n",
       "      <td>40.742347240448</td>\n",
       "      <td>14.610652662813663</td>\n",
       "    </tr>\n",
       "    <tr>\n",
       "      <th>19</th>\n",
       "      <td>40.73287233710289</td>\n",
       "      <td>14.604074629023671</td>\n",
       "    </tr>\n",
       "    <tr>\n",
       "      <th>20</th>\n",
       "      <td>40.74144870042801</td>\n",
       "      <td>14.61510295048356</td>\n",
       "    </tr>\n",
       "    <tr>\n",
       "      <th>21</th>\n",
       "      <td>40.74091498351435</td>\n",
       "      <td>14.61880666643388</td>\n",
       "    </tr>\n",
       "  </tbody>\n",
       "</table>\n",
       "</div>"
      ],
      "text/plain": [
       "              Latitude           Longitude\n",
       "0    40.74970319867134  14.642455279827118\n",
       "1    40.73801815509796   14.65237408876419\n",
       "2   40.749696493148804  14.639217853546144\n",
       "3    40.74289977550507   14.63829517364502\n",
       "4   40.742673128843315  14.639877676963808\n",
       "5    40.74831783771515  14.639450199902058\n",
       "6           40.7472133          14.6433202\n",
       "7   40.747153759002686  14.645808041095734\n",
       "8   40.742856860160835   14.62901271879673\n",
       "9    40.72027886286378  14.595392941846512\n",
       "10  40.740850986912854  14.618504345125984\n",
       "11  40.741360606625676   14.62410479754908\n",
       "12   40.74240708723664  14.667694568051957\n",
       "13  40.753434151411064   14.68718254007399\n",
       "14   40.74230968952179  14.666014797985556\n",
       "15   40.74244111776352               14.65\n",
       "16   40.74727714061737  14.642561562359333\n",
       "17  40.740450918674476  14.618273321539164\n",
       "18     40.742347240448  14.610652662813663\n",
       "19   40.73287233710289  14.604074629023671\n",
       "20   40.74144870042801   14.61510295048356\n",
       "21   40.74091498351435   14.61880666643388"
      ]
     },
     "execution_count": 15,
     "metadata": {},
     "output_type": "execute_result"
    }
   ],
   "source": [
    "temp_separator = \";;\"\n",
    "itineraries_nocera_inferiore_df['Temp'] = itineraries_nocera_inferiore_df['geolocalizzazione'].apply(lambda x: temp_separator.join(float_tuple_to_string_list(get_latitude_longitude(string=x, null_value=NULL_VALUE))))\n",
    "itineraries_nocera_inferiore_df[['Latitude','Longitude']] = itineraries_nocera_inferiore_df.Temp.str.split(temp_separator, expand=True)\n",
    "itineraries_nocera_inferiore_df = itineraries_nocera_inferiore_df.drop(['Temp'], axis=1)\n",
    "#itineraries_nocera_inferiore_df = itineraries_nocera_inferiore_df.drop(['geolocalizzazione'], axis=1)\n",
    "\n",
    "itineraries_nocera_inferiore_df.drop_duplicates(subset = ['Latitude','Longitude'])[['Latitude','Longitude']]"
   ]
  },
  {
   "cell_type": "markdown",
   "id": "af9b6eb4",
   "metadata": {
    "cell_id": "00051-4bb8013c-7f16-4fb8-9c42-99b5b0e8511f",
    "deepnote_cell_type": "markdown",
    "tags": []
   },
   "source": [
    "### 9. Image - URL Immagine -  replace NON DISPONIBILE/empty values with NULL "
   ]
  },
  {
   "cell_type": "code",
   "execution_count": 16,
   "id": "d61ed9fb",
   "metadata": {
    "cell_id": "00052-9f87ed83-55de-4ed4-a8e9-c5af2426e704",
    "deepnote_cell_type": "code",
    "deepnote_output_heights": [
     251.4375
    ],
    "deepnote_to_be_reexecuted": false,
    "execution_millis": 1172912,
    "execution_start": 1641769431547,
    "source_hash": "f34a5a97",
    "tags": []
   },
   "outputs": [
    {
     "data": {
      "text/plain": [
       "NULL                                                                                                                                                    11\n",
       "http://spod.databenc.it:44588/images/5d2e753f-cd0a-4928-a53d-442549a18173/260px-SantaChiaraNocera2.jpg                                                   1\n",
       "http://spod.databenc.it:44588/images/5d2e753f-cd0a-4928-a53d-442549a18173/Nocera-Inf.-S.Bartolomeo-Ap..jpg                                               1\n",
       "http://spod.databenc.it:45014/images/5d2e753f-cd0a-4928-a53d-442549a18173/luoghi-di-interesse-pagani-chiesa-parrocchiale-del-corpo-di-cristo (1).JPG     1\n",
       "http://spod.databenc.it:8001/images/5d2e753f-cd0a-4928-a53d-442549a18173/fructus.JPG                                                                     1\n",
       "https://upload.wikimedia.org/wikipedia/commons/5/56/ChiesaSanna.jpg                                                                                      1\n",
       "https://upload.wikimedia.org/wikipedia/commons/5/59/Nocera1.jpg                                                                                          1\n",
       "https://upload.wikimedia.org/wikipedia/commons/a/a3/TorreNormannaNocera.jpg                                                                              1\n",
       "https://upload.wikimedia.org/wikipedia/commons/a/a7/SantAndreaNocera5.jpg                                                                                1\n",
       "https://upload.wikimedia.org/wikipedia/commons/b/b5/ChiesaSAntonio.jpg                                                                                   1\n",
       "https://upload.wikimedia.org/wikipedia/commons/c/c1/CattedraleNocera.jpg                                                                                 1\n",
       "https://upload.wikimedia.org/wikipedia/commons/c/c4/PiazzadelCorso01.jpg                                                                                 1\n",
       "Name: URL immagine, dtype: int64"
      ]
     },
     "execution_count": 16,
     "metadata": {},
     "output_type": "execute_result"
    }
   ],
   "source": [
    "itineraries_nocera_inferiore_df['URL immagine'].value_counts().sort_index()"
   ]
  },
  {
   "cell_type": "markdown",
   "id": "382e4346",
   "metadata": {
    "cell_id": "00047-9471139b-da28-47ce-a910-8846326d75b9",
    "deepnote_cell_type": "markdown",
    "tags": []
   },
   "source": [
    "### 10. Bibliography - Bibliography -  replace NON DISPONIBILE/empty values with NULL "
   ]
  },
  {
   "cell_type": "code",
   "execution_count": 17,
   "id": "1340cca5",
   "metadata": {
    "cell_id": "00048-d0c4346a-ed01-4df2-94b2-0321397decb8",
    "deepnote_cell_type": "code",
    "deepnote_output_heights": [
     117.125
    ],
    "deepnote_to_be_reexecuted": false,
    "execution_millis": 1172866,
    "execution_start": 1641769431563,
    "source_hash": "590d8e53",
    "tags": []
   },
   "outputs": [
    {
     "data": {
      "text/plain": [
       "Corolla a, fiorillo r. (eds.), nocera. il castello dello scisma d'occidente, firenze 2010.                                                                                                 1\n",
       "Fonti estratte dalla brochure di monumenti a porte aperte 2000 a cura di \"archeoclub nuceria alfaterna\"                                                                                   18\n",
       "Fortunato m., kajava m., magalhaes m.m.. su un edicola con iscrizione inedita di nuceria costantia, in oebalus : studi sulla campania nell'antichità.. 1, pp. 144-155, fig. 2 p. 147 .     1\n",
       "P.a. pergamo, il monastero di santa chiara in noceria dei pagani, nocera inferiore, 1961.                                                                                                  1\n",
       "Ruggiero g.,l'abbazia di san prisco di nocera: ipotesi interpretative e prospettive di ricerca,in rassegna storica salernitana,n.52,n.s.26/2,p.p. 11/56.                                   1\n",
       "Name: Bibliografia, dtype: int64"
      ]
     },
     "execution_count": 17,
     "metadata": {},
     "output_type": "execute_result"
    }
   ],
   "source": [
    "itineraries_nocera_inferiore_df['Bibliografia'] = itineraries_nocera_inferiore_df['Bibliografia'].str.capitalize()\n",
    "itineraries_nocera_inferiore_df['Bibliografia'] = itineraries_nocera_inferiore_df['Bibliografia'].replace(to_replace=[NULL_VALUE.capitalize()], value=NULL_VALUE)\n",
    "itineraries_nocera_inferiore_df['Bibliografia'] = itineraries_nocera_inferiore_df['Bibliografia'].apply(lambda x: remove_extra_spaces(x))\n",
    "to_replace = ['Fonti estratte dalla brochure di monumenti a porte aperte 2000 a cura di \" archeoclub nuceria alfaterna \"',\n",
    "'Fonti estratte dalla brochure di monumenti a porte aperte 2000 a cura di \"archeoclub nuceria alfaterna\"',\n",
    "'Fonti estratte dalla brochure di monumenti porte aperte 2000 a cura di \" archeoclub nuceria alfaterna\"',\n",
    "'Fonti estratte dalla brochure di monumenti porte aperte 2000 a cura di \"archeoclub nuceria alfaterna \"',\n",
    "'Fonti estratte dalla brochure di monumenti porte aperte 2000 a cura di \"archeoclub nuceria alfaterna\"',\n",
    "'Fonti estratte dalla brochure di monumenti porte aperte a cura di \"archeoclub nuceria alfaterna\"',\n",
    "'Fonti stratte dalla brochure di monumenti porte aperte 2000 a cura di \"archeoclub nuceria alfaterna\"']\n",
    "itineraries_nocera_inferiore_df['Bibliografia'] = itineraries_nocera_inferiore_df['Bibliografia'].replace(to_replace=to_replace, value='Fonti estratte dalla brochure di monumenti a porte aperte 2000 a cura di \"archeoclub nuceria alfaterna\"')\n",
    "itineraries_nocera_inferiore_df['Bibliografia'].value_counts().sort_index()"
   ]
  },
  {
   "cell_type": "markdown",
   "id": "a8e39103",
   "metadata": {
    "cell_id": "00049-9a73cade-747c-4178-bee5-67ad5d1ed429",
    "deepnote_cell_type": "markdown",
    "tags": []
   },
   "source": [
    "### 11. Site - Sitografia -  replace NON DISPONIBILE/empty values with NULL "
   ]
  },
  {
   "cell_type": "code",
   "execution_count": 18,
   "id": "64522ced",
   "metadata": {
    "cell_id": "00050-8f965914-9202-4726-8984-5d9d211f4a19",
    "deepnote_cell_type": "code",
    "deepnote_output_heights": [
     40.375
    ],
    "deepnote_to_be_reexecuted": false,
    "execution_millis": 1172878,
    "execution_start": 1641769431621,
    "source_hash": "ecf246ce",
    "tags": []
   },
   "outputs": [
    {
     "data": {
      "text/plain": [
       "NULL    22\n",
       "Name: Sitografia, dtype: int64"
      ]
     },
     "execution_count": 18,
     "metadata": {},
     "output_type": "execute_result"
    }
   ],
   "source": [
    "itineraries_nocera_inferiore_df['Sitografia'].value_counts().sort_index()"
   ]
  },
  {
   "cell_type": "markdown",
   "id": "5b6a7c59",
   "metadata": {
    "cell_id": "00055-ffa3cec8-8006-4579-8413-01f10f33792d",
    "deepnote_cell_type": "markdown",
    "tags": []
   },
   "source": [
    "### 12. Building type - Tipologia edificio - check value consistency"
   ]
  },
  {
   "cell_type": "code",
   "execution_count": 19,
   "id": "bb21ff11",
   "metadata": {
    "cell_id": "00056-ee4f6c19-864c-4613-8170-c175b7262068",
    "deepnote_cell_type": "code",
    "deepnote_output_heights": [
     174.6875
    ],
    "deepnote_to_be_reexecuted": false,
    "execution_millis": 1172839,
    "execution_start": 1641769431622,
    "source_hash": "47108ee",
    "tags": []
   },
   "outputs": [
    {
     "data": {
      "text/plain": [
       "Area archeologica               1\n",
       "Edificio militare               1\n",
       "Edificio pubblico               1\n",
       "Edificio religioso             15\n",
       "Ex edificio religioso           1\n",
       "Rudere, residenza signorile     1\n",
       "Stele funeraria                 1\n",
       "Struttura religiosa             1\n",
       "Name: Tipologia edificio, dtype: int64"
      ]
     },
     "execution_count": 19,
     "metadata": {},
     "output_type": "execute_result"
    }
   ],
   "source": [
    "itineraries_nocera_inferiore_df['Tipologia edificio'].value_counts().sort_index()"
   ]
  },
  {
   "cell_type": "markdown",
   "id": "15502bf5",
   "metadata": {
    "cell_id": "00057-e4272e1e-3bb6-4472-a417-f41d54415e1e",
    "deepnote_cell_type": "markdown",
    "tags": []
   },
   "source": [
    "### 13. Novel usage - Rifunzionalizzato -  check value consistency + replace empty values with NULL"
   ]
  },
  {
   "cell_type": "code",
   "execution_count": 20,
   "id": "8a40128a",
   "metadata": {
    "cell_id": "00058-aab0410b-757a-448a-b3a8-6c3423dd4683",
    "deepnote_cell_type": "code",
    "deepnote_output_heights": [
     59.5625
    ],
    "deepnote_to_be_reexecuted": false,
    "execution_millis": 2,
    "execution_start": 1641769431623,
    "source_hash": "9e7e8403",
    "tags": []
   },
   "outputs": [
    {
     "data": {
      "text/plain": [
       "No    17\n",
       "Si     5\n",
       "Name: Rifunzionalizzato, dtype: int64"
      ]
     },
     "execution_count": 20,
     "metadata": {},
     "output_type": "execute_result"
    }
   ],
   "source": [
    "itineraries_nocera_inferiore_df['Rifunzionalizzato'] = itineraries_nocera_inferiore_df['Rifunzionalizzato'].str.capitalize()\n",
    "itineraries_nocera_inferiore_df['Rifunzionalizzato'].value_counts().sort_index()"
   ]
  },
  {
   "cell_type": "markdown",
   "id": "3cedd974",
   "metadata": {
    "cell_id": "00059-3710d52d-d2ca-4538-b96d-d200116c1256",
    "deepnote_cell_type": "markdown",
    "tags": []
   },
   "source": [
    "### 14. Usage type - Tipo di rifunzionalizzazione -  replace NESSUNO/empty values with NULL"
   ]
  },
  {
   "cell_type": "code",
   "execution_count": 21,
   "id": "746b7ea3",
   "metadata": {
    "cell_id": "00060-1c10419b-90db-4926-bad1-02085a64358c",
    "deepnote_cell_type": "code",
    "deepnote_output_heights": [
     155.5
    ],
    "deepnote_to_be_reexecuted": false,
    "execution_millis": 1172885,
    "execution_start": 1641769431673,
    "source_hash": "d29b6b3c",
    "tags": []
   },
   "outputs": [
    {
     "data": {
      "text/plain": [
       "Abbandonato del tutto                                        1\n",
       "Edificio per civili abitazioni (post 1806)                   1\n",
       "Museo cittadino                                              1\n",
       "Museo cittadino all'aperto                                   1\n",
       "NULL                                                        16\n",
       "Parte della chiesa è sede di molto eventi religiosi          1\n",
       "Parte della struttura divenne un manicomio oggi dismesso     1\n",
       "Name: Tipo di rifunzionalizzazione, dtype: int64"
      ]
     },
     "execution_count": 21,
     "metadata": {},
     "output_type": "execute_result"
    }
   ],
   "source": [
    "itineraries_nocera_inferiore_df['Tipo di rifunzionalizzazione'] = itineraries_nocera_inferiore_df['Tipo di rifunzionalizzazione'].replace(to_replace=[\"Nessuno\", \"No\"], value=NULL_VALUE)\n",
    "itineraries_nocera_inferiore_df['Tipo di rifunzionalizzazione'].value_counts().sort_index()"
   ]
  },
  {
   "cell_type": "markdown",
   "id": "32070ff0",
   "metadata": {},
   "source": [
    "## Define type of itinerary"
   ]
  },
  {
   "cell_type": "code",
   "execution_count": 22,
   "id": "c100f37e",
   "metadata": {},
   "outputs": [],
   "source": [
    "itineraries_nocera_inferiore_df[\"Categoria itinerario\"] = \"culturale\""
   ]
  },
  {
   "cell_type": "markdown",
   "id": "bc71f2f1",
   "metadata": {
    "cell_id": "00038-6e034081-76b9-47a6-a838-c2eaaf80f176",
    "deepnote_cell_type": "markdown",
    "tags": []
   },
   "source": [
    "## Save to csv and pickle"
   ]
  },
  {
   "cell_type": "code",
   "execution_count": 23,
   "id": "7f409fe2",
   "metadata": {
    "cell_id": "00061-b9dae1f4-ef12-46e7-b024-a99ee82a276d",
    "deepnote_cell_type": "code",
    "deepnote_to_be_reexecuted": false,
    "execution_millis": 1172868,
    "execution_start": 1641769431674,
    "source_hash": "a798cf2c"
   },
   "outputs": [],
   "source": [
    "itineraries_nocera_inferiore_df = itineraries_nocera_inferiore_df[['Categoria itinerario', 'Città', 'Località', 'Via', 'Cap', 'Provincia', 'Regione', 'Sito/definizione manufatto',\n",
    "       'Epoca prima attestazione', 'Itinerario (periodo)', 'Informazioni',\n",
    "       'URL immagine', 'Bibliografia', 'Sitografia',\n",
    "       'Tipologia edificio', 'Rifunzionalizzato',\n",
    "       'Tipo di rifunzionalizzazione', \n",
    "       'Latitude', 'Longitude']]\n",
    "\n",
    "itineraries_nocera_inferiore_df.to_csv('../Dataset_clean/itineraries-NoceraInferiore.csv', index=False)\n",
    "itineraries_nocera_inferiore_df.to_pickle(\"../Dataset_clean/itineraries-NoceraInferiore.pkl\")  "
   ]
  }
 ],
 "metadata": {
  "deepnote": {},
  "deepnote_execution_queue": [],
  "deepnote_notebook_id": "053d746a-adc6-4c7a-8f6c-71459eafb5ae",
  "kernelspec": {
   "display_name": "Python 3",
   "language": "python",
   "name": "python3"
  },
  "language_info": {
   "codemirror_mode": {
    "name": "ipython",
    "version": 3
   },
   "file_extension": ".py",
   "mimetype": "text/x-python",
   "name": "python",
   "nbconvert_exporter": "python",
   "pygments_lexer": "ipython3",
   "version": "3.9.9"
  }
 },
 "nbformat": 4,
 "nbformat_minor": 5
}
