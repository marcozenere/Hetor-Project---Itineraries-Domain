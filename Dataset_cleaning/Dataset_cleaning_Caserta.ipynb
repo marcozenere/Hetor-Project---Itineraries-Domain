{
 "cells": [
  {
   "cell_type": "code",
   "execution_count": 1,
   "id": "84f92f8f",
   "metadata": {
    "cell_id": "00000-c532abb4-df7c-4872-ba9c-ab3feca3f135",
    "deepnote_cell_type": "code",
    "deepnote_output_heights": [
     232.25
    ],
    "deepnote_to_be_reexecuted": false,
    "execution_millis": 1691,
    "execution_start": 1641769332462,
    "source_hash": "5302ac93"
   },
   "outputs": [],
   "source": [
    "import pandas as pd\n",
    "from data_cleaning_util import *"
   ]
  },
  {
   "cell_type": "markdown",
   "id": "f40afb13",
   "metadata": {
    "cell_id": "00001-59f25efe-2039-4ac0-a45a-a4d3329694c9",
    "deepnote_cell_type": "markdown"
   },
   "source": [
    "# Dataset itineraries-Caserta"
   ]
  },
  {
   "cell_type": "code",
   "execution_count": 2,
   "id": "fcca3afc",
   "metadata": {
    "cell_id": "00002-d639d09c-a03a-4021-bf9a-660d7938d244",
    "deepnote_cell_type": "code",
    "deepnote_to_be_reexecuted": false,
    "execution_millis": 325,
    "execution_start": 1641769334156,
    "source_hash": "f3a4e63e"
   },
   "outputs": [],
   "source": [
    "itineraries_caserta_df = pd.read_csv('../Dataset/itineraries-Caserta.csv')"
   ]
  },
  {
   "cell_type": "code",
   "execution_count": 3,
   "id": "79ba403f",
   "metadata": {
    "cell_id": "00003-f8bc4351-8d95-4b9c-a8cc-e9f0a987e56e",
    "deepnote_cell_type": "code",
    "deepnote_output_heights": [
     264
    ],
    "deepnote_to_be_reexecuted": false,
    "execution_millis": 24,
    "execution_start": 1641769334489,
    "source_hash": "67d3f553",
    "tags": []
   },
   "outputs": [
    {
     "name": "stdout",
     "output_type": "stream",
     "text": [
      "<class 'pandas.core.frame.DataFrame'>\n",
      "RangeIndex: 31 entries, 0 to 30\n",
      "Data columns (total 16 columns):\n",
      " #   Column                        Non-Null Count  Dtype \n",
      "---  ------                        --------------  ----- \n",
      " 0   Nome                          31 non-null     object\n",
      " 1   Comune                        31 non-null     object\n",
      " 2   Località                      31 non-null     object\n",
      " 3   Via                           30 non-null     object\n",
      " 4   Tipologia                     31 non-null     object\n",
      " 5   Secolo di costruzione         30 non-null     object\n",
      " 6   Anno prima attestazione       27 non-null     object\n",
      " 7   Itinerario (periodo)          31 non-null     object\n",
      " 8   Stile                         28 non-null     object\n",
      " 9   Informazioni                  31 non-null     object\n",
      " 10  Geolocalizzazione             31 non-null     object\n",
      " 11  URL Immagine                  31 non-null     object\n",
      " 12  Bibliografia                  31 non-null     object\n",
      " 13  Sitografia                    29 non-null     object\n",
      " 14  Rifunzionalizzato             30 non-null     object\n",
      " 15  Tipo di Rifunzionalizzazione  30 non-null     object\n",
      "dtypes: object(16)\n",
      "memory usage: 4.0+ KB\n"
     ]
    }
   ],
   "source": [
    "itineraries_caserta_df.info()"
   ]
  },
  {
   "cell_type": "code",
   "execution_count": 4,
   "id": "b38010f6",
   "metadata": {
    "cell_id": "00004-f9378086-0d2d-4f61-8b1e-d4aaea1ac347",
    "deepnote_cell_type": "code",
    "deepnote_output_heights": [
     208.1875
    ],
    "deepnote_to_be_reexecuted": false,
    "execution_millis": 135,
    "execution_start": 1641769334513,
    "source_hash": "3b9668d7"
   },
   "outputs": [
    {
     "data": {
      "text/html": [
       "<div>\n",
       "<style scoped>\n",
       "    .dataframe tbody tr th:only-of-type {\n",
       "        vertical-align: middle;\n",
       "    }\n",
       "\n",
       "    .dataframe tbody tr th {\n",
       "        vertical-align: top;\n",
       "    }\n",
       "\n",
       "    .dataframe thead th {\n",
       "        text-align: right;\n",
       "    }\n",
       "</style>\n",
       "<table border=\"1\" class=\"dataframe\">\n",
       "  <thead>\n",
       "    <tr style=\"text-align: right;\">\n",
       "      <th></th>\n",
       "      <th>Nome</th>\n",
       "      <th>Comune</th>\n",
       "      <th>Località</th>\n",
       "      <th>Via</th>\n",
       "      <th>Tipologia</th>\n",
       "      <th>Secolo di costruzione</th>\n",
       "      <th>Anno prima attestazione</th>\n",
       "      <th>Itinerario (periodo)</th>\n",
       "      <th>Stile</th>\n",
       "      <th>Informazioni</th>\n",
       "      <th>Geolocalizzazione</th>\n",
       "      <th>URL Immagine</th>\n",
       "      <th>Bibliografia</th>\n",
       "      <th>Sitografia</th>\n",
       "      <th>Rifunzionalizzato</th>\n",
       "      <th>Tipo di Rifunzionalizzazione</th>\n",
       "    </tr>\n",
       "  </thead>\n",
       "  <tbody>\n",
       "    <tr>\n",
       "      <th>0</th>\n",
       "      <td>Monumento ai caduti Caserta</td>\n",
       "      <td>Caserta</td>\n",
       "      <td>Monumento</td>\n",
       "      <td>Corso Trieste</td>\n",
       "      <td>Monumento commemorativo</td>\n",
       "      <td>XX</td>\n",
       "      <td>1936</td>\n",
       "      <td>Contemporaneo</td>\n",
       "      <td>NaN</td>\n",
       "      <td>è un arco di trionfo in marmo bianco fatto cos...</td>\n",
       "      <td>41.071628, 14.341678</td>\n",
       "      <td>Non disponibile</td>\n",
       "      <td>Non disponibile</td>\n",
       "      <td>http://www.pietredellamemoria.it/pietre/monume...</td>\n",
       "      <td>No</td>\n",
       "      <td>Nessuno</td>\n",
       "    </tr>\n",
       "    <tr>\n",
       "      <th>1</th>\n",
       "      <td>Monumento Luigi Vanvitelli</td>\n",
       "      <td>Caserta</td>\n",
       "      <td>Statua</td>\n",
       "      <td>Piazza Vanvitelli</td>\n",
       "      <td>Statua commemorativa</td>\n",
       "      <td>XX</td>\n",
       "      <td>1973</td>\n",
       "      <td>Contemporaneo</td>\n",
       "      <td>Contemporaneo</td>\n",
       "      <td>Si erge in piazza vanvitelli, con un'incisione...</td>\n",
       "      <td>Longitudine:</td>\n",
       "      <td>https://upload.wikimedia.org/wikipedia/commons...</td>\n",
       "      <td>Non disponibile</td>\n",
       "      <td>http://www.campaniailoveyou.com/it/citta/caser...</td>\n",
       "      <td>No</td>\n",
       "      <td>Nessuno</td>\n",
       "    </tr>\n",
       "    <tr>\n",
       "      <th>2</th>\n",
       "      <td>Cattedrale San Michele Arcangelo</td>\n",
       "      <td>Caserta</td>\n",
       "      <td>Cattedrale</td>\n",
       "      <td>Piazza Duomo</td>\n",
       "      <td>Edificio religioso</td>\n",
       "      <td>XIX</td>\n",
       "      <td>1842</td>\n",
       "      <td>Contemporaneo</td>\n",
       "      <td>Vanvitelliano</td>\n",
       "      <td>La facciata principale è caratterizzata da un'...</td>\n",
       "      <td>14.34165359</td>\n",
       "      <td>Non disponibile</td>\n",
       "      <td>Non disponibile</td>\n",
       "      <td>https://it.wikipedia.org/wiki/Cattedrale_di_Sa...</td>\n",
       "      <td>No</td>\n",
       "      <td>Nessuno</td>\n",
       "    </tr>\n",
       "    <tr>\n",
       "      <th>3</th>\n",
       "      <td>Parrocchia Buon Pastore</td>\n",
       "      <td>Caserta</td>\n",
       "      <td>Chiesa</td>\n",
       "      <td>Piazza Pitesti</td>\n",
       "      <td>Edificio Religioso</td>\n",
       "      <td>XXI</td>\n",
       "      <td>Non disponibile</td>\n",
       "      <td>Contemporaneo</td>\n",
       "      <td>Contemporaneo</td>\n",
       "      <td>Chiesa evangelica che sorge nel cuore di Piazz...</td>\n",
       "      <td>41.080138149999996,14.34258052057184</td>\n",
       "      <td>Non disponibile</td>\n",
       "      <td>Non disponibile</td>\n",
       "      <td>http://www.buonpastorecaserta.it/orari.htm</td>\n",
       "      <td>No</td>\n",
       "      <td>Nessuno</td>\n",
       "    </tr>\n",
       "    <tr>\n",
       "      <th>4</th>\n",
       "      <td>Monumento ai Garibaldini</td>\n",
       "      <td>Santa Maria Capua Vetere</td>\n",
       "      <td>Monumento</td>\n",
       "      <td>Villa Comunale</td>\n",
       "      <td>Monumento Commemorativo</td>\n",
       "      <td>XIX</td>\n",
       "      <td>1889</td>\n",
       "      <td>Contemporaneo</td>\n",
       "      <td>Contemporaneo</td>\n",
       "      <td>Pochi giorni dopo la liberazione di Capua dai ...</td>\n",
       "      <td>41.08502085000001,14.25675610539424</td>\n",
       "      <td>Non disponibile</td>\n",
       "      <td>Non disponibile</td>\n",
       "      <td>https://it.wikipedia.org/wiki/Monumento_ai_Gar...</td>\n",
       "      <td>No</td>\n",
       "      <td>Nessuno</td>\n",
       "    </tr>\n",
       "  </tbody>\n",
       "</table>\n",
       "</div>"
      ],
      "text/plain": [
       "                               Nome                    Comune    Località  \\\n",
       "0       Monumento ai caduti Caserta                   Caserta   Monumento   \n",
       "1        Monumento Luigi Vanvitelli                   Caserta      Statua   \n",
       "2  Cattedrale San Michele Arcangelo                   Caserta  Cattedrale   \n",
       "3           Parrocchia Buon Pastore                   Caserta      Chiesa   \n",
       "4          Monumento ai Garibaldini  Santa Maria Capua Vetere   Monumento   \n",
       "\n",
       "                 Via                Tipologia Secolo di costruzione  \\\n",
       "0      Corso Trieste  Monumento commemorativo                    XX   \n",
       "1  Piazza Vanvitelli     Statua commemorativa                    XX   \n",
       "2       Piazza Duomo       Edificio religioso                   XIX   \n",
       "3     Piazza Pitesti       Edificio Religioso                   XXI   \n",
       "4     Villa Comunale  Monumento Commemorativo                   XIX   \n",
       "\n",
       "  Anno prima attestazione Itinerario (periodo)          Stile  \\\n",
       "0                    1936        Contemporaneo            NaN   \n",
       "1                    1973        Contemporaneo  Contemporaneo   \n",
       "2                    1842        Contemporaneo  Vanvitelliano   \n",
       "3         Non disponibile        Contemporaneo  Contemporaneo   \n",
       "4                    1889        Contemporaneo  Contemporaneo   \n",
       "\n",
       "                                        Informazioni  \\\n",
       "0  è un arco di trionfo in marmo bianco fatto cos...   \n",
       "1  Si erge in piazza vanvitelli, con un'incisione...   \n",
       "2  La facciata principale è caratterizzata da un'...   \n",
       "3  Chiesa evangelica che sorge nel cuore di Piazz...   \n",
       "4  Pochi giorni dopo la liberazione di Capua dai ...   \n",
       "\n",
       "                      Geolocalizzazione  \\\n",
       "0                  41.071628, 14.341678   \n",
       "1                          Longitudine:   \n",
       "2                           14.34165359   \n",
       "3  41.080138149999996,14.34258052057184   \n",
       "4   41.08502085000001,14.25675610539424   \n",
       "\n",
       "                                        URL Immagine     Bibliografia  \\\n",
       "0                                    Non disponibile  Non disponibile   \n",
       "1  https://upload.wikimedia.org/wikipedia/commons...  Non disponibile   \n",
       "2                                    Non disponibile  Non disponibile   \n",
       "3                                    Non disponibile  Non disponibile   \n",
       "4                                    Non disponibile  Non disponibile   \n",
       "\n",
       "                                          Sitografia Rifunzionalizzato  \\\n",
       "0  http://www.pietredellamemoria.it/pietre/monume...                No   \n",
       "1  http://www.campaniailoveyou.com/it/citta/caser...                No   \n",
       "2  https://it.wikipedia.org/wiki/Cattedrale_di_Sa...                No   \n",
       "3         http://www.buonpastorecaserta.it/orari.htm                No   \n",
       "4  https://it.wikipedia.org/wiki/Monumento_ai_Gar...                No   \n",
       "\n",
       "  Tipo di Rifunzionalizzazione  \n",
       "0                      Nessuno  \n",
       "1                      Nessuno  \n",
       "2                      Nessuno  \n",
       "3                      Nessuno  \n",
       "4                      Nessuno  "
      ]
     },
     "execution_count": 4,
     "metadata": {},
     "output_type": "execute_result"
    }
   ],
   "source": [
    "itineraries_caserta_df.head(5)"
   ]
  },
  {
   "cell_type": "code",
   "execution_count": 5,
   "id": "12e1e6b8",
   "metadata": {
    "cell_id": "00005-c07a7014-f4e3-421e-b5be-36df029d401b",
    "deepnote_cell_type": "code",
    "deepnote_output_heights": [
     174.6875
    ],
    "deepnote_to_be_reexecuted": false,
    "execution_millis": 1,
    "execution_start": 1641769334686,
    "source_hash": "5180ff87",
    "tags": []
   },
   "outputs": [
    {
     "name": "stdout",
     "output_type": "stream",
     "text": [
      "Number of columns 16\n",
      "Index(['Nome', 'Comune', 'Località', 'Via', 'Tipologia',\n",
      "       'Secolo di costruzione', 'Anno prima attestazione',\n",
      "       'Itinerario (periodo)', 'Stile', 'Informazioni', 'Geolocalizzazione',\n",
      "       'URL Immagine', 'Bibliografia', 'Sitografia', 'Rifunzionalizzato',\n",
      "       'Tipo di Rifunzionalizzazione'],\n",
      "      dtype='object'))\n"
     ]
    }
   ],
   "source": [
    "print(f\"Number of columns {len(itineraries_caserta_df.columns)}\\n{itineraries_caserta_df.columns})\")"
   ]
  },
  {
   "cell_type": "markdown",
   "id": "1dbbb8b7",
   "metadata": {
    "cell_id": "00006-5a752988-9a98-42cd-a04c-e78a7a792957",
    "deepnote_cell_type": "markdown",
    "tags": []
   },
   "source": [
    "## Correction to do:\n",
    "\n",
    "1. Name - Nome - keep it as String. Extra spaces might be removed in the data cleansing phase\n",
    "2. Municipality - Comune - align it with official municipality names (e.g., https://www.istat.it/storage/codici-unita-amministrative/Elenco-comuni-italiani.xls)\n",
    "3. Location/Building type - Località - check value consistency\n",
    "4. Address - Via - split it on multiple columns reporting (zip code, street, municipality, country, etc.)\n",
    "5. Building category/type - Tipologia - check value consistency\n",
    "6. Building century - Secolo di costruzione - replace empty values with NULL\n",
    "7. First year certification - Anno prima attestazione - replace NON DISPONIBILE/empty values with NULL\n",
    "8. Itinerary period - Itinerario (periodo) - check value consistency\n",
    "9. Style - Stile - check value consistency + replace empty values with NULL\n",
    "10. Details - Informazioni - replace NON DISPONIBILE/empty values with NULL + clean values (e.g., numbers)\n",
    "11. Localization - Geolocalizzazione - consider the possibility to split it in longitude and latitude + replace NON DISPONIBILE/empty values with NULL + check suspicious values\n",
    "12. Image - URL Immagine -  replace NON DISPONIBILE/empty values with NULL \n",
    "13. Bibliography - Bibliography -  replace NON DISPONIBILE/empty values with NULL \n",
    "14. Site - Sitografia -  replace NON DISPONIBILE/empty values with NULL \n",
    "15. Novel usage - Rifunzionalizzato -  check value consistency + replace empty values with NULL\n",
    "16. Usage type - Tipo di Rifunzionalizzazione -  replace NESSUNO/empty values with NULL"
   ]
  },
  {
   "cell_type": "markdown",
   "id": "f3049cc3",
   "metadata": {
    "cell_id": "00007-732f27ab-db7d-4a3b-b885-7b9e289ae50f",
    "deepnote_cell_type": "markdown",
    "tags": []
   },
   "source": [
    "### Fill Na with NULL"
   ]
  },
  {
   "cell_type": "code",
   "execution_count": 6,
   "id": "eb925e84",
   "metadata": {
    "cell_id": "00008-01fb1ddf-bc9d-47c4-a5d0-5df653134a62",
    "deepnote_cell_type": "code",
    "deepnote_to_be_reexecuted": false,
    "execution_millis": 17,
    "execution_start": 1641769334688,
    "source_hash": "4977c21a",
    "tags": []
   },
   "outputs": [],
   "source": [
    "itineraries_caserta_df = itineraries_caserta_df.fillna(NULL_VALUE)"
   ]
  },
  {
   "cell_type": "markdown",
   "id": "8a74a421",
   "metadata": {
    "cell_id": "00009-4e6e297f-eda9-4efc-8635-74307eacf6f3",
    "deepnote_cell_type": "markdown",
    "tags": []
   },
   "source": [
    "### 1. Name - Nome - keep it as String. Extra spaces might be removed in the data cleansing phase\n"
   ]
  },
  {
   "cell_type": "code",
   "execution_count": 7,
   "id": "dde47257",
   "metadata": {
    "cell_id": "00010-f9d608fa-e787-45cc-a6b1-f825d6e83083",
    "deepnote_cell_type": "code",
    "deepnote_output_heights": [
     611
    ],
    "deepnote_to_be_reexecuted": false,
    "execution_millis": 57,
    "execution_start": 1641769334689,
    "source_hash": "137c84d6",
    "tags": []
   },
   "outputs": [
    {
     "data": {
      "text/plain": [
       "Basilica Del Corpus Domini             1\n",
       "Cappella di San Rocco                  1\n",
       "Casa del fascio                        1\n",
       "Cattedrale San Michele Arcangelo       1\n",
       "Chiesa Santa Maria Dell'Agnana         1\n",
       "Chiesa di San Ferdinando Re            1\n",
       "Chiesa di San Luca Evangelista         1\n",
       "Chiesa di Sant'Antonio di Padova       1\n",
       "Complesso monumentale di San Leucio    1\n",
       "Convitto Nazione Giordano Bruno        1\n",
       "Le Madonelle                           1\n",
       "Mausoleo dei 54 Martiri                1\n",
       "Monumento Luigi Vanvitelli             1\n",
       "Monumento a Domenico Cimarosa          1\n",
       "Monumento a Pietro Rosano              1\n",
       "Monumento ai Caduti In Guerra          1\n",
       "Monumento ai Caduti di Capua           1\n",
       "Monumento ai Garibaldini               1\n",
       "Monumento ai caduti Caserta            1\n",
       "Monumento ai fratelli De Simone        1\n",
       "Monumento al milite Ignoto             1\n",
       "Parrocchia Buon Pastore                1\n",
       "Real Convitto Borbonico                1\n",
       "Reale Tenuta Carditello                1\n",
       "Santuario di San Salvatore             1\n",
       "Statua Della Carità                    1\n",
       "Statua dell'Agricoltura                1\n",
       "Statua della Carità                    1\n",
       "Teatro Garibaldi                       1\n",
       "Teatro Ricciardi                       1\n",
       "Torre Dell'Orologio                    1\n",
       "Name: Nome, dtype: int64"
      ]
     },
     "execution_count": 7,
     "metadata": {},
     "output_type": "execute_result"
    }
   ],
   "source": [
    "itineraries_caserta_df['Nome'] = itineraries_caserta_df['Nome'].apply(lambda x: remove_extra_spaces(x))\n",
    "itineraries_caserta_df['Nome'] = itineraries_caserta_df['Nome'].replace(to_replace=[\"Statua dell' Agricoltura\"], value=\"Statua dell'Agricoltura\")\n",
    "itineraries_caserta_df['Nome'].value_counts().sort_index()"
   ]
  },
  {
   "cell_type": "markdown",
   "id": "c6ccbc89",
   "metadata": {
    "cell_id": "00009-01394d41-c137-4f85-891e-0ddf5f6032c3",
    "deepnote_cell_type": "markdown"
   },
   "source": [
    "### 2. Municipality - Comune - align it with official municipality names"
   ]
  },
  {
   "cell_type": "code",
   "execution_count": 8,
   "id": "6d2384bf",
   "metadata": {
    "cell_id": "00010-bc94a9b8-01d2-45b3-afed-018a0f6f2731",
    "deepnote_cell_type": "code",
    "deepnote_output_heights": [
     309,
     289.8125
    ],
    "deepnote_to_be_reexecuted": false,
    "execution_millis": 246,
    "execution_start": 1641769334726,
    "source_hash": "4f9c8247"
   },
   "outputs": [
    {
     "name": "stdout",
     "output_type": "stream",
     "text": [
      "Corrected comune San Nicola La Strada to San Nicola la Strada\n",
      "Corrected comune San Nicola La Strada to San Nicola la Strada\n"
     ]
    },
    {
     "data": {
      "text/plain": [
       "Aversa                      3\n",
       "Bellona                     1\n",
       "Capua                       2\n",
       "Casapulla                   1\n",
       "Caserta                     9\n",
       "Castel Volturno             1\n",
       "Maddaloni                   3\n",
       "Marcianise                  2\n",
       "Orta di Atella              1\n",
       "San Nicola la Strada        2\n",
       "San Prisco                  1\n",
       "San Tammaro                 1\n",
       "Santa Maria Capua Vetere    3\n",
       "Vitulazio                   1\n",
       "Name: Comune, dtype: int64"
      ]
     },
     "execution_count": 8,
     "metadata": {},
     "output_type": "execute_result"
    }
   ],
   "source": [
    "itineraries_caserta_df['Comune'] = itineraries_caserta_df['Comune'].str.replace(\"San Leucio\", \"Caserta\", regex=False)\n",
    "itineraries_caserta_df['Comune'] = itineraries_caserta_df['Comune'].apply(lambda x: municipality_alignment(comune=x,\\\n",
    "                                                                                comuni_istat_ita_list=comuni_istat_ita_list,\\\n",
    "                                                                                comuni_istat_altra_lingua_list=comuni_istat_altra_lingua_list,\\\n",
    "                                                                                comuni_istat_ita_e_straniero_list=comuni_istat_ita_e_straniero_list,\\\n",
    "                                                                                null_value=NULL_VALUE, \\\n",
    "                                                                                max_levenshtein_distance=2))\n",
    "\n",
    "itineraries_caserta_df['Comune'].value_counts().sort_index()"
   ]
  },
  {
   "cell_type": "markdown",
   "id": "fef7bf70",
   "metadata": {
    "cell_id": "00011-81c97709-cb7c-426b-957e-88f15c3b1519",
    "deepnote_cell_type": "markdown",
    "tags": []
   },
   "source": [
    "### 3. Location/Building type - Località - check value consistency"
   ]
  },
  {
   "cell_type": "code",
   "execution_count": 9,
   "id": "92c91115",
   "metadata": {
    "cell_id": "00012-c935cab5-81f1-4b70-9655-5d2f8ddc4f25",
    "deepnote_cell_type": "code",
    "deepnote_output_heights": [
     232.25
    ],
    "deepnote_to_be_reexecuted": false,
    "execution_millis": 67,
    "execution_start": 1641769334961,
    "source_hash": "9323eb6f",
    "tags": []
   },
   "outputs": [
    {
     "data": {
      "text/plain": [
       "Basilica                    1\n",
       "Cattedrale                  1\n",
       "Chiesa                      6\n",
       "Monumento                  13\n",
       "Orfanotrofio / Convento     1\n",
       "Sala Conferenze             1\n",
       "Santuario                   1\n",
       "Scuola                      1\n",
       "Statua                      3\n",
       "Teatro                      2\n",
       "Torre                       1\n",
       "Name: Località, dtype: int64"
      ]
     },
     "execution_count": 9,
     "metadata": {},
     "output_type": "execute_result"
    }
   ],
   "source": [
    "itineraries_caserta_df['Località'] = itineraries_caserta_df['Località'].str.replace(\"Monumenti\", \"Monumento\", regex=False)\n",
    "itineraries_caserta_df['Località'] = itineraries_caserta_df['Località'].str.replace(\"/\", \" / \", regex=False)\n",
    "itineraries_caserta_df['Località'] = itineraries_caserta_df['Località'].apply(lambda x: remove_extra_spaces(x))\n",
    "itineraries_caserta_df['Località'] = itineraries_caserta_df['Località'].str.title()\n",
    "itineraries_caserta_df['Località'].value_counts().sort_index()"
   ]
  },
  {
   "cell_type": "markdown",
   "id": "683220a8",
   "metadata": {
    "cell_id": "00013-6edce0c7-7339-4f7c-b80f-e9a836174553",
    "deepnote_cell_type": "markdown",
    "tags": []
   },
   "source": [
    "### 4. Address - Via - split it on multiple columns reporting (zip code, street, municipality, country, etc.)"
   ]
  },
  {
   "cell_type": "code",
   "execution_count": 10,
   "id": "70a0ad72",
   "metadata": {
    "cell_id": "00014-08f82a83-34bb-4756-974d-e92803abdeea",
    "deepnote_cell_type": "code",
    "deepnote_output_heights": [
     539.25
    ],
    "deepnote_to_be_reexecuted": false,
    "execution_millis": 1,
    "execution_start": 1641769335023,
    "source_hash": "54b8e80a",
    "tags": []
   },
   "outputs": [
    {
     "data": {
      "text/plain": [
       "Belvedere Di San Leucio                            1\n",
       "Corso Garibaldi                                    1\n",
       "Corso Giannone                                     1\n",
       "Corso Trieste                                      1\n",
       "Incrocio Tra Via Giuseppe Sirtori E Via Uccella    1\n",
       "Largo Porta Napoli                                 1\n",
       "NULL                                               1\n",
       "Piazza Carità                                      2\n",
       "Piazza De Sivo                                     1\n",
       "Piazza Della Vittoria                              1\n",
       "Piazza Duomo                                       1\n",
       "Piazza Matteotti                                   1\n",
       "Piazza Mazzini                                     1\n",
       "Piazza Municipio                                   1\n",
       "Piazza Pitesti                                     1\n",
       "Piazza Vanvitelli                                  1\n",
       "Sp229                                              1\n",
       "Via 54 Martiri                                     1\n",
       "Via Appia                                          2\n",
       "Via Atrio Superiore                                1\n",
       "Via Duomo                                          1\n",
       "Via Michele Monaco                                 1\n",
       "Via Raffaele Gasparri                              1\n",
       "Via San Francesco D'Assisi                         1\n",
       "Via San Rocco                                      1\n",
       "Via San Salvatore                                  1\n",
       "Villa Comunale                                     3\n",
       "Name: Via, dtype: int64"
      ]
     },
     "execution_count": 10,
     "metadata": {},
     "output_type": "execute_result"
    }
   ],
   "source": [
    "itineraries_caserta_df['Via'] = itineraries_caserta_df['Via'].str.replace(\".\", \". \", regex=False)\n",
    "itineraries_caserta_df['Via'] = itineraries_caserta_df['Via'].apply(lambda x: remove_extra_spaces(x))\n",
    "itineraries_caserta_df['Via'] = itineraries_caserta_df['Via'].str.title()\n",
    "itineraries_caserta_df['Via'] = itineraries_caserta_df['Via'].str.replace(NULL_VALUE.title(), NULL_VALUE, regex=False)\n",
    "itineraries_caserta_df['Via'].value_counts().sort_index()"
   ]
  },
  {
   "cell_type": "code",
   "execution_count": 11,
   "id": "10f424b5",
   "metadata": {
    "cell_id": "00015-fd203b12-931e-4e45-9408-e46d1c5c0d71",
    "deepnote_cell_type": "code",
    "deepnote_output_heights": [
     293
    ],
    "deepnote_table_loading": false,
    "deepnote_table_state": {
     "filters": [],
     "pageIndex": 0,
     "pageSize": 10,
     "sortBy": []
    },
    "deepnote_to_be_reexecuted": false,
    "execution_millis": 108,
    "execution_start": 1641769335027,
    "source_hash": "4e0a9be3",
    "tags": []
   },
   "outputs": [
    {
     "data": {
      "text/html": [
       "<div>\n",
       "<style scoped>\n",
       "    .dataframe tbody tr th:only-of-type {\n",
       "        vertical-align: middle;\n",
       "    }\n",
       "\n",
       "    .dataframe tbody tr th {\n",
       "        vertical-align: top;\n",
       "    }\n",
       "\n",
       "    .dataframe thead th {\n",
       "        text-align: right;\n",
       "    }\n",
       "</style>\n",
       "<table border=\"1\" class=\"dataframe\">\n",
       "  <thead>\n",
       "    <tr style=\"text-align: right;\">\n",
       "      <th></th>\n",
       "      <th>Via</th>\n",
       "      <th>Cap</th>\n",
       "      <th>Provincia</th>\n",
       "      <th>Regione</th>\n",
       "    </tr>\n",
       "  </thead>\n",
       "  <tbody>\n",
       "    <tr>\n",
       "      <th>0</th>\n",
       "      <td>Corso Trieste</td>\n",
       "      <td>81100</td>\n",
       "      <td>CE</td>\n",
       "      <td>Campania</td>\n",
       "    </tr>\n",
       "    <tr>\n",
       "      <th>1</th>\n",
       "      <td>Piazza Vanvitelli</td>\n",
       "      <td>81100</td>\n",
       "      <td>CE</td>\n",
       "      <td>Campania</td>\n",
       "    </tr>\n",
       "    <tr>\n",
       "      <th>2</th>\n",
       "      <td>Piazza Duomo</td>\n",
       "      <td>81100</td>\n",
       "      <td>CE</td>\n",
       "      <td>Campania</td>\n",
       "    </tr>\n",
       "    <tr>\n",
       "      <th>3</th>\n",
       "      <td>Piazza Pitesti</td>\n",
       "      <td>81100</td>\n",
       "      <td>CE</td>\n",
       "      <td>Campania</td>\n",
       "    </tr>\n",
       "    <tr>\n",
       "      <th>4</th>\n",
       "      <td>Villa Comunale</td>\n",
       "      <td>81055</td>\n",
       "      <td>CE</td>\n",
       "      <td>Campania</td>\n",
       "    </tr>\n",
       "    <tr>\n",
       "      <th>5</th>\n",
       "      <td>Via Appia</td>\n",
       "      <td>81020</td>\n",
       "      <td>CE</td>\n",
       "      <td>Campania</td>\n",
       "    </tr>\n",
       "    <tr>\n",
       "      <th>6</th>\n",
       "      <td>Corso Giannone</td>\n",
       "      <td>81100</td>\n",
       "      <td>CE</td>\n",
       "      <td>Campania</td>\n",
       "    </tr>\n",
       "    <tr>\n",
       "      <th>7</th>\n",
       "      <td>Belvedere Di San Leucio</td>\n",
       "      <td>81100</td>\n",
       "      <td>CE</td>\n",
       "      <td>Campania</td>\n",
       "    </tr>\n",
       "    <tr>\n",
       "      <th>8</th>\n",
       "      <td>Sp229</td>\n",
       "      <td>81050</td>\n",
       "      <td>CE</td>\n",
       "      <td>Campania</td>\n",
       "    </tr>\n",
       "    <tr>\n",
       "      <th>9</th>\n",
       "      <td>Via Atrio Superiore</td>\n",
       "      <td>81100</td>\n",
       "      <td>CE</td>\n",
       "      <td>Campania</td>\n",
       "    </tr>\n",
       "    <tr>\n",
       "      <th>10</th>\n",
       "      <td>Villa Comunale</td>\n",
       "      <td>81020</td>\n",
       "      <td>CE</td>\n",
       "      <td>Campania</td>\n",
       "    </tr>\n",
       "    <tr>\n",
       "      <th>11</th>\n",
       "      <td>Piazza Matteotti</td>\n",
       "      <td>81100</td>\n",
       "      <td>CE</td>\n",
       "      <td>Campania</td>\n",
       "    </tr>\n",
       "    <tr>\n",
       "      <th>12</th>\n",
       "      <td>Via Raffaele Gasparri</td>\n",
       "      <td>81100</td>\n",
       "      <td>CE</td>\n",
       "      <td>Campania</td>\n",
       "    </tr>\n",
       "    <tr>\n",
       "      <th>13</th>\n",
       "      <td>Piazza De Sivo</td>\n",
       "      <td>81024</td>\n",
       "      <td>CE</td>\n",
       "      <td>Campania</td>\n",
       "    </tr>\n",
       "    <tr>\n",
       "      <th>14</th>\n",
       "      <td>Piazza Carità</td>\n",
       "      <td>81025</td>\n",
       "      <td>CE</td>\n",
       "      <td>Campania</td>\n",
       "    </tr>\n",
       "    <tr>\n",
       "      <th>15</th>\n",
       "      <td>Piazza Della Vittoria</td>\n",
       "      <td>81024</td>\n",
       "      <td>CE</td>\n",
       "      <td>Campania</td>\n",
       "    </tr>\n",
       "    <tr>\n",
       "      <th>16</th>\n",
       "      <td>Largo Porta Napoli</td>\n",
       "      <td>81043</td>\n",
       "      <td>CE</td>\n",
       "      <td>Campania</td>\n",
       "    </tr>\n",
       "    <tr>\n",
       "      <th>17</th>\n",
       "      <td>Via Duomo</td>\n",
       "      <td>81043</td>\n",
       "      <td>CE</td>\n",
       "      <td>Campania</td>\n",
       "    </tr>\n",
       "    <tr>\n",
       "      <th>18</th>\n",
       "      <td>Corso Garibaldi</td>\n",
       "      <td>81055</td>\n",
       "      <td>CE</td>\n",
       "      <td>Campania</td>\n",
       "    </tr>\n",
       "    <tr>\n",
       "      <th>19</th>\n",
       "      <td>Incrocio Tra Via Giuseppe Sirtori E Via Uccella</td>\n",
       "      <td>81055</td>\n",
       "      <td>CE</td>\n",
       "      <td>Campania</td>\n",
       "    </tr>\n",
       "    <tr>\n",
       "      <th>20</th>\n",
       "      <td>Piazza Mazzini</td>\n",
       "      <td>81031</td>\n",
       "      <td>CE</td>\n",
       "      <td>Campania</td>\n",
       "    </tr>\n",
       "    <tr>\n",
       "      <th>21</th>\n",
       "      <td>Villa Comunale</td>\n",
       "      <td>81031</td>\n",
       "      <td>CE</td>\n",
       "      <td>Campania</td>\n",
       "    </tr>\n",
       "    <tr>\n",
       "      <th>22</th>\n",
       "      <td>Piazza Municipio</td>\n",
       "      <td>81031</td>\n",
       "      <td>CE</td>\n",
       "      <td>Campania</td>\n",
       "    </tr>\n",
       "    <tr>\n",
       "      <th>25</th>\n",
       "      <td>Via Michele Monaco</td>\n",
       "      <td>81054</td>\n",
       "      <td>CE</td>\n",
       "      <td>Campania</td>\n",
       "    </tr>\n",
       "    <tr>\n",
       "      <th>26</th>\n",
       "      <td>Via San Francesco D'Assisi</td>\n",
       "      <td>81024</td>\n",
       "      <td>CE</td>\n",
       "      <td>Campania</td>\n",
       "    </tr>\n",
       "    <tr>\n",
       "      <th>27</th>\n",
       "      <td>Via San Salvatore</td>\n",
       "      <td>81030</td>\n",
       "      <td>CE</td>\n",
       "      <td>Campania</td>\n",
       "    </tr>\n",
       "    <tr>\n",
       "      <th>28</th>\n",
       "      <td>NULL</td>\n",
       "      <td>81041</td>\n",
       "      <td>CE</td>\n",
       "      <td>Campania</td>\n",
       "    </tr>\n",
       "    <tr>\n",
       "      <th>29</th>\n",
       "      <td>Via 54 Martiri</td>\n",
       "      <td>81041</td>\n",
       "      <td>CE</td>\n",
       "      <td>Campania</td>\n",
       "    </tr>\n",
       "    <tr>\n",
       "      <th>30</th>\n",
       "      <td>Via San Rocco</td>\n",
       "      <td>81030</td>\n",
       "      <td>CE</td>\n",
       "      <td>Campania</td>\n",
       "    </tr>\n",
       "  </tbody>\n",
       "</table>\n",
       "</div>"
      ],
      "text/plain": [
       "                                                Via    Cap Provincia   Regione\n",
       "0                                     Corso Trieste  81100        CE  Campania\n",
       "1                                 Piazza Vanvitelli  81100        CE  Campania\n",
       "2                                      Piazza Duomo  81100        CE  Campania\n",
       "3                                    Piazza Pitesti  81100        CE  Campania\n",
       "4                                    Villa Comunale  81055        CE  Campania\n",
       "5                                         Via Appia  81020        CE  Campania\n",
       "6                                    Corso Giannone  81100        CE  Campania\n",
       "7                           Belvedere Di San Leucio  81100        CE  Campania\n",
       "8                                             Sp229  81050        CE  Campania\n",
       "9                               Via Atrio Superiore  81100        CE  Campania\n",
       "10                                   Villa Comunale  81020        CE  Campania\n",
       "11                                 Piazza Matteotti  81100        CE  Campania\n",
       "12                            Via Raffaele Gasparri  81100        CE  Campania\n",
       "13                                   Piazza De Sivo  81024        CE  Campania\n",
       "14                                    Piazza Carità  81025        CE  Campania\n",
       "15                            Piazza Della Vittoria  81024        CE  Campania\n",
       "16                               Largo Porta Napoli  81043        CE  Campania\n",
       "17                                        Via Duomo  81043        CE  Campania\n",
       "18                                  Corso Garibaldi  81055        CE  Campania\n",
       "19  Incrocio Tra Via Giuseppe Sirtori E Via Uccella  81055        CE  Campania\n",
       "20                                   Piazza Mazzini  81031        CE  Campania\n",
       "21                                   Villa Comunale  81031        CE  Campania\n",
       "22                                 Piazza Municipio  81031        CE  Campania\n",
       "25                               Via Michele Monaco  81054        CE  Campania\n",
       "26                       Via San Francesco D'Assisi  81024        CE  Campania\n",
       "27                                Via San Salvatore  81030        CE  Campania\n",
       "28                                             NULL  81041        CE  Campania\n",
       "29                                   Via 54 Martiri  81041        CE  Campania\n",
       "30                                    Via San Rocco  81030        CE  Campania"
      ]
     },
     "execution_count": 11,
     "metadata": {},
     "output_type": "execute_result"
    }
   ],
   "source": [
    "temp_separator = \";;\"\n",
    "itineraries_caserta_df['Temp'] = itineraries_caserta_df['Comune'].apply(lambda x: temp_separator.join(getAddressInfo(comune=map_comune_to_elenco_comuni_cap(x), elenco_comuni_cap=elenco_comuni_cap)))\n",
    "itineraries_caserta_df[['Cap','Provincia','Regione']] = itineraries_caserta_df.Temp.str.split(temp_separator, expand=True)\n",
    "itineraries_caserta_df = itineraries_caserta_df.drop(['Temp'], axis=1)\n",
    "\n",
    "itineraries_caserta_df.drop_duplicates(subset = ['Via', 'Cap','Provincia','Regione'])[['Via', 'Cap','Provincia','Regione']]\n"
   ]
  },
  {
   "cell_type": "markdown",
   "id": "d302016f",
   "metadata": {
    "cell_id": "00016-fec42e42-68e1-433e-a03b-2d10d3d0a930",
    "deepnote_cell_type": "markdown",
    "tags": []
   },
   "source": [
    "### 5. Building category/type - Tipologia - check value consistency"
   ]
  },
  {
   "cell_type": "code",
   "execution_count": 12,
   "id": "cf865ec0",
   "metadata": {
    "cell_id": "00017-a2d6ddf5-2afe-4ce8-820c-23491fc39e5d",
    "deepnote_cell_type": "code",
    "deepnote_output_heights": [
     174.6875
    ],
    "deepnote_to_be_reexecuted": false,
    "execution_millis": 9,
    "execution_start": 1641769335146,
    "source_hash": "9c52f298",
    "tags": []
   },
   "outputs": [
    {
     "data": {
      "text/plain": [
       "Complesso Monumentale       1\n",
       "Edificio Cittadino          4\n",
       "Edificio Religioso         11\n",
       "Ex Edificio Cittadino       1\n",
       "Monumento                   1\n",
       "Monumento Commemorativo     2\n",
       "Statua                      3\n",
       "Statua Commemorativa        8\n",
       "Name: Tipologia, dtype: int64"
      ]
     },
     "execution_count": 12,
     "metadata": {},
     "output_type": "execute_result"
    }
   ],
   "source": [
    "itineraries_caserta_df['Tipologia'] = itineraries_caserta_df['Tipologia'].str.title()\n",
    "itineraries_caserta_df['Tipologia'] = itineraries_caserta_df['Tipologia'].str.replace(\"Statua Commemorativo\", \"Statua Commemorativa\", regex=False)\n",
    "\n",
    "itineraries_caserta_df['Tipologia'].value_counts().sort_index()"
   ]
  },
  {
   "cell_type": "markdown",
   "id": "19f796e9",
   "metadata": {
    "cell_id": "00018-af4ac226-2702-4907-81c8-cc359b44eac1",
    "deepnote_cell_type": "markdown",
    "tags": []
   },
   "source": [
    "### 6. Building century - Secolo di costruzione - replace empty values with NULL"
   ]
  },
  {
   "cell_type": "code",
   "execution_count": 13,
   "id": "8c78541f",
   "metadata": {
    "cell_id": "00019-aeb19778-ee3e-4c4e-81ba-bef127e38626",
    "deepnote_cell_type": "code",
    "deepnote_output_heights": [
     136.3125
    ],
    "deepnote_to_be_reexecuted": false,
    "execution_millis": 4,
    "execution_start": 1641769335161,
    "source_hash": "b7be905b",
    "tags": []
   },
   "outputs": [
    {
     "data": {
      "text/plain": [
       "NULL      1\n",
       "XIX       8\n",
       "XVII      1\n",
       "XVIII     7\n",
       "XX       12\n",
       "XXI       2\n",
       "Name: Secolo di costruzione, dtype: int64"
      ]
     },
     "execution_count": 13,
     "metadata": {},
     "output_type": "execute_result"
    }
   ],
   "source": [
    "itineraries_caserta_df['Secolo di costruzione'].value_counts().sort_index()"
   ]
  },
  {
   "cell_type": "markdown",
   "id": "2f590f94",
   "metadata": {
    "cell_id": "00020-a2904227-a4ae-46e7-9056-d8e1865014ec",
    "deepnote_cell_type": "markdown",
    "tags": []
   },
   "source": [
    "### 7. First year certification - Anno prima attestazione - replace NON DISPONIBILE/empty values with NULL"
   ]
  },
  {
   "cell_type": "code",
   "execution_count": 14,
   "id": "7127a96a",
   "metadata": {
    "cell_id": "00021-e32f9fec-9cd5-4219-b734-5ef2b92de86d",
    "deepnote_cell_type": "code",
    "deepnote_output_heights": [
     462.5
    ],
    "deepnote_to_be_reexecuted": false,
    "execution_millis": 5,
    "execution_start": 1641769335176,
    "source_hash": "bdf983b7",
    "tags": []
   },
   "outputs": [
    {
     "data": {
      "text/plain": [
       "1766    1\n",
       "1774    1\n",
       "1776    1\n",
       "1778    1\n",
       "1779    1\n",
       "1781    1\n",
       "1807    1\n",
       "1837    1\n",
       "1842    1\n",
       "1877    2\n",
       "1889    1\n",
       "1890    1\n",
       "1907    1\n",
       "1925    1\n",
       "1929    2\n",
       "1933    1\n",
       "1936    2\n",
       "1937    1\n",
       "1943    1\n",
       "1957    1\n",
       "1973    1\n",
       "1977    1\n",
       "NULL    6\n",
       "Name: Anno prima attestazione, dtype: int64"
      ]
     },
     "execution_count": 14,
     "metadata": {},
     "output_type": "execute_result"
    }
   ],
   "source": [
    "itineraries_caserta_df['Anno prima attestazione'] = itineraries_caserta_df['Anno prima attestazione'].replace(to_replace=[\"anni 2000\", \"Non disponibile\"], value=NULL_VALUE)\n",
    "itineraries_caserta_df['Anno prima attestazione'].value_counts().sort_index()"
   ]
  },
  {
   "cell_type": "markdown",
   "id": "f97ca094",
   "metadata": {
    "cell_id": "00022-1d913546-b3b8-4516-97c4-4e86f1d70e61",
    "deepnote_cell_type": "markdown",
    "tags": []
   },
   "source": [
    "### 8. Itinerary period - Itinerario (periodo) - check value consistency"
   ]
  },
  {
   "cell_type": "code",
   "execution_count": 15,
   "id": "cfbd2ed8",
   "metadata": {
    "cell_id": "00023-70306d86-c430-42ee-8043-8195ca035b7d",
    "deepnote_cell_type": "code",
    "deepnote_output_heights": [
     40.375
    ],
    "deepnote_to_be_reexecuted": false,
    "execution_millis": 30,
    "execution_start": 1641769335181,
    "source_hash": "5a0aa358",
    "tags": []
   },
   "outputs": [
    {
     "data": {
      "text/plain": [
       "Contemporaneo    31\n",
       "Name: Itinerario (periodo), dtype: int64"
      ]
     },
     "execution_count": 15,
     "metadata": {},
     "output_type": "execute_result"
    }
   ],
   "source": [
    "itineraries_caserta_df['Itinerario (periodo)'] = itineraries_caserta_df['Itinerario (periodo)'].str.replace(\"Contemporanea\", \"Contemporaneo\", regex=False)\n",
    "itineraries_caserta_df['Itinerario (periodo)'].value_counts().sort_index()"
   ]
  },
  {
   "cell_type": "markdown",
   "id": "a856be23",
   "metadata": {
    "cell_id": "00024-1e87b812-ad08-4086-962b-1b14079e82b4",
    "deepnote_cell_type": "markdown",
    "tags": []
   },
   "source": [
    "### 9. Style - Stile - check value consistency + replace empty values with NULL"
   ]
  },
  {
   "cell_type": "code",
   "execution_count": 16,
   "id": "10cfe4c7",
   "metadata": {
    "cell_id": "00025-acddb375-42cd-40d0-bc0d-9ea76dce80db",
    "deepnote_cell_type": "code",
    "deepnote_output_heights": [
     155.5
    ],
    "deepnote_to_be_reexecuted": false,
    "execution_millis": 15,
    "execution_start": 1641769335208,
    "source_hash": "e4623e93",
    "tags": []
   },
   "outputs": [
    {
     "data": {
      "text/plain": [
       "Contemporaneo            21\n",
       "Fascista                  1\n",
       "Moderno                   1\n",
       "NULL                      3\n",
       "Post-Vanvitelliano        2\n",
       "Vanvitelliana/Barocca     1\n",
       "Vanvitelliano             2\n",
       "Name: Stile, dtype: int64"
      ]
     },
     "execution_count": 16,
     "metadata": {},
     "output_type": "execute_result"
    }
   ],
   "source": [
    "itineraries_caserta_df['Stile'] = itineraries_caserta_df['Stile'].str.replace(\"Post- Vanvitelliano\", \"Post-Vanvitelliano\", regex=False)\n",
    "itineraries_caserta_df['Stile'].value_counts().sort_index()"
   ]
  },
  {
   "cell_type": "markdown",
   "id": "15c2544a",
   "metadata": {
    "cell_id": "00026-13ef4688-5640-4dab-8f71-9c6708cf86ac",
    "deepnote_cell_type": "markdown",
    "tags": []
   },
   "source": [
    "### 10. Details - Informazioni - replace NON DISPONIBILE/empty values with NULL + clean values (e.g., numbers)"
   ]
  },
  {
   "cell_type": "code",
   "execution_count": 17,
   "id": "eaef8800",
   "metadata": {
    "cell_id": "00027-3c3e6ead-9ffb-4247-af25-d84f2e70c4ce",
    "deepnote_cell_type": "code",
    "deepnote_output_heights": [
     539.25
    ],
    "deepnote_to_be_reexecuted": false,
    "execution_millis": 41,
    "execution_start": 1641769335221,
    "source_hash": "df8ff6af",
    "tags": []
   },
   "outputs": [
    {
     "data": {
      "text/plain": [
       "A san nicola la strada,precisamente a via appia,si trovano delle nicchiette incastonate nel muro con all'interno 2 statue raffiguranti la madonna di lourdes e santa bernadette.fu realizzata dai padri passionistiin occasione della loro visita missionaria a san nicola la strada.                                                                                                                                                                                                                                                                                                                                                                                                                                                                                                                                                                                                                                                                                                                                                                                                                                                                                                                                                                                                                                                                                                                                                                                                                                                                                                                                                                                                                                                                                                                                                                                                                                                                                                                                                                                                                                                                                                                                                                                                                                                                                                                                                                                                                                                                                                                                                                                                                                                                                                                                                                                                                                                                                                                                                                                                                                                                                                                                                                                                                                                                                                                                                                                                                                                                                                                                                                                                                                                                                                                                                                                                                                                                                                                                                                                                                                                                                                                                                                                                                                                                                                                                                                                                                                                                                                                                                                                                                                                                                                                                                                                                                                                                                                                                                                                                                                                                                                                                                                                                                                                                                                                                                                                                                                                                                                                                                                                                                                                                                                                                                                                                                                                                                                                                                                                                1\n",
       "Al centro della villa comunale, si innalza un meraviglioso  monumento di marmo bianco su basamento quadrato su cui poggia un tronco di piramide, che fa da sostegno ad una colonna, recante in cima il busto di pietro rosano, avvocato ed uomo politico illustre.  su uno dei lati, è raffigurata una donna con della frutta, rappresentante la campania e la sua feracità; una scritta ricorda la data del monumento (1911) e la dedica della campania.  l’opera è dello scultore polistenese  francesco ierace, e fu eretta il 5 maggio 1907. pietro rosano nacque il 25 dicembre del 1846; e, benché non fosse aversano di nascita, visse e si interessò moltissimo della cittàdi aversa,  dalla quale fu eletto deputato del regno, il 1 ottobre 1882, dopo che aveva eroicamente combattuto con garibaldi e, nel 1866, a bezzecca, era stato anche ferito. dal 1882 al 1903 fu deputato eletto da aversa; nel 1903 fu anche nominato ministro; ma, ingiustamente accusato, si suicidiò. la città di aversa gli ha intitolato una strada ed eretto un monumento marmoreo. nella villa comunale.al politico ed avvocato pietro rosano ad aversa (1907).sostenitore dello statista di mondovì giovanni giolitti, fu deputato al parlamento rappresentando il collegio di aversa quasi ininterrottamente dall'ottobre 1882 al 1903, sottosegretario al ministero dell'interno (1892-93) e ministro delle finanze del regno d'italia nel secondo esecutivo guidato dallo statista piemontese, che prima di lui aveva pensato, per l'incarico, ad esponenti della sinistra. fu penalista principe, la sua parola penetrante e affascinante, vinse in tutti i tribunali d'italia e nei processi più difficili. cognato di gaspare colosimo, fu allievo di nicola amore.                                                                                                                                                                                                                                                                                                                                                                                                                                                                                                                                                                                                                                                                                                                                                                                                                                                                                                                                                                                                                                                                                                                                                                                                                                                                                                                                                                                                                                                                                                                                                                                                                                                                                                                                                                                                                                                                                                                                                                                                                                                                                                                                                                                                                                                                                                                                                                                                                                                                                                                                                                                                                                                                                                                                                                                                                                                                                                                                                                                                                                                                                                                                                                                                                                                                                                                                                                                                                                                                                                                                                                                                                                                                                                                                                                                                                                                                                                                                                                                                                                                                                                                                                                                                                                                                                                               1\n",
       "Bellissima e importante testimonianza del nucleo storico abitativo di san prisco, è la torre dell’orologio. la sua costruzione risale al 1776 in località di “trevice”; fu fatta in economia dall’università del casale di santo prisco, con maestri muratori di san prisco e casapulla.                                                                                                                                                                                                                                                                                                                                                                                                                                                                                                                                                                                                                                                                                                                                                                                                                                                                                                                                                                                                                                                                                                                                                                                                                                                                                                                                                                                                                                                                                                                                                                                                                                                                                                                                                                                                                                                                                                                                                                                                                                                                                                                                                                                                                                                                                                                                                                                                                                                                                                                                                                                                                                                                                                                                                                                                                                                                                                                                                                                                                                                                                                                                                                                                                                                                                                                                                                                                                                                                                                                                                                                                                                                                                                                                                                                                                                                                                                                                                                                                                                                                                                                                                                                                                                                                                                                                                                                                                                                                                                                                                                                                                                                                                                                                                                                                                                                                                                                                                                                                                                                                                                                                                                                                                                                                                                                                                                                                                                                                                                                                                                                                                                                                                                                                                                                             1\n",
       "Chiesa evangelica che sorge nel cuore di piazza pitesti, nel centro di caserta. stile moderno. aperto dalle 8:00 fino alle 20:30                                                                                                                                                                                                                                                                                                                                                                                                                                                                                                                                                                                                                                                                                                                                                                                                                                                                                                                                                                                                                                                                                                                                                                                                                                                                                                                                                                                                                                                                                                                                                                                                                                                                                                                                                                                                                                                                                                                                                                                                                                                                                                                                                                                                                                                                                                                                                                                                                                                                                                                                                                                                                                                                                                                                                                                                                                                                                                                                                                                                                                                                                                                                                                                                                                                                                                                                                                                                                                                                                                                                                                                                                                                                                                                                                                                                                                                                                                                                                                                                                                                                                                                                                                                                                                                                                                                                                                                                                                                                                                                                                                                                                                                                                                                                                                                                                                                                                                                                                                                                                                                                                                                                                                                                                                                                                                                                                                                                                                                                                                                                                                                                                                                                                                                                                                                                                                                                                                                                                     1\n",
       "Così com'è posta, assume un magnifico effetto scenografico. la composizione richiama gusti del verismo francese della prima metà dell'800. nel 1936 il monumento era dedicato ai caduti della prima guerra mondiale,poi, le autorità hanno esteso la dedica ai caduti di tutte le guerre (vedi la piccola lapide posta sotto la fiaccola in bronzo con scritta ai caduti di tutte le guerre, 30-11-1960)                                                                                                                                                                                                                                                                                                                                                                                                                                                                                                                                                                                                                                                                                                                                                                                                                                                                                                                                                                                                                                                                                                                                                                                                                                                                                                                                                                                                                                                                                                                                                                                                                                                                                                                                                                                                                                                                                                                                                                                                                                                                                                                                                                                                                                                                                                                                                                                                                                                                                                                                                                                                                                                                                                                                                                                                                                                                                                                                                                                                                                                                                                                                                                                                                                                                                                                                                                                                                                                                                                                                                                                                                                                                                                                                                                                                                                                                                                                                                                                                                                                                                                                                                                                                                                                                                                                                                                                                                                                                                                                                                                                                                                                                                                                                                                                                                                                                                                                                                                                                                                                                                                                                                                                                                                                                                                                                                                                                                                                                                                                                                                                                                                                                             1\n",
       "Essa ospitava una dinamica azienda agricola, ben progettata nelle infrastrutture edili e ben organizzata negli allevamenti di pregiate razze equine, nella produzione e commercializzazione dei prodotti agricoli e caseari. la reggia di carditello, situata a circa 4 km ad ovest dell'abitato di san tammaro, a metà strada tra napoli e caserta, in via foresta a carditello, è un complesso architettonico sobrio ed elegante di stile neoclassico, destinato da carlo di borbone (1716-1788) a luogo per la caccia e l'allevamento di cavalli e poi trasformato per volontà di ferdinando iv di borbone (1751-1825) in una fattoria modello per la coltivazione del grano e l'allevamento di razze pregiate di cavalli e bovini. era immerso in una vasta tenuta ricca di boschi, pascoli e terreni seminativi, e si estendeva su di una superficie di 6.305 moggia capuane, corrispondenti a circa 2.100 ettari. era animato da un discreto numero di persone dedite alla conduzione dell'azienda. carditello era uno dei siti reali che si fregiava del titolo di \"reale delizia\" perché, nonostante la sua funzione di azienda, offriva una piacevole permanenza al re e alla sua corte per le particolari battute di caccia che i numerosi boschi ricchi di selvaggina permettevano.                                                                                                                                                                                                                                                                                                                                                                                                                                                                                                                                                                                                                                                                                                                                                                                                                                                                                                                                                                                                                                                                                                                                                                                                                                                                                                                                                                                                                                                                                                                                                                                                                                                                                                                                                                                                                                                                                                                                                                                                                                                                                                                                                                                                                                                                                                                                                                                                                                                                                                                                                                                                                                                                                                                                                                                                                                                                                                                                                                                                                                                                                                                                                                                                                                                                                                                                                                                                                                                                                                                                                                                                                                                                                                                                                                                                                                                                                                                                                                                                                                                                                                                                                                                                                                                                                                                                                                                                                                                                                                                                                                                                                                                                                                                                                                                       1\n",
       "Il \"monumento-ossario\" è stato eretto per poter perpetrare la memoria della uccisione di ben 54 inermi vittime civili avvenuta il 7 ottobre 1943. in quella data i nazisti, per un'assurda rappresaglia contro l'avvenuta uccisione di un loro soldato, fucilarono 54, ripeto civili inermi, presso quella che all'epoca dei fatti veniva adoperata come cava di tufo. oggi nella medesima località sorge il monumento avente lo scopo di onorare l'eccidio di quei martiri di bellona. su di una stele, inoltre, sono state riportate le parole facenti parte di un'epigrafe voluta da benedetto croce in loro memoria                                                                                                                                                                                                                                                                                                                                                                                                                                                                                                                                                                                                                                                                                                                                                                                                                                                                                                                                                                                                                                                                                                                                                                                                                                                                                                                                                                                                                                                                                                                                                                                                                                                                                                                                                                                                                                                                                                                                                                                                                                                                                                                                                                                                                                                                                                                                                                                                                                                                                                                                                                                                                                                                                                                                                                                                                                                                                                                                                                                                                                                                                                                                                                                                                                                                                                                                                                                                                                                                                                                                                                                                                                                                                                                                                                                                                                                                                                                                                                                                                                                                                                                                                                                                                                                                                                                                                                                                                                                                                                                                                                                                                                                                                                                                                                                                                                                                                                                                                                                                                                                                                                                                                                                                                                                                                                                                                                                                                                                              1\n",
       "Il 28 ottobre 1864 il municipio di santa maria capua vetere bandì un concorso di progettazione per la realizzazione di un teatro pubblico. furono presentati 17 progetti, 8 dei quali furono presi in considerazione dalla commissione appositamente nominata, ma nessuno di questi rispondeva pienamente alle indicazioni del bando. dopo circa vent'anni, il 1º marzo 1887, fu bandito un altro concorso per un progetto dalle caratteristiche simili (3 ordini di palchi invece di 4 e un minor numero di sale) e, tra i progetti presentati, fu scelto quello del prof. antonio curri che si ispirò all'opéra garnier di parigi. i lavori, iniziati il 13 agosto 1889, furono aggiudicati alla ditta d'agostino e casella di salerno (che per i lavori in muratura si avvalse della locale impresa di pasquale angiello) e furono terminati nell'arco di sette anni[2]. la spesa complessiva, originariamente stimata in lire 200.000, risultò, a lavori ultimati, pari a lire 450.000, più del doppio di quanto inizialmente previsto[3]. il 12 aprile del 1896 il teatro, intitolato a giuseppe garibaldi, fu inaugurato con la messa in scena del \"la forza del destino\" di giuseppe verdi diretta dal maestro vincenzo grandine.                                                                                                                                                                                                                                                                                                                                                                                                                                                                                                                                                                                                                                                                                                                                                                                                                                                                                                                                                                                                                                                                                                                                                                                                                                                                                                                                                                                                                                                                                                                                                                                                                                                                                                                                                                                                                                                                                                                                                                                                                                                                                                                                                                                                                                                                                                                                                                                                                                                                                                                                                                                                                                                                                                                                                                                                                                                                                                                                                                                                                                                                                                                                                                                                                                                                                                                                                                                                                                                                                                                                                                                                                                                                                                                                                                                                                                                                                                                                                                                                                                                                                                                                                                                                                                                                                                                                                                                                                                                                                                                                                                                                                                                                                                                                                                                                                                             1\n",
       "Il fabbricato è stato costruito dall'architetto francesco collecini, allievo e collaboratore di luigi vanvitelli. l'area antistante, formata da una pista in terra battuta che richiama la forma dei circhi romani, abbellita con fontane, obelischi ed un tempietto circolare dalle forme classicheggianti, era destinata a pista per cavalli.                                                                                                                                                                                                                                                                                                                                                                                                                                                                                                                                                                                                                                                                                                                                                                                                                                                                                                                                                                                                                                                                                                                                                                                                                                                                                                                                                                                                                                                                                                                                                                                                                                                                                                                                                                                                                                                                                                                                                                                                                                                                                                                                                                                                                                                                                                                                                                                                                                                                                                                                                                                                                                                                                                                                                                                                                                                                                                                                                                                                                                                                                                                                                                                                                                                                                                                                                                                                                                                                                                                                                                                                                                                                                                                                                                                                                                                                                                                                                                                                                                                                                                                                                                                                                                                                                                                                                                                                                                                                                                                                                                                                                                                                                                                                                                                                                                                                                                                                                                                                                                                                                                                                                                                                                                                                                                                                                                                                                                                                                                                                                                                                                                                                                                                                      1\n",
       "Il monumento ai fratelli de simone consta di un basamento di travertino su cui, dal corpo centrale, si eleva una colonna sulla quale poggia un gruppo scultoreo in bronzo raffigurante quattro teste di militi. esso è costituito da un busto con quattro teste, rappresentante i quattro fratelli de simone: silvio è il fratello maggiore, intraprese la carriera militare, partì per la guerra libica e morì in combattimento. carlo è il secondo fratello, si laureò in legge e si avviò alla carriera forense, partì per il fronte con il grado di tenente, dopo un combattimento fu dato per disperso. stefano è il terzo fratello, si laureò in medicina e si specializzò in oculistica all'università di parigi, andò al fronte con il grado di capitano medico, morì nell'ospedale psichiatrico di aversa, dove venne ricoverato a seguito del forte trauma dovuto alle sofferenze vissute in guerra. enrico è l'ultimo fratello, si accingeva alla professione notarile quando partì volontario per il fronte albanese, con il grado di tenente, venne ferito gravemente e morì nell'ospedale militare di milano.                                                                                                                                                                                                                                                                                                                                                                                                                                                                                                                                                                                                                                                                                                                                                                                                                                                                                                                                                                                                                                                                                                                                                                                                                                                                                                                                                                                                                                                                                                                                                                                                                                                                                                                                                                                                                                                                                                                                                                                                                                                                                                                                                                                                                                                                                                                                                                                                                                                                                                                                                                                                                                                                                                                                                                                                                                                                                                                                                                                                                                                                                                                                                                                                                                                                                                                                                                                                                                                                                                                                                                                                                                                                                                                                                                                                                                                                                                                                                                                                                                                                                                                                                                                                                                                                                                                                                                                                                                                                                                                                                                                                                                                                                                                                                                                                                                                                                                                                                          1\n",
       "Il monumento al milite ignoto fu realizzato dopo la prima guerra mondiale ed inaugurato il 17 novembre 1929, con una solenne manifestazione alla presenza del generale di corpo d’armata, il conte federico baistrocchi, sottosegretario di stato alla guerra ed altre cariche dello stato. il monumento è dedicato ai 265 concittadini caduti durante la grande guerra. a realizzare il progetto fu l’ingegnere luigi santa maria, che creò una struttura piramidale sulla cui sommità vi è posto il milite ignoto, opera del prof. sintoni turillo. al livello più basso, vi è una seconda statua femminile in un atteggiamento di riflessione realizzata dal maestro luigi de luca, che rappresenta la giovinezza degli eroi.                                                                                                                                                                                                                                                                                                                                                                                                                                                                                                                                                                                                                                                                                                                                                                                                                                                                                                                                                                                                                                                                                                                                                                                                                                                                                                                                                                                                                                                                                                                                                                                                                                                                                                                                                                                                                                                                                                                                                                                                                                                                                                                                                                                                                                                                                                                                                                                                                                                                                                                                                                                                                                                                                                                                                                                                                                                                                                                                                                                                                                                                                                                                                                                                                                                                                                                                                                                                                                                                                                                                                                                                                                                                                                                                                                                                                                                                                                                                                                                                                                                                                                                                                                                                                                                                                                                                                                                                                                                                                                                                                                                                                                                                                                                                                                                                                                                                                                                                                                                                                                                                                                                                                                                                                                                                                                                                                     1\n",
       "Il monumento fu inaugurato nel 1933 alla presenza del principe umberto di savoia e della sua consorte maria josè. l’opera fu realizzata dallo scultore napoletano filippo cifariello. il monumento è dedicato anche al pilota, medaglia d’oro, oreste salomone.                                                                                                                                                                                                                                                                                                                                                                                                                                                                                                                                                                                                                                                                                                                                                                                                                                                                                                                                                                                                                                                                                                                                                                                                                                                                                                                                                                                                                                                                                                                                                                                                                                                                                                                                                                                                                                                                                                                                                                                                                                                                                                                                                                                                                                                                                                                                                                                                                                                                                                                                                                                                                                                                                                                                                                                                                                                                                                                                                                                                                                                                                                                                                                                                                                                                                                                                                                                                                                                                                                                                                                                                                                                                                                                                                                                                                                                                                                                                                                                                                                                                                                                                                                                                                                                                                                                                                                                                                                                                                                                                                                                                                                                                                                                                                                                                                                                                                                                                                                                                                                                                                                                                                                                                                                                                                                                                                                                                                                                                                                                                                                                                                                                                                                                                                                                                                      1\n",
       "Il santuario è dedicato a san salvatore di horta. le spoglie del santo vennero trasferite prima nella chiesa di san mauro a villanova (in cui è ancora conservata una reliquia e l'arca in pietra che ne conteneva il corpo) e da qui, nel 1758, nella chiesa di santa rosalia nella marina. santa rosalia è il principale santuario di san salvatore, dove il suo corpo è esposto, all'interno di una teca in vetro posta sotto la mensa dell'altare maggiore, alla venerazione dei fedeli. un santuario dedicato al santo sorge anche nel comune di orta di atella.                                                                                                                                                                                                                                                                                                                                                                                                                                                                                                                                                                                                                                                                                                                                                                                                                                                                                                                                                                                                                                                                                                                                                                                                                                                                                                                                                                                                                                                                                                                                                                                                                                                                                                                                                                                                                                                                                                                                                                                                                                                                                                                                                                                                                                                                                                                                                                                                                                                                                                                                                                                                                                                                                                                                                                                                                                                                                                                                                                                                                                                                                                                                                                                                                                                                                                                                                                                                                                                                                                                                                                                                                                                                                                                                                                                                                                                                                                                                                                                                                                                                                                                                                                                                                                                                                                                                                                                                                                                                                                                                                                                                                                                                                                                                                                                                                                                                                                                                                                                                                                                                                                                                                                                                                                                                                                                                                                                                                                                                                                                1\n",
       "L'opera fu realizzata da francesco jerace nel 1929. di gusto tardo-neoclassico, si ispira a modelli canoviani. il monumento, che raffigura il maestro appoggiato alla transenna, era completato da un genietto alato sul podio, non più esistente, ispiratore allegorico della musica scherzosa del maestro[79]. è collocata in piazza mazzini, nello spazio antistante la stazione ferroviaria[                                                                                                                                                                                                                                                                                                                                                                                                                                                                                                                                                                                                                                                                                                                                                                                                                                                                                                                                                                                                                                                                                                                                                                                                                                                                                                                                                                                                                                                                                                                                                                                                                                                                                                                                                                                                                                                                                                                                                                                                                                                                                                                                                                                                                                                                                                                                                                                                                                                                                                                                                                                                                                                                                                                                                                                                                                                                                                                                                                                                                                                                                                                                                                                                                                                                                                                                                                                                                                                                                                                                                                                                                                                                                                                                                                                                                                                                                                                                                                                                                                                                                                                                                                                                                                                                                                                                                                                                                                                                                                                                                                                                                                                                                                                                                                                                                                                                                                                                                                                                                                                                                                                                                                                                                                                                                                                                                                                                                                                                                                                                                                                                                                                                                     1\n",
       "L'utopia di re ferdinando di dar vita ad una comunità autonoma (chiamata appunto ferdinandopoli) lascia a caserta il belvedere di san leucio, i suoi appartamenti reali, il giardino all'italiana e l'annesso museo della seta, dove è possibile visitare i macchinari del settecento col quale si tesseva la seta diventata famosa in tutto il mondo tanto da arrivare ad arredare la casa bianca, buckingham palace e il palazzo del quirinale. da dieci anni nei mesi di giugno e luglio si tiene presso il teatro dei serici del belvedere il leuciana festival che in pochi anni è riuscito a catalizzare l'attenzione di migliaia di persone divenendo uno dei festival più prestigiosi della regione. il re carlo di borbone, consigliato dal ministro bernardo tanucci, pensò di formare i giovani del luogo mandandoli in francia ad apprendere l'arte della tessitura, per poi lavorare negli stabilimenti reali. venne così costituita nel 1778, su progetto dell'architetto francesco collecini, una comunità nota come real colonia di san leucio, basata su uno statuto apposito del 1789 che stabiliva leggi e regole valide solo per questa comunità. alle maestranze locali si aggiunsero subito anche artigiani francesi, genovesi, piemontesi e messinesi che si stabilirono a san leucio richiamati dai molti benefici di cui usufruivano i lavoratori delle seterie. ai lavoratori delle seterie veniva infatti assegnata una casa all'interno della colonia, ed era inoltre prevista anche per i familiari la formazione gratuita e qui il re istituì difatti la prima scuola dell'obbligo d'italia femminile e maschile che includeva discipline professionali, e le ore di lavoro erano 11, mentre nel resto d'europa erano 14. le abitazioni furono progettate tenendo presente tutte le regole urbanistiche dell'epoca, per far sì che durassero nel tempo (infatti ancora oggi sono abitate) e fin dall'inizio furono dotate di acqua corrente e servizi igienici. le donne ricevevano una dote dal re per sposare un appartenente della colonia, anche se a disposizione di tutti vi era una cassa comune \"di carità\", dove ognuno versava una parte dei propri guadagni. non c'era nessuna differenza tra gli individui qualunque fosse il lavoro svolto, l'uomo e la donna godevano di una totale parità in un sistema che faceva perno esclusivamente sulla meritocrazia. era abolita la proprietà privata, garantita l'assistenza agli anziani e agli infermi, ed era esaltato il valore della fratellanza                                                                                                                                                                                                                                                                                                                                                                                                                                                                                                                                                                                                                                                                                                                                                                                                                                                                                                                                                                                                                                                                                                                                                                                                                                                                                                                                                                                                                                                                                                                                                                                                                                                                                                                                                                                                                                                                                                                                                                                                                                                                                                                                                                                                                                                                                                                                                                                                                                                                                                                                                                                                                                                                                                                                                                                                                                                                                                                                                                                                                                                                                                                                                                                                                                                                                                                                                                                                                                                                                                                                           1\n",
       "La cappella si trova nell'omonima via san rocco, nel centro storico di castel volturno, e fu edificata nel 1766 per volere dei fedeli nella zona per poter invocare l'aiuto di san rocco in caso di pestilenze. l'edificio ha una facciata a capanna, con un grande portone in legno al centro, lesene decorative ai margini del prospetto e un timpano triangolare in sommità. l'interno è costituito da una sola navata con altare centrale, rifatto nel 1983. sull'altare si trova un quadro di luigi panarella del 1968 che raffigura san rocco in ginocchio al quale è apparsa la vergine con in braccio il bambino gesù. sul lato sinistro, incastonata nel muro, vi è una grande nicchia dove è conservata una grande statua del santo. sul lato destro vi è una piccola acquasantiera a forma di conchiglia. il pavimento in maioliche a rombi bianchi e neri è di antica fattura.                                                                                                                                                                                                                                                                                                                                                                                                                                                                                                                                                                                                                                                                                                                                                                                                                                                                                                                                                                                                                                                                                                                                                                                                                                                                                                                                                                                                                                                                                                                                                                                                                                                                                                                                                                                                                                                                                                                                                                                                                                                                                                                                                                                                                                                                                                                                                                                                                                                                                                                                                                                                                                                                                                                                                                                                                                                                                                                                                                                                                                                                                                                                                                                                                                                                                                                                                                                                                                                                                                                                                                                                                                                                                                                                                                                                                                                                                                                                                                                                                                                                                                                                                                                                                                                                                                                                                                                                                                                                                                                                                                                                                                                                                                                                                                                                                                                                                                                                                                                                                                                                                                                                                                                           1\n",
       "La chiesa principale è dedicata a santa maria dell'agnena, da cui prende il nome l'omonima parrocchia. costruita nel xviii secolo, domina l'intero centro abitato, in quanto è situata sulla parte più alta del paese ai piedi del monte tutuli e al suo interno si trovano numerosi dipinti dell'ottocento di pittori napoletani della scuola di posillipo di pregevole fattura. la costruzione della chiesa parrocchiale iniziò nel 1774 e terminò nel 1803. tutti i dipinti e i decori sugli intonaci furono invece realizzati in epoche successive. l'attuale chiesa fu costruita nelle vicinanze di un'altra chiesa più piccola, che crollò ancor prima che si concludessero i lavori della nuova chiesa parrocchiale; i vitulatini furono pertanto costretti ad entrare nella nuova chiesa sebbene i lavori fossero ancora in corso. la chiesa si trova in quella che un tempo era la zona più alta del paese. si sviluppa secondo un unico asse ed è ad unica navata e con il soffitto a volta. ai due lati ha annessi due ambienti: a sinistra la cappella di san michele arcangelo mentre a destra la sacrestia. la volta della navata è interamente decorata con quattro dipinti principali centrali a tempera molto grandi, ognuno dei quali ha ai due lati due medaglioni e più in giù, sopra ogni finestra, una grande lunetta con la raffigurazione di un angelo. alcuni dipinti furono realizzati nel 1925 dal pittore olivieri. i dipinti della volta raffigurano l'agonia di gesù nel getsemani, gesù all'età di dodici anni che parla coi dottori nel tempio, san francesco mentre riceve le stimmate, il cuore di gesù tra san domenico e santa caterina da siena. i medaglioni laterali raffigurano alcuni vescovi e santi importanti: san benedetto, san panfilo, san giovanni crisostomo, san roberto bellarmino, san girolamo, sant'ambrogio, sant'agostino e san simmaco. sulla parete d'ingresso della chiesa, ai due lati, sopra le due nicchie molto ampie si possono ammirare i dipinti del battesimo di gesù a sinistra e quello del buon pastore a destra. i lavori di restauro del 1997 hanno permesso di evidenziare i colori originari con cui fu pitturata la chiesa all'epoca della sua costruzione: si tratta di un giallo paglierino molto tenue. con quegli stessi colori è stata ridipinta ultimamente la chiesa, eliminando così tutti i falsi marmi e le altre decorazioni che, realizzate pochi decenni fa, avevano di molto appesantito l'ambiente. le pareti della navata sono ad arcate, quattro per ogni lato. all'interno di ogni arcata si trova una tela o una statua, ad eccezione della prima arcata di destra e di sinistra, nelle quali si trovano le porte che conducono alla cappella di s. michele e alla sacrestia. le tele sono di notevole valore artistico e quelle più antiche appartenevano già all'antica chiesa, poi crollata. quelle conservate nella chiesa madre sono quattro e raffigurano: san giuseppe morente, santa maria delle grazie, l'ultima cena e santa maria del monte carmelo. quest'ultima tela raffigura la santa vergine con ai lati san biagio, san sebastiano, santa matrona e santa lucia, è la più antica e risale agli inizi del settecento; essa è stata ritrovata durante i recenti lavori di restauro. la tela dell’ultima cena porta la firma del pittore napoletano giacinto gigante. l'abside risulta più riccamente decorato con stucchi e affreschi. sui due basamenti da cui ha inizio l'abside si possono ammirare due medaglioni, uno a sinistra raffigurante san gennaro ed uno a destra raffigurante sant'alfonso; sulle due pareti laterali dell'abside quattro dipinti, anche questi come tutti gli altri, realizzati con tecnica a tempera: a sinistra troviamo la scena dell'annunciazione di maria, più in alto, già nella volta, la scena del discorso della montagna; a destra la scena dell'assunzione di maria, più in alto, già nella volta, la scena dell'ultima cena. al centro della volta dell'abside è ubicato un affresco del 1899; è l'unico, tra quelli presenti nella chiesa, a non essere stato realizzato con tecnica a tempera. autore dell'affresco è un pittore napoletano, un certo barbato. l'affresco descrive una scena dell'apocalisse: al centro vi è l'agnello pasquale seduto sul libro dei sette sigilli, circondato da due angeli in adorazione e da numerosi vegliardi. anche questo dipinto è stato ritrovato durante i lavori di restauro del 1997; l'affresco era stato infatti ricoperto, nel 1960 circa, da una tela realizzata da un pittore vitulatino. sulla parete frontale dell'abside, attualmente si trova una grande tela di gaetano gigante, padre del più noto giacinto, datata anno 1800; la tela rappresenta la vergine dell'agnena, seduta su di un basamento, avente ai piedi un agnello e ai lati santo stefano, patrono di vitulazio, e san giovanni battista. in una nicchia laterale della navata.una statua lignea del xviii raffigurante s. maria dell'agnena, titolare della chiesa stessa come era in origine fino agli anni sessanta. la statua tra gli anni seesanta e duemila era ubicata in una nicchia nella parete frontale dell'abside. sempre in sacrestia si possono ammirare altre statue lignee molto antiche come: sant'anna con maria bambina, santa lucia e l’ecce homo. infine nell'attigua cappella di s. michele si possono ammirare una piccola tela raffigurante l'arcangelo michele e due statue lignee raffiguranti una l'arcangelo s. michele che vince lucifero e l'altra l’arcangelo raffaele. alle spalle della chiesa madre si trova l'omonimo centro parrocchiale, moderno ed attrezzato, al centro del quale è ubicata dall'anno 2000 l'enorme croce alta 33 m, realizzata in ferro e cemento armato. tale opera ciclopica, di dubbio gusto estetico ed estranea al contesto storico-architettonico del luogo, fu voluta dal allora parroco pietro lagnese, attuale vescovo di ischia, per ricordare il giubileo del 2000; la sua altezza (33 metri) simboleggia gli anni di gesù.    1\n",
       "La chiesa si trova nella zona dell'uliveto all'ombra del castello medievale, tra l'attuale piazza umberto i e piazza giacinto de sivo, nell'antica \"piazza grande\" . l'idea di costruirla nacque durante un'adunanza di confratelli che ufficiavano nella parrocchia di san benedetto per accompagnare in processione il santissimo sacramento. nel suo impianto architettonico la chiesa si presenta a navata unica con cappelle laterali, intersecata da un transetto, tanto da formare la croce latina. all'interno, l'alta cupola, sorretta da quattro archi, è illuminata da otto finestroni; la volta è a botte ed è rivestita di stucco. una grande statua rappresentante il cristo è posta dietro la porta grande a ricordo del giubileo del 2000. la cappella sinistra si apre con la cappellina detta dell'ecce homo, dove si può notare l'unico altare in muratura esistente. segue la cappella detta degli iorio, dove troviamo la tavola della madonna delle anime purganti dell'artista fiorentino giovanni calducci del xvii sec.                                                                                                                                                                                                                                                                                                                                                                                                                                                                                                                                                                                                                                                                                                                                                                                                                                                                                                                                                                                                                                                                                                                                                                                                                                                                                                                                                                                                                                                                                                                                                                                                                                                                                                                                                                                                                                                                                                                                                                                                                                                                                                                                                                                                                                                                                                                                                                                                                                                                                                                                                                                                                                                                                                                                                                                                                                                                                                                                                                                                                                                                                                                                                                                                                                                                                                                                                                                                                                                                                                                                                                                                                                                                                                                                                                                                                                                                                                                                                                                                                                                                                                                                                                                                                                                                                                                                                                                                                                                                                                                                                                                                                                                                                                                                                                                                                                                                                                                                                                                                                                     1\n",
       "La facciata principale è caratterizzata da un'ampia scalinata in pietra di bellona e si articola in due ordini. le due nicchie presenti nella parte alta della facciata ospitano le statue in gesso di san michele arcangelo a sinistra e san sebastiano a destra. i tre portali di ingresso conducono ad una struttura a tre navate scandite da colonne. la copertura della navata principale è costituita da cassettoni decorati in stucco. tra la navata e il transetto si trova l'opera di luigi taglialatela trionfo di san michele arcangelo sul demonio. la fascia che corre sul colonnato della navata principale è decorata con affreschi che rappresentano gli angeli, il battesimo di gesù, la resurrezione e la sacra famiglia. le navate laterali ospitano una serie di altari dedicati a san francesco, al sacro cuore di gesù, a san giuseppe, a sant'anna (compatrona di caserta), al crocifisso. la zona dell'abside è invece affrescata con la tavola dei dodici apostoli e alcuni episodi biblici.al disotto dell'abside sono situate le cripte: un sistema di ambienti antichi e moderni, progettati e restaurati di recente, che ospitano reperti archeologici dell'antica terra di lavoro, opere d'arte di artisti contemporanei (battista marello), le tombe dei vescovi della diocesi e, soprattutto, in una grande arca metallica, la formella in terracotta incisa con il segno della croce dal santo padre giovanni paolo ii, che l'ha anche firmata, durante la sua prima visita apostolica nella cattedrale caseretana. il percorso sotterraneo delle cripte si conclude in un piccolo giardino pergolato, luogo di sosta e di preghiera.                                                                                                                                                                                                                                                                                                                                                                                                                                                                                                                                                                                                                                                                                                                                                                                                                                                                                                                                                                                                                                                                                                                                                                                                                                                                                                                                                                                                                                                                                                                                                                                                                                                                                                                                                                                                                                                                                                                                                                                                                                                                                                                                                                                                                                                                                                                                                                                                                                                                                                                                                                                                                                                                                                                                                                                                                                                                                                                                                                                                                                                                                                                                                                                                                                                                                                                                                                                                                                                                                                                                                                                                                                                                                                                                                                                                                                                                                                                                                                                                                                                                                                                                                                                                                                                                                                                                                                                                               1\n",
       "La statua della carità venne scolpita nel 1877 dallo scultore marcianisano onofrio buccini. raffigura una donna che offre un pezzo di pane a un povero mendicante che non è in grado di camminare. alla statua è stata dedicata una piazza che prende il nome di piazza carità.                                                                                                                                                                                                                                                                                                                                                                                                                                                                                                                                                                                                                                                                                                                                                                                                                                                                                                                                                                                                                                                                                                                                                                                                                                                                                                                                                                                                                                                                                                                                                                                                                                                                                                                                                                                                                                                                                                                                                                                                                                                                                                                                                                                                                                                                                                                                                                                                                                                                                                                                                                                                                                                                                                                                                                                                                                                                                                                                                                                                                                                                                                                                                                                                                                                                                                                                                                                                                                                                                                                                                                                                                                                                                                                                                                                                                                                                                                                                                                                                                                                                                                                                                                                                                                                                                                                                                                                                                                                                                                                                                                                                                                                                                                                                                                                                                                                                                                                                                                                                                                                                                                                                                                                                                                                                                                                                                                                                                                                                                                                                                                                                                                                                                                                                                                                                      1\n",
       "La statua della carità venne scolpita nel 1877 dallo scultore marcianisano onofrio buccini. raffigura una donna che offre un pezzo di pane a un povero mendicante che non è in grado di camminare. alla statua è stata dedicata una piazza che prende il nome di piazza carità; altre opere di buccini presenti a marcianise, sono lo stemma in marmo del comune, sopra il portale del municipio, e, nel cimitero, un suo autoritratto in gesso e il busto di g.b. novelli. nel 2009, all’interno della vicina ex sede ospedaliera, è stata girata una scena del film l’affare bonnard.                                                                                                                                                                                                                                                                                                                                                                                                                                                                                                                                                                                                                                                                                                                                                                                                                                                                                                                                                                                                                                                                                                                                                                                                                                                                                                                                                                                                                                                                                                                                                                                                                                                                                                                                                                                                                                                                                                                                                                                                                                                                                                                                                                                                                                                                                                                                                                                                                                                                                                                                                                                                                                                                                                                                                                                                                                                                                                                                                                                                                                                                                                                                                                                                                                                                                                                                                                                                                                                                                                                                                                                                                                                                                                                                                                                                                                                                                                                                                                                                                                                                                                                                                                                                                                                                                                                                                                                                                                                                                                                                                                                                                                                                                                                                                                                                                                                                                                                                                                                                                                                                                                                                                                                                                                                                                                                                                                                                                                                                                              1\n",
       "L’edificio fu progettato nel 1937 e destinato, all’inizio, ad ospitare la confederazione fascista dei lavoratori dell’agricoltura. fu poi modificato per diventare casa del fascio ma, dati gli eventi bellici, non fu mai utilizzato come tale. dopo il 1945 diede asilo agli americani, poi fu sede dei sindacati e, più di recente, dell’ ufficio provinciale del lavoro e dell’istituto di igiene e profilassi.                                                                                                                                                                                                                                                                                                                                                                                                                                                                                                                                                                                                                                                                                                                                                                                                                                                                                                                                                                                                                                                                                                                                                                                                                                                                                                                                                                                                                                                                                                                                                                                                                                                                                                                                                                                                                                                                                                                                                                                                                                                                                                                                                                                                                                                                                                                                                                                                                                                                                                                                                                                                                                                                                                                                                                                                                                                                                                                                                                                                                                                                                                                                                                                                                                                                                                                                                                                                                                                                                                                                                                                                                                                                                                                                                                                                                                                                                                                                                                                                                                                                                                                                                                                                                                                                                                                                                                                                                                                                                                                                                                                                                                                                                                                                                                                                                                                                                                                                                                                                                                                                                                                                                                                                                                                                                                                                                                                                                                                                                                                                                                                                                                                                  1\n",
       "NULL                                                                                                                                                                                                                                                                                                                                                                                                                                                                                                                                                                                                                                                                                                                                                                                                                                                                                                                                                                                                                                                                                                                                                                                                                                                                                                                                                                                                                                                                                                                                                                                                                                                                                                                                                                                                                                                                                                                                                                                                                                                                                                                                                                                                                                                                                                                                                                                                                                                                                                                                                                                                                                                                                                                                                                                                                                                                                                                                                                                                                                                                                                                                                                                                                                                                                                                                                                                                                                                                                                                                                                                                                                                                                                                                                                                                                                                                                                                                                                                                                                                                                                                                                                                                                                                                                                                                                                                                                                                                                                                                                                                                                                                                                                                                                                                                                                                                                                                                                                                                                                                                                                                                                                                                                                                                                                                                                                                                                                                                                                                                                                                                                                                                                                                                                                                                                                                                                                                                                                                                                                                                                 5\n",
       "Pochi giorni dopo la liberazione di capua dai borboni i rappresentanti di capua decisero di realizzare un monumento in onore dei garibaldini morti durante la battaglia ma tale progetto non fu realizzato. nel 1889 le municipalità di santa maria capua vetere e di capua, si riunirono per decidere un luogo dove realizzare tale opera, ma situazioni di reciproco rancore e la presenza ancora di sostenitori del vecchio regime borbonico portarono ancora una volta al nulla di fatto. nello stesso anno, tuttavia, il comune di santa maria capua vetere deliberò la realizzazione di un parco urbano e quindi si decise di realizzare il monumento nel parco stesso. i lavori ebbero inizio nel 1902, e terminarono tre anni dopo.                                                                                                                                                                                                                                                                                                                                                                                                                                                                                                                                                                                                                                                                                                                                                                                                                                                                                                                                                                                                                                                                                                                                                                                                                                                                                                                                                                                                                                                                                                                                                                                                                                                                                                                                                                                                                                                                                                                                                                                                                                                                                                                                                                                                                                                                                                                                                                                                                                                                                                                                                                                                                                                                                                                                                                                                                                                                                                                                                                                                                                                                                                                                                                                                                                                                                                                                                                                                                                                                                                                                                                                                                                                                                                                                                                                                                                                                                                                                                                                                                                                                                                                                                                                                                                                                                                                                                                                                                                                                                                                                                                                                                                                                                                                                                                                                                                                                                                                                                                                                                                                                                                                                                                                                                                                                                                                                          1\n",
       "Si erge in piazza vanvitelli, con un'incisione: a luigi vanvitelli che con l'opera splendida del suo ingegno caserta innalzò a fama europea.                                                                                                                                                                                                                                                                                                                                                                                                                                                                                                                                                                                                                                                                                                                                                                                                                                                                                                                                                                                                                                                                                                                                                                                                                                                                                                                                                                                                                                                                                                                                                                                                                                                                                                                                                                                                                                                                                                                                                                                                                                                                                                                                                                                                                                                                                                                                                                                                                                                                                                                                                                                                                                                                                                                                                                                                                                                                                                                                                                                                                                                                                                                                                                                                                                                                                                                                                                                                                                                                                                                                                                                                                                                                                                                                                                                                                                                                                                                                                                                                                                                                                                                                                                                                                                                                                                                                                                                                                                                                                                                                                                                                                                                                                                                                                                                                                                                                                                                                                                                                                                                                                                                                                                                                                                                                                                                                                                                                                                                                                                                                                                                                                                                                                                                                                                                                                                                                                                                                         1\n",
       "Statua posta su di una base di pietra rappresentante l'agricoltura nella sua versione personificata. l' agricoltura ha rappresentato per secoli la principale attività di quella che una volta veniva chiamata la campania felix.                                                                                                                                                                                                                                                                                                                                                                                                                                                                                                                                                                                                                                                                                                                                                                                                                                                                                                                                                                                                                                                                                                                                                                                                                                                                                                                                                                                                                                                                                                                                                                                                                                                                                                                                                                                                                                                                                                                                                                                                                                                                                                                                                                                                                                                                                                                                                                                                                                                                                                                                                                                                                                                                                                                                                                                                                                                                                                                                                                                                                                                                                                                                                                                                                                                                                                                                                                                                                                                                                                                                                                                                                                                                                                                                                                                                                                                                                                                                                                                                                                                                                                                                                                                                                                                                                                                                                                                                                                                                                                                                                                                                                                                                                                                                                                                                                                                                                                                                                                                                                                                                                                                                                                                                                                                                                                                                                                                                                                                                                                                                                                                                                                                                                                                                                                                                                                                    1\n",
       "È un arco di trionfo in marmo bianco fatto costruire in epoca fascista per celebrare gli eroi della prima guerra mondiale. sulla cima è presente una statua che rappresenta la libertà e la vittoria. si trova all'imbocco di corso trieste.                                                                                                                                                                                                                                                                                                                                                                                                                                                                                                                                                                                                                                                                                                                                                                                                                                                                                                                                                                                                                                                                                                                                                                                                                                                                                                                                                                                                                                                                                                                                                                                                                                                                                                                                                                                                                                                                                                                                                                                                                                                                                                                                                                                                                                                                                                                                                                                                                                                                                                                                                                                                                                                                                                                                                                                                                                                                                                                                                                                                                                                                                                                                                                                                                                                                                                                                                                                                                                                                                                                                                                                                                                                                                                                                                                                                                                                                                                                                                                                                                                                                                                                                                                                                                                                                                                                                                                                                                                                                                                                                                                                                                                                                                                                                                                                                                                                                                                                                                                                                                                                                                                                                                                                                                                                                                                                                                                                                                                                                                                                                                                                                                                                                                                                                                                                                                                         1\n",
       "Name: Informazioni, dtype: int64"
      ]
     },
     "execution_count": 17,
     "metadata": {},
     "output_type": "execute_result"
    }
   ],
   "source": [
    "itineraries_caserta_df['Informazioni'] = itineraries_caserta_df['Informazioni'].str.capitalize()\n",
    "itineraries_caserta_df['Informazioni'] = itineraries_caserta_df['Informazioni'].replace(to_replace=[\"Non disponibile\", \"0\", NULL_VALUE.capitalize()], value=NULL_VALUE)\n",
    "itineraries_caserta_df['Informazioni'].value_counts().sort_index()"
   ]
  },
  {
   "cell_type": "markdown",
   "id": "f92dd095",
   "metadata": {
    "cell_id": "00028-e359e04d-f206-4550-9dd1-a5c72e3c6f43",
    "deepnote_cell_type": "markdown",
    "tags": []
   },
   "source": [
    "### 11. Localization - Geolocalizzazione - consider the possibility to split it in longitude and latitude + replace NON DISPONIBILE/empty values with NULL + check suspicious values"
   ]
  },
  {
   "cell_type": "code",
   "execution_count": 18,
   "id": "0ce9412a",
   "metadata": {
    "cell_id": "00029-6a1578c4-628e-4b75-9bbb-da3477503bc9",
    "deepnote_cell_type": "code",
    "deepnote_output_heights": [
     607,
     607
    ],
    "deepnote_table_loading": false,
    "deepnote_table_state": {
     "filters": [],
     "pageIndex": 0,
     "pageSize": 10,
     "sortBy": []
    },
    "deepnote_to_be_reexecuted": false,
    "execution_millis": 36,
    "execution_start": 1641769335270,
    "source_hash": "bbecbf06"
   },
   "outputs": [
    {
     "name": "stdout",
     "output_type": "stream",
     "text": [
      "<class 'float'>\n"
     ]
    },
    {
     "data": {
      "text/html": [
       "<div>\n",
       "<style scoped>\n",
       "    .dataframe tbody tr th:only-of-type {\n",
       "        vertical-align: middle;\n",
       "    }\n",
       "\n",
       "    .dataframe tbody tr th {\n",
       "        vertical-align: top;\n",
       "    }\n",
       "\n",
       "    .dataframe thead th {\n",
       "        text-align: right;\n",
       "    }\n",
       "</style>\n",
       "<table border=\"1\" class=\"dataframe\">\n",
       "  <thead>\n",
       "    <tr style=\"text-align: right;\">\n",
       "      <th></th>\n",
       "      <th>Latitude</th>\n",
       "      <th>Longitude</th>\n",
       "    </tr>\n",
       "  </thead>\n",
       "  <tbody>\n",
       "    <tr>\n",
       "      <th>0</th>\n",
       "      <td>41.071628</td>\n",
       "      <td>14.341678</td>\n",
       "    </tr>\n",
       "    <tr>\n",
       "      <th>1</th>\n",
       "      <td>NULL</td>\n",
       "      <td>NULL</td>\n",
       "    </tr>\n",
       "    <tr>\n",
       "      <th>3</th>\n",
       "      <td>41.080138149999996</td>\n",
       "      <td>14.34258052057184</td>\n",
       "    </tr>\n",
       "    <tr>\n",
       "      <th>4</th>\n",
       "      <td>41.08502085000001</td>\n",
       "      <td>14.25675610539424</td>\n",
       "    </tr>\n",
       "    <tr>\n",
       "      <th>6</th>\n",
       "      <td>41.078009</td>\n",
       "      <td>14.331391</td>\n",
       "    </tr>\n",
       "    <tr>\n",
       "      <th>7</th>\n",
       "      <td>41.100979</td>\n",
       "      <td>14.316991</td>\n",
       "    </tr>\n",
       "    <tr>\n",
       "      <th>8</th>\n",
       "      <td>41.061723</td>\n",
       "      <td>14.190023</td>\n",
       "    </tr>\n",
       "    <tr>\n",
       "      <th>9</th>\n",
       "      <td>41.1117444</td>\n",
       "      <td>14.3055103</td>\n",
       "    </tr>\n",
       "    <tr>\n",
       "      <th>10</th>\n",
       "      <td>41.053558588027954</td>\n",
       "      <td>14.331983216106892</td>\n",
       "    </tr>\n",
       "    <tr>\n",
       "      <th>11</th>\n",
       "      <td>41.0759235</td>\n",
       "      <td>14.335545242500494</td>\n",
       "    </tr>\n",
       "    <tr>\n",
       "      <th>12</th>\n",
       "      <td>41.07316685</td>\n",
       "      <td>14.329102808554406</td>\n",
       "    </tr>\n",
       "    <tr>\n",
       "      <th>13</th>\n",
       "      <td>41.040828</td>\n",
       "      <td>14.383932</td>\n",
       "    </tr>\n",
       "    <tr>\n",
       "      <th>14</th>\n",
       "      <td>41.034833</td>\n",
       "      <td>14.292514</td>\n",
       "    </tr>\n",
       "    <tr>\n",
       "      <th>15</th>\n",
       "      <td>41.070389</td>\n",
       "      <td>14.327722</td>\n",
       "    </tr>\n",
       "    <tr>\n",
       "      <th>16</th>\n",
       "      <td>41.106217</td>\n",
       "      <td>14.213431</td>\n",
       "    </tr>\n",
       "    <tr>\n",
       "      <th>17</th>\n",
       "      <td>41.109583</td>\n",
       "      <td>14.211781</td>\n",
       "    </tr>\n",
       "    <tr>\n",
       "      <th>18</th>\n",
       "      <td>41.0799429</td>\n",
       "      <td>14.255889980904378</td>\n",
       "    </tr>\n",
       "    <tr>\n",
       "      <th>19</th>\n",
       "      <td>41.075486</td>\n",
       "      <td>14.25528</td>\n",
       "    </tr>\n",
       "    <tr>\n",
       "      <th>20</th>\n",
       "      <td>40.9732384</td>\n",
       "      <td>14.217816859523648</td>\n",
       "    </tr>\n",
       "    <tr>\n",
       "      <th>21</th>\n",
       "      <td>40.977679</td>\n",
       "      <td>14.233445</td>\n",
       "    </tr>\n",
       "    <tr>\n",
       "      <th>22</th>\n",
       "      <td>40.97302481579652</td>\n",
       "      <td>14.206609725952148</td>\n",
       "    </tr>\n",
       "    <tr>\n",
       "      <th>23</th>\n",
       "      <td>41.073775</td>\n",
       "      <td>14.285176</td>\n",
       "    </tr>\n",
       "    <tr>\n",
       "      <th>24</th>\n",
       "      <td>41.034836</td>\n",
       "      <td>14.292506</td>\n",
       "    </tr>\n",
       "    <tr>\n",
       "      <th>25</th>\n",
       "      <td>41.085973</td>\n",
       "      <td>14.278698</td>\n",
       "    </tr>\n",
       "    <tr>\n",
       "      <th>26</th>\n",
       "      <td>41.037111</td>\n",
       "      <td>14.385829</td>\n",
       "    </tr>\n",
       "    <tr>\n",
       "      <th>27</th>\n",
       "      <td>40.963173</td>\n",
       "      <td>14.27279</td>\n",
       "    </tr>\n",
       "    <tr>\n",
       "      <th>28</th>\n",
       "      <td>41.165804</td>\n",
       "      <td>14.218676</td>\n",
       "    </tr>\n",
       "    <tr>\n",
       "      <th>30</th>\n",
       "      <td>41.030463</td>\n",
       "      <td>13.943831</td>\n",
       "    </tr>\n",
       "  </tbody>\n",
       "</table>\n",
       "</div>"
      ],
      "text/plain": [
       "              Latitude           Longitude\n",
       "0            41.071628           14.341678\n",
       "1                 NULL                NULL\n",
       "3   41.080138149999996   14.34258052057184\n",
       "4    41.08502085000001   14.25675610539424\n",
       "6            41.078009           14.331391\n",
       "7            41.100979           14.316991\n",
       "8            41.061723           14.190023\n",
       "9           41.1117444          14.3055103\n",
       "10  41.053558588027954  14.331983216106892\n",
       "11          41.0759235  14.335545242500494\n",
       "12         41.07316685  14.329102808554406\n",
       "13           41.040828           14.383932\n",
       "14           41.034833           14.292514\n",
       "15           41.070389           14.327722\n",
       "16           41.106217           14.213431\n",
       "17           41.109583           14.211781\n",
       "18          41.0799429  14.255889980904378\n",
       "19           41.075486            14.25528\n",
       "20          40.9732384  14.217816859523648\n",
       "21           40.977679           14.233445\n",
       "22   40.97302481579652  14.206609725952148\n",
       "23           41.073775           14.285176\n",
       "24           41.034836           14.292506\n",
       "25           41.085973           14.278698\n",
       "26           41.037111           14.385829\n",
       "27           40.963173            14.27279\n",
       "28           41.165804           14.218676\n",
       "30           41.030463           13.943831"
      ]
     },
     "execution_count": 18,
     "metadata": {},
     "output_type": "execute_result"
    }
   ],
   "source": [
    "temp_separator = \";;\"\n",
    "itineraries_caserta_df['Temp'] = itineraries_caserta_df['Geolocalizzazione'].apply(lambda x: temp_separator.join(float_tuple_to_string_list(get_latitude_longitude(string=x, null_value=NULL_VALUE))))\n",
    "itineraries_caserta_df[['Latitude', 'Longitude']] = itineraries_caserta_df.Temp.str.split(temp_separator, expand=True)\n",
    "itineraries_caserta_df = itineraries_caserta_df.drop(['Temp'], axis=1)\n",
    "\n",
    "itineraries_caserta_df.drop_duplicates(subset = ['Latitude', 'Longitude'])[['Latitude', 'Longitude']]"
   ]
  },
  {
   "cell_type": "markdown",
   "id": "599b3ef1",
   "metadata": {
    "cell_id": "00046-8b5b237a-4e0e-4118-9e12-1680b9532c34",
    "deepnote_cell_type": "markdown",
    "tags": []
   },
   "source": [
    "### 12. Image - URL Immagine -  replace NON DISPONIBILE/empty values with NULL "
   ]
  },
  {
   "cell_type": "code",
   "execution_count": 19,
   "id": "c13de1a6",
   "metadata": {
    "cell_id": "00047-b62235fe-afe6-4ea5-92a0-812c56343c3c",
    "deepnote_cell_type": "code",
    "deepnote_output_heights": [
     97.9375
    ],
    "deepnote_to_be_reexecuted": false,
    "execution_millis": 17,
    "execution_start": 1641769335306,
    "source_hash": "342c5542",
    "tags": []
   },
   "outputs": [
    {
     "data": {
      "text/plain": [
       "NULL                                                                                     28\n",
       "https://commons.wikimedia.org/wiki/File:Monumento_Cimarosa.png                            1\n",
       "https://commons.wikimedia.org/wiki/File:Teatro_Garibaldi_SMCV.jpg                         1\n",
       "https://upload.wikimedia.org/wikipedia/commons/b/b1/Statua_Vanvitelli_Caserta_f01.jpg     1\n",
       "Name: URL Immagine, dtype: int64"
      ]
     },
     "execution_count": 19,
     "metadata": {},
     "output_type": "execute_result"
    }
   ],
   "source": [
    "itineraries_caserta_df['URL Immagine'] = itineraries_caserta_df['URL Immagine'].replace(to_replace=[\"Non disponibile\"], value=NULL_VALUE)\n",
    "itineraries_caserta_df['URL Immagine'].value_counts().sort_index()"
   ]
  },
  {
   "cell_type": "markdown",
   "id": "97de0a61",
   "metadata": {
    "cell_id": "00042-f5f8291c-2802-478d-bff0-4730857c3dbb",
    "deepnote_cell_type": "markdown",
    "tags": []
   },
   "source": [
    "### 13. Bibliography - Bibliography -  replace NON DISPONIBILE/empty values with NULL "
   ]
  },
  {
   "cell_type": "code",
   "execution_count": 20,
   "id": "f544afd9",
   "metadata": {
    "cell_id": "00043-827bdc6b-c41d-463b-a85c-62621486d11d",
    "deepnote_cell_type": "code",
    "deepnote_output_heights": [
     59.5625
    ],
    "deepnote_to_be_reexecuted": false,
    "execution_millis": 10,
    "execution_start": 1641769335329,
    "source_hash": "dcc5bcd4",
    "tags": []
   },
   "outputs": [
    {
     "data": {
      "text/plain": [
       "* Alberto Cogoni. San Salvatore da Horta. La grandezza dei piccoli. Cagliari, Edizioni della Torre, 2002. ISBN 8873433561     1\n",
       "NULL                                                                                                                         30\n",
       "Name: Bibliografia, dtype: int64"
      ]
     },
     "execution_count": 20,
     "metadata": {},
     "output_type": "execute_result"
    }
   ],
   "source": [
    "itineraries_caserta_df['Bibliografia'] = itineraries_caserta_df['Bibliografia'].replace(to_replace=[\"Non dispnibile\", \"Non disponbile\", \"Non disponibile\"], value=NULL_VALUE)\n",
    "itineraries_caserta_df['Bibliografia'].value_counts().sort_index()"
   ]
  },
  {
   "cell_type": "markdown",
   "id": "e3e1901d",
   "metadata": {
    "cell_id": "00044-b8f5271e-dd9e-4b93-bfb0-45b8f4484c67",
    "deepnote_cell_type": "markdown",
    "tags": []
   },
   "source": [
    "### 14. Site - Sitografia -  replace NON DISPONIBILE/empty values with NULL"
   ]
  },
  {
   "cell_type": "code",
   "execution_count": 21,
   "id": "1b653f87",
   "metadata": {
    "cell_id": "00045-8a4cd989-1030-4305-b478-7d47dab0f347",
    "deepnote_cell_type": "code",
    "deepnote_output_heights": [
     558.4375
    ],
    "deepnote_to_be_reexecuted": false,
    "execution_millis": 56,
    "execution_start": 1641769335345,
    "source_hash": "e90190b8",
    "tags": []
   },
   "outputs": [
    {
     "data": {
      "text/plain": [
       "NULL                                                                                                                                        2\n",
       "http://digilander.libero.it/ofsortadiatella/il_santuario_di_san_salvatore_da_horta.html                                                     1\n",
       "http://www.buonpastorecaserta.it/orari.htm                                                                                                  1\n",
       "http://www.campaniailoveyou.com/it/citta/caserta/architettura-casertana/monumento-a-luigi-vanvitelli-167.html                               1\n",
       "http://www.comune.castelvolturno.ce.it/index.php?option=com_content&view=article&id=41:cappella-di-san-rocco&catid=25&Itemid=170            1\n",
       "http://www.comunedipignataro.it/?p=26874                                                                                                    1\n",
       "http://www.corrieredisannicola.it/arte-cultura-e-spettacoli/notizie/arte-cultura-e-spettacoli/la-lourdes-di-via-appia                       1\n",
       "http://www.paesenews.it/?p=80292                                                                                                            1\n",
       "http://www.pietredellamemoria.it/pietre/monumento-ai-caduti-di-aversa/                                                                      1\n",
       "http://www.pietredellamemoria.it/pietre/monumento-ai-caduti-di-capua/                                                                       1\n",
       "http://www.pietredellamemoria.it/pietre/monumento-ai-caduti-di-caserta/                                                                     1\n",
       "http://www.pietredellamemoria.it/pietre/monumento-ai-fratelli-de-simone/                                                                    1\n",
       "http://www.pietredellamemoria.it/pietre/monumento-milite-ignoto-di-maddaloni/                                                               1\n",
       "http://www.teatroricciardi.it/                                                                                                              1\n",
       "http://www.weagoo.com/it/card/5832/statua-dell-agricoltura                                                                                  1\n",
       "https://it.wikipedia.org/wiki/Aversa#Monumenti_e_luoghi_d'interesse                                                                         1\n",
       "https://it.wikipedia.org/wiki/Belvedere_di_San_Leucio                                                                                       2\n",
       "https://it.wikipedia.org/wiki/Casapulla                                                                                                     1\n",
       "https://it.wikipedia.org/wiki/Cattedrale_di_San_Michele_Arcangelo_(Caserta)                                                                 1\n",
       "https://it.wikipedia.org/wiki/Maddaloni#Monumenti_e_luoghi_d'interesse                                                                      1\n",
       "https://it.wikipedia.org/wiki/Monumento_ai_Garibaldini_(Santa_Maria_Capua_Vetere)                                                           1\n",
       "https://it.wikipedia.org/wiki/Reale_tenuta_di_Carditello                                                                                    1\n",
       "https://it.wikipedia.org/wiki/Teatro_Garibaldi_(Santa_Maria_Capua_Vetere)                                                                   1\n",
       "https://it.wikipedia.org/wiki/Vitulazio#Chiesa_Santa_Maria_dell'Agnena                                                                      1\n",
       "https://necrologie.repubblica.it/chiese/provincia-23-caserta/citta-3779-maddaloni/6835-basilica-minore-del-corpus-domini/descrizione#tab    1\n",
       "https://oldclub.wordpress.com/2016/03/10/54/                                                                                                2\n",
       "https://www.edilia2000.it/Ex-Casa-del-Fascio-a-Caserta_5-2-3497.html                                                                        1\n",
       "https://www.geocaching.com/geocache/GC3VEC4_real-convitto-borbonico?guid=06f09eaf-2433-46a7-9766-e55c25233241                               1\n",
       "Name: Sitografia, dtype: int64"
      ]
     },
     "execution_count": 21,
     "metadata": {},
     "output_type": "execute_result"
    }
   ],
   "source": [
    "itineraries_caserta_df['Sitografia'].value_counts().sort_index()"
   ]
  },
  {
   "cell_type": "markdown",
   "id": "1cef5a63",
   "metadata": {
    "cell_id": "00052-87897faa-c760-4e11-840e-412c34531221",
    "deepnote_cell_type": "markdown",
    "tags": []
   },
   "source": [
    "### 15. Novel usage - Rifunzionalizzato -  check value consistency + replace empty values with NULL"
   ]
  },
  {
   "cell_type": "code",
   "execution_count": 22,
   "id": "e9a904dd",
   "metadata": {
    "cell_id": "00053-c9bf8714-20ec-45cd-a9ff-b291907c8bb2",
    "deepnote_cell_type": "code",
    "deepnote_output_heights": [
     78.75
    ],
    "deepnote_to_be_reexecuted": false,
    "execution_millis": 4,
    "execution_start": 1641769335398,
    "source_hash": "fd030320",
    "tags": []
   },
   "outputs": [
    {
     "data": {
      "text/plain": [
       "NULL     1\n",
       "No      27\n",
       "Si       3\n",
       "Name: Rifunzionalizzato, dtype: int64"
      ]
     },
     "execution_count": 22,
     "metadata": {},
     "output_type": "execute_result"
    }
   ],
   "source": [
    "itineraries_caserta_df['Rifunzionalizzato'].value_counts().sort_index()"
   ]
  },
  {
   "cell_type": "markdown",
   "id": "f38c440c",
   "metadata": {
    "cell_id": "00054-99731dcd-1642-44fd-b33a-47c28a527e80",
    "deepnote_cell_type": "markdown",
    "tags": []
   },
   "source": [
    "### 16. Usage type - Tipo di Rifunzionalizzazione -  replace NESSUNO/empty values with NULL"
   ]
  },
  {
   "cell_type": "code",
   "execution_count": 23,
   "id": "9faafa5d",
   "metadata": {
    "cell_id": "00055-bc910afe-5cab-41fe-b302-de30e87150fa",
    "deepnote_cell_type": "code",
    "deepnote_output_heights": [
     97.9375
    ],
    "deepnote_to_be_reexecuted": false,
    "execution_millis": 3,
    "execution_start": 1641769335399,
    "source_hash": "4bc353b2",
    "tags": []
   },
   "outputs": [
    {
     "data": {
      "text/plain": [
       "Luogo di visita turistica                             1\n",
       "Luogo turistico                                       1\n",
       "NULL                                                 28\n",
       "Sede dell'Associazione \"Storia locale San prisco\"     1\n",
       "Name: Tipo di Rifunzionalizzazione, dtype: int64"
      ]
     },
     "execution_count": 23,
     "metadata": {},
     "output_type": "execute_result"
    }
   ],
   "source": [
    "itineraries_caserta_df['Tipo di Rifunzionalizzazione'] = itineraries_caserta_df['Tipo di Rifunzionalizzazione'].replace(to_replace=[\"Nessuno\"], value=NULL_VALUE)\n",
    "itineraries_caserta_df['Tipo di Rifunzionalizzazione'].value_counts().sort_index()"
   ]
  },
  {
   "cell_type": "markdown",
   "id": "dfa0ec66",
   "metadata": {},
   "source": [
    "## Define type of itinerary"
   ]
  },
  {
   "cell_type": "code",
   "execution_count": 24,
   "id": "3245cae7",
   "metadata": {},
   "outputs": [],
   "source": [
    "itineraries_caserta_df[\"Categoria itinerario\"] = \"culturale\""
   ]
  },
  {
   "cell_type": "markdown",
   "id": "2e22756d",
   "metadata": {
    "cell_id": "00042-91a534dd-f888-400b-8039-c5debd5954b3",
    "deepnote_cell_type": "markdown",
    "tags": []
   },
   "source": [
    "## Save to csv and pickle"
   ]
  },
  {
   "cell_type": "code",
   "execution_count": 25,
   "id": "894d1ae1",
   "metadata": {
    "cell_id": "00056-beeb4a74-ec68-4659-812a-7cec4c70c09f",
    "deepnote_cell_type": "code",
    "deepnote_to_be_reexecuted": false,
    "execution_millis": 18,
    "execution_start": 1641769335400,
    "source_hash": "2a79429f"
   },
   "outputs": [],
   "source": [
    "itineraries_caserta_df = itineraries_caserta_df[['Categoria itinerario', 'Nome', 'Comune', 'Località', 'Via', 'Cap', 'Provincia', 'Regione', 'Tipologia',\n",
    "       'Secolo di costruzione', 'Anno prima attestazione',\n",
    "       'Itinerario (periodo)', 'Stile', 'Informazioni',\n",
    "       'URL Immagine', 'Bibliografia', 'Sitografia', 'Rifunzionalizzato',\n",
    "       'Tipo di Rifunzionalizzazione', \n",
    "       'Latitude', 'Longitude']]\n",
    "itineraries_caserta_df.to_csv('../Dataset_clean/itineraries-Caserta.csv', index=False)\n",
    "itineraries_caserta_df.to_pickle('../Dataset_clean/itineraries-Caserta.pkl')"
   ]
  }
 ],
 "metadata": {
  "deepnote": {},
  "deepnote_execution_queue": [],
  "deepnote_notebook_id": "7b99b3b7-2d25-4a9e-be8d-0830c2aa1f11",
  "kernelspec": {
   "display_name": "Python 3",
   "language": "python",
   "name": "python3"
  },
  "language_info": {
   "codemirror_mode": {
    "name": "ipython",
    "version": 3
   },
   "file_extension": ".py",
   "mimetype": "text/x-python",
   "name": "python",
   "nbconvert_exporter": "python",
   "pygments_lexer": "ipython3",
   "version": "3.9.9"
  }
 },
 "nbformat": 4,
 "nbformat_minor": 5
}
