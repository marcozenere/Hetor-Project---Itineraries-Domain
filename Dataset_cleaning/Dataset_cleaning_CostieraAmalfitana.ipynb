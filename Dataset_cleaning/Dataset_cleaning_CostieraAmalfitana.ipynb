{
 "cells": [
  {
   "cell_type": "code",
   "execution_count": 1,
   "id": "dce35f02",
   "metadata": {
    "cell_id": "00000-cf7e4a66-1584-4b9a-8128-18998d1327fb",
    "deepnote_cell_type": "code",
    "deepnote_output_heights": [
     232.25
    ],
    "deepnote_to_be_reexecuted": false,
    "execution_millis": 1812,
    "execution_start": 1641769359325,
    "source_hash": "5302ac93"
   },
   "outputs": [],
   "source": [
    "import pandas as pd\n",
    "from data_cleaning_util import *"
   ]
  },
  {
   "cell_type": "markdown",
   "id": "1c1545b9",
   "metadata": {
    "cell_id": "00001-a5fe79a0-0e7d-428d-a6fe-175c29f03cb4",
    "deepnote_cell_type": "markdown"
   },
   "source": [
    "# Dataset itineraries-CostieraAmalfitana"
   ]
  },
  {
   "cell_type": "code",
   "execution_count": 2,
   "id": "ef4bf2cc",
   "metadata": {
    "cell_id": "00002-11262142-dea3-4e78-81a6-d00fbe2ecac1",
    "deepnote_cell_type": "code",
    "deepnote_to_be_reexecuted": false,
    "execution_millis": 17,
    "execution_start": 1641769361142,
    "source_hash": "be0f7581"
   },
   "outputs": [],
   "source": [
    "itineraries_costiera_amalfitana_df = pd.read_csv('../Dataset/itineraries-CostieraAmalfitana.csv')"
   ]
  },
  {
   "cell_type": "code",
   "execution_count": 3,
   "id": "5845b6aa",
   "metadata": {
    "cell_id": "00003-48130ce3-3957-4d17-9345-04bfdba0d9d0",
    "deepnote_cell_type": "code",
    "deepnote_output_heights": [
     264
    ],
    "deepnote_to_be_reexecuted": false,
    "execution_millis": 6,
    "execution_start": 1641769361195,
    "source_hash": "dd472342",
    "tags": []
   },
   "outputs": [
    {
     "name": "stdout",
     "output_type": "stream",
     "text": [
      "<class 'pandas.core.frame.DataFrame'>\n",
      "RangeIndex: 65 entries, 0 to 64\n",
      "Data columns (total 7 columns):\n",
      " #   Column             Non-Null Count  Dtype \n",
      "---  ------             --------------  ----- \n",
      " 0   NOME               65 non-null     object\n",
      " 1   LOCALITAˈ          65 non-null     object\n",
      " 2   TIPOLOGIA          65 non-null     object\n",
      " 3   GEOLOCALIZZAZIONE  65 non-null     object\n",
      " 4   DESCRIZIONE        65 non-null     object\n",
      " 5   NOTE               56 non-null     object\n",
      " 6   URL IMMAGINE       9 non-null      object\n",
      "dtypes: object(7)\n",
      "memory usage: 3.7+ KB\n"
     ]
    }
   ],
   "source": [
    "itineraries_costiera_amalfitana_df.info()"
   ]
  },
  {
   "cell_type": "code",
   "execution_count": 4,
   "id": "6be1df07",
   "metadata": {
    "cell_id": "00004-488a9b49-2319-4d52-912f-693e806517e5",
    "deepnote_cell_type": "code",
    "deepnote_output_heights": [
     208.1875
    ],
    "deepnote_to_be_reexecuted": false,
    "execution_millis": 69,
    "execution_start": 1641769361221,
    "source_hash": "72b36460"
   },
   "outputs": [
    {
     "data": {
      "text/html": [
       "<div>\n",
       "<style scoped>\n",
       "    .dataframe tbody tr th:only-of-type {\n",
       "        vertical-align: middle;\n",
       "    }\n",
       "\n",
       "    .dataframe tbody tr th {\n",
       "        vertical-align: top;\n",
       "    }\n",
       "\n",
       "    .dataframe thead th {\n",
       "        text-align: right;\n",
       "    }\n",
       "</style>\n",
       "<table border=\"1\" class=\"dataframe\">\n",
       "  <thead>\n",
       "    <tr style=\"text-align: right;\">\n",
       "      <th></th>\n",
       "      <th>NOME</th>\n",
       "      <th>LOCALITAˈ</th>\n",
       "      <th>TIPOLOGIA</th>\n",
       "      <th>GEOLOCALIZZAZIONE</th>\n",
       "      <th>DESCRIZIONE</th>\n",
       "      <th>NOTE</th>\n",
       "      <th>URL IMMAGINE</th>\n",
       "    </tr>\n",
       "  </thead>\n",
       "  <tbody>\n",
       "    <tr>\n",
       "      <th>0</th>\n",
       "      <td>Limone Costa d'Amalfi I.G.P.</td>\n",
       "      <td>Amalfi, Cetara, Conca dei Marini, Furore, Maio...</td>\n",
       "      <td>Prodotto tipico</td>\n",
       "      <td>40.63441246747971,14.602812230587006</td>\n",
       "      <td>Il nome della varietà Sfusato Amalfitano, che ...</td>\n",
       "      <td>NaN</td>\n",
       "      <td>http://spod.databenc.it/ethersheet/images/ae8a...</td>\n",
       "    </tr>\n",
       "    <tr>\n",
       "      <th>1</th>\n",
       "      <td>Delizia al limone</td>\n",
       "      <td>Amalfi, Cetara, Conca dei Marini, Furore, Maio...</td>\n",
       "      <td>Prodotto tipico</td>\n",
       "      <td>40.633594393730164,14.60260570049286</td>\n",
       "      <td>La delizia al limone è un dolce relativamente ...</td>\n",
       "      <td>NaN</td>\n",
       "      <td>http://spod.databenc.it/ethersheet/images/ae8a...</td>\n",
       "    </tr>\n",
       "    <tr>\n",
       "      <th>2</th>\n",
       "      <td>Liquore concerto</td>\n",
       "      <td>Tramonti</td>\n",
       "      <td>Prodotto tipico</td>\n",
       "      <td>40.6997332,14.6415366</td>\n",
       "      <td>E' uno dei rosoli più antichi della Costiera A...</td>\n",
       "      <td>NaN</td>\n",
       "      <td>http://spod.databenc.it/ethersheet/images/ae8a...</td>\n",
       "    </tr>\n",
       "    <tr>\n",
       "      <th>3</th>\n",
       "      <td>Fusillo furitano</td>\n",
       "      <td>Minori</td>\n",
       "      <td>Prodotto tipico</td>\n",
       "      <td>40.650551319122314,14.626602083444595</td>\n",
       "      <td>I \"ricci\" o \"riccioli\", anche detti \"fusilli f...</td>\n",
       "      <td>NaN</td>\n",
       "      <td>http://spod.databenc.it/ethersheet/images/ae8a...</td>\n",
       "    </tr>\n",
       "    <tr>\n",
       "      <th>4</th>\n",
       "      <td>Ndunderi</td>\n",
       "      <td>Minori</td>\n",
       "      <td>Prodotto tipico</td>\n",
       "      <td>40.652708,14.624941</td>\n",
       "      <td>Col nome di ndunderi si indica un tipo di past...</td>\n",
       "      <td>NaN</td>\n",
       "      <td>http://spod.databenc.it/ethersheet/images/ae8a...</td>\n",
       "    </tr>\n",
       "  </tbody>\n",
       "</table>\n",
       "</div>"
      ],
      "text/plain": [
       "                           NOME  \\\n",
       "0  Limone Costa d'Amalfi I.G.P.   \n",
       "1             Delizia al limone   \n",
       "2              Liquore concerto   \n",
       "3              Fusillo furitano   \n",
       "4                      Ndunderi   \n",
       "\n",
       "                                           LOCALITAˈ        TIPOLOGIA  \\\n",
       "0  Amalfi, Cetara, Conca dei Marini, Furore, Maio...  Prodotto tipico   \n",
       "1  Amalfi, Cetara, Conca dei Marini, Furore, Maio...  Prodotto tipico   \n",
       "2                                           Tramonti  Prodotto tipico   \n",
       "3                                             Minori  Prodotto tipico   \n",
       "4                                             Minori  Prodotto tipico   \n",
       "\n",
       "                       GEOLOCALIZZAZIONE  \\\n",
       "0   40.63441246747971,14.602812230587006   \n",
       "1   40.633594393730164,14.60260570049286   \n",
       "2                  40.6997332,14.6415366   \n",
       "3  40.650551319122314,14.626602083444595   \n",
       "4                    40.652708,14.624941   \n",
       "\n",
       "                                         DESCRIZIONE NOTE  \\\n",
       "0  Il nome della varietà Sfusato Amalfitano, che ...  NaN   \n",
       "1  La delizia al limone è un dolce relativamente ...  NaN   \n",
       "2  E' uno dei rosoli più antichi della Costiera A...  NaN   \n",
       "3  I \"ricci\" o \"riccioli\", anche detti \"fusilli f...  NaN   \n",
       "4  Col nome di ndunderi si indica un tipo di past...  NaN   \n",
       "\n",
       "                                        URL IMMAGINE  \n",
       "0  http://spod.databenc.it/ethersheet/images/ae8a...  \n",
       "1  http://spod.databenc.it/ethersheet/images/ae8a...  \n",
       "2  http://spod.databenc.it/ethersheet/images/ae8a...  \n",
       "3  http://spod.databenc.it/ethersheet/images/ae8a...  \n",
       "4  http://spod.databenc.it/ethersheet/images/ae8a...  "
      ]
     },
     "execution_count": 4,
     "metadata": {},
     "output_type": "execute_result"
    }
   ],
   "source": [
    "itineraries_costiera_amalfitana_df.head(5)"
   ]
  },
  {
   "cell_type": "code",
   "execution_count": 5,
   "id": "bdcb8628",
   "metadata": {
    "cell_id": "00005-c1eaef5a-a0af-4c35-a41d-b716b88f2897",
    "deepnote_cell_type": "code",
    "deepnote_output_heights": [
     174.6875
    ],
    "deepnote_to_be_reexecuted": false,
    "execution_millis": 18,
    "execution_start": 1641769361293,
    "source_hash": "fe6beb6c",
    "tags": []
   },
   "outputs": [
    {
     "name": "stdout",
     "output_type": "stream",
     "text": [
      "Number of columns 7\n",
      "Index(['NOME', 'LOCALITAˈ', 'TIPOLOGIA', 'GEOLOCALIZZAZIONE', 'DESCRIZIONE',\n",
      "       'NOTE', 'URL IMMAGINE'],\n",
      "      dtype='object'))\n"
     ]
    }
   ],
   "source": [
    "print(f\"Number of columns {len(itineraries_costiera_amalfitana_df.columns)}\\n{itineraries_costiera_amalfitana_df.columns})\")"
   ]
  },
  {
   "cell_type": "markdown",
   "id": "c3245425",
   "metadata": {
    "cell_id": "00006-315af919-6356-4273-961d-d889f7960c16",
    "deepnote_cell_type": "markdown",
    "tags": []
   },
   "source": [
    "## Correction to do:\n",
    "\n",
    "1. Name - NOME -  keep it as String. Extra spaces might be removed in the data cleansing phase\n",
    "2. Location - LOCALITA’ - align it with official municipality names (e.g., https://www.istat.it/storage/codici-unita-amministrative/Elenco-comuni-italiani.xls) + deal with multiple values\n",
    "3. Type - TIPOLOGIA - check value consistency\n",
    "4. Localization - GEOLOCALIZZAZIONE - consider the possibility to split it in longitude and latitude + replace NON DISPONIBILE/empty values with NULL + check suspicious values\n",
    "5. Description - DESCRIZIONE - replace NON DISPONIBILE/empty values with NULL + clean values (e.g., numbers)\n",
    "6. Note - NOTE - replace NON DISPONIBILE/empty values with NULL + clean values (e.g., numbers)\n",
    "7. Image - URL IMMAGINE -  replace NON DISPONIBILE/empty values with NULL "
   ]
  },
  {
   "cell_type": "markdown",
   "id": "efe983c7",
   "metadata": {
    "cell_id": "00007-0589b376-a603-4c2c-81c9-54a06bf1b82d",
    "deepnote_cell_type": "markdown",
    "tags": []
   },
   "source": [
    "### Fill Na with NULL"
   ]
  },
  {
   "cell_type": "code",
   "execution_count": 6,
   "id": "874da9d7",
   "metadata": {
    "cell_id": "00008-e09ad27c-afcd-4b03-97d4-454c625466fc",
    "deepnote_cell_type": "code",
    "deepnote_to_be_reexecuted": false,
    "execution_millis": 5,
    "execution_start": 1641769361314,
    "source_hash": "1d6ae696",
    "tags": []
   },
   "outputs": [],
   "source": [
    "itineraries_costiera_amalfitana_df = itineraries_costiera_amalfitana_df.fillna(NULL_VALUE)"
   ]
  },
  {
   "cell_type": "markdown",
   "id": "cddb3f87",
   "metadata": {
    "cell_id": "00009-fa2b914a-db1a-4d83-a550-c16bcaafa265",
    "deepnote_cell_type": "markdown",
    "tags": []
   },
   "source": [
    "### 1. Name - NOME -  keep it as String. Extra spaces might be removed in the data cleansing phase"
   ]
  },
  {
   "cell_type": "code",
   "execution_count": 7,
   "id": "b7d4260a",
   "metadata": {
    "cell_id": "00010-e6941bc9-89ab-4b57-a9af-f3ea7d94c601",
    "deepnote_cell_type": "code",
    "deepnote_output_heights": [
     232.25
    ],
    "deepnote_to_be_reexecuted": false,
    "execution_millis": 2,
    "execution_start": 1641769361369,
    "source_hash": "b3e5bec5",
    "tags": []
   },
   "outputs": [
    {
     "data": {
      "text/plain": [
       "Castello di Montalto                               1\n",
       "Castello di San Nicola de Thoro - Plano            1\n",
       "Chiesa della Santissima Trinità                    1\n",
       "Colatura di alici di Cetara                        1\n",
       "Delizia al limone                                  1\n",
       "                                                  ..\n",
       "Torre di Salicerchio                               1\n",
       "Torre di Santo Stefano                             1\n",
       "Torre di Vietri, della Marina o di Vito Bianchi    1\n",
       "Torre la Cerniola                                  1\n",
       "Torre la Torricella                                1\n",
       "Name: NOME, Length: 63, dtype: int64"
      ]
     },
     "execution_count": 7,
     "metadata": {},
     "output_type": "execute_result"
    }
   ],
   "source": [
    "itineraries_costiera_amalfitana_df['NOME'] = itineraries_costiera_amalfitana_df['NOME'].apply(lambda x: remove_extra_spaces(x))\n",
    "itineraries_costiera_amalfitana_df['NOME'] = itineraries_costiera_amalfitana_df['NOME'].replace(to_replace=[\"Sant' Angelo dell’Ospedale\"], value=\"Sant'Angelo dell’Ospedale\")\n",
    "itineraries_costiera_amalfitana_df['NOME'].value_counts().sort_index()"
   ]
  },
  {
   "cell_type": "markdown",
   "id": "3bb6d2d1",
   "metadata": {
    "cell_id": "00011-675711e6-40e0-4a38-9b49-ab49a9853141",
    "deepnote_cell_type": "markdown"
   },
   "source": [
    "### 2. Location - LOCALITA’ - align it with official municipality names + deal with multiple values"
   ]
  },
  {
   "cell_type": "code",
   "execution_count": 8,
   "id": "2b74f19c",
   "metadata": {
    "cell_id": "00012-d62c6443-5f0f-4409-a740-511e23bb3cc8",
    "deepnote_cell_type": "code",
    "deepnote_output_heights": [
     289.8125,
     289.8125
    ],
    "deepnote_to_be_reexecuted": false,
    "execution_millis": 413,
    "execution_start": 1641769361370,
    "source_hash": "7f279064"
   },
   "outputs": [
    {
     "data": {
      "text/plain": [
       "Amalfi               8\n",
       "Atrani               4\n",
       "Cetara               2\n",
       "Conca dei Marini     4\n",
       "Furore               2\n",
       "Maiori              15\n",
       "Minori               6\n",
       "Positano             7\n",
       "Praiano              4\n",
       "Ravello              4\n",
       "Scala                2\n",
       "Tramonti             2\n",
       "Vietri sul Mare      5\n",
       "Name: LOCALITAˈ, dtype: int64"
      ]
     },
     "execution_count": 8,
     "metadata": {},
     "output_type": "execute_result"
    }
   ],
   "source": [
    "#we substitude the list of municipalities with Amalfi, because also the lon,lat is based in Amalfi\n",
    "itineraries_costiera_amalfitana_df['LOCALITAˈ'] = itineraries_costiera_amalfitana_df['LOCALITAˈ'].replace(to_replace=[\"Amalfi, Cetara, Conca dei Marini, Furore, Maiori, Minori, Positano, Praiano, Ravello, Scala, Tramonti, Vietri sul Mare\", \"Tovere di Amalfi\"], value=\"Amalfi\")\n",
    "#we substitude Vietri, cause there are more municipalities with Vietri in the official name\n",
    "itineraries_costiera_amalfitana_df['LOCALITAˈ'] = itineraries_costiera_amalfitana_df['LOCALITAˈ'].replace(to_replace=[\"Vietri\"], value=\"Vietri sul Mare\")\n",
    "itineraries_costiera_amalfitana_df['LOCALITAˈ'] = itineraries_costiera_amalfitana_df['LOCALITAˈ'].replace(to_replace=[\"Erchie\"], value=\"Maiori\")\n",
    "itineraries_costiera_amalfitana_df['LOCALITAˈ'] = itineraries_costiera_amalfitana_df['LOCALITAˈ'].apply(lambda x: municipality_alignment(comune=x,\\\n",
    "                                                                                comuni_istat_ita_list=comuni_istat_ita_list,\\\n",
    "                                                                                comuni_istat_altra_lingua_list=comuni_istat_altra_lingua_list,\\\n",
    "                                                                                comuni_istat_ita_e_straniero_list=comuni_istat_ita_e_straniero_list,\\\n",
    "                                                                                null_value=NULL_VALUE, \\\n",
    "                                                                                max_levenshtein_distance=2))\n",
    "\n",
    "itineraries_costiera_amalfitana_df['LOCALITAˈ'].value_counts().sort_index()"
   ]
  },
  {
   "cell_type": "markdown",
   "id": "53991fe7",
   "metadata": {
    "cell_id": "00013-6f186f0c-734e-4124-8cdf-464ac1c5b360",
    "deepnote_cell_type": "markdown",
    "tags": []
   },
   "source": [
    "### 3. Type - TIPOLOGIA - check value consistency"
   ]
  },
  {
   "cell_type": "code",
   "execution_count": 9,
   "id": "11f5af50",
   "metadata": {
    "cell_id": "00014-07ed3fc5-71eb-47d4-b578-44621462eeb2",
    "deepnote_cell_type": "code",
    "deepnote_output_heights": [
     117.125
    ],
    "deepnote_to_be_reexecuted": false,
    "execution_millis": 10,
    "execution_start": 1641769361788,
    "source_hash": "7fb2fafb",
    "tags": []
   },
   "outputs": [
    {
     "data": {
      "text/plain": [
       "Castello            2\n",
       "Chiesa rupestre    10\n",
       "Prodotto tipico     9\n",
       "Torre               2\n",
       "Torre costiera     42\n",
       "Name: TIPOLOGIA, dtype: int64"
      ]
     },
     "execution_count": 9,
     "metadata": {},
     "output_type": "execute_result"
    }
   ],
   "source": [
    "itineraries_costiera_amalfitana_df['TIPOLOGIA'].value_counts().sort_index()"
   ]
  },
  {
   "cell_type": "markdown",
   "id": "2f0ddd37",
   "metadata": {
    "cell_id": "00015-978e2cc7-9bf1-435a-8327-0144f1d0a5bb",
    "deepnote_cell_type": "markdown",
    "tags": []
   },
   "source": [
    "### 4. Localization - GEOLOCALIZZAZIONE - consider the possibility to split it in longitude and latitude + replace NON DISPONIBILE/empty values with NULL + check suspicious values"
   ]
  },
  {
   "cell_type": "code",
   "execution_count": 10,
   "id": "175b76ab",
   "metadata": {
    "cell_id": "00016-94d334bd-ed3a-4bc4-86a7-48003181c2a4",
    "deepnote_cell_type": "code",
    "deepnote_output_heights": [
     539.25
    ],
    "deepnote_to_be_reexecuted": false,
    "execution_millis": 101,
    "execution_start": 1641769361798,
    "source_hash": "c5b138e8",
    "tags": []
   },
   "outputs": [
    {
     "data": {
      "text/html": [
       "<div>\n",
       "<style scoped>\n",
       "    .dataframe tbody tr th:only-of-type {\n",
       "        vertical-align: middle;\n",
       "    }\n",
       "\n",
       "    .dataframe tbody tr th {\n",
       "        vertical-align: top;\n",
       "    }\n",
       "\n",
       "    .dataframe thead th {\n",
       "        text-align: right;\n",
       "    }\n",
       "</style>\n",
       "<table border=\"1\" class=\"dataframe\">\n",
       "  <thead>\n",
       "    <tr style=\"text-align: right;\">\n",
       "      <th></th>\n",
       "      <th>LATITUDE</th>\n",
       "      <th>LONGITUDE</th>\n",
       "    </tr>\n",
       "  </thead>\n",
       "  <tbody>\n",
       "    <tr>\n",
       "      <th>0</th>\n",
       "      <td>40.63441246747971</td>\n",
       "      <td>14.602812230587006</td>\n",
       "    </tr>\n",
       "    <tr>\n",
       "      <th>1</th>\n",
       "      <td>40.633594393730164</td>\n",
       "      <td>14.60260570049286</td>\n",
       "    </tr>\n",
       "    <tr>\n",
       "      <th>2</th>\n",
       "      <td>40.6997332</td>\n",
       "      <td>14.6415366</td>\n",
       "    </tr>\n",
       "    <tr>\n",
       "      <th>3</th>\n",
       "      <td>40.650551319122314</td>\n",
       "      <td>14.626602083444595</td>\n",
       "    </tr>\n",
       "    <tr>\n",
       "      <th>4</th>\n",
       "      <td>40.652708</td>\n",
       "      <td>14.624941</td>\n",
       "    </tr>\n",
       "    <tr>\n",
       "      <th>...</th>\n",
       "      <td>...</td>\n",
       "      <td>...</td>\n",
       "    </tr>\n",
       "    <tr>\n",
       "      <th>60</th>\n",
       "      <td>40.66944479942322</td>\n",
       "      <td>14.732317328453064</td>\n",
       "    </tr>\n",
       "    <tr>\n",
       "      <th>61</th>\n",
       "      <td>40.65782278776169</td>\n",
       "      <td>14.712235629558563</td>\n",
       "    </tr>\n",
       "    <tr>\n",
       "      <th>62</th>\n",
       "      <td>40.65788850188255</td>\n",
       "      <td>14.712146446108818</td>\n",
       "    </tr>\n",
       "    <tr>\n",
       "      <th>63</th>\n",
       "      <td>40.66430568695069</td>\n",
       "      <td>14.71624553203583</td>\n",
       "    </tr>\n",
       "    <tr>\n",
       "      <th>64</th>\n",
       "      <td>40.668480545282364</td>\n",
       "      <td>14.72260370850563</td>\n",
       "    </tr>\n",
       "  </tbody>\n",
       "</table>\n",
       "<p>63 rows × 2 columns</p>\n",
       "</div>"
      ],
      "text/plain": [
       "              LATITUDE           LONGITUDE\n",
       "0    40.63441246747971  14.602812230587006\n",
       "1   40.633594393730164   14.60260570049286\n",
       "2           40.6997332          14.6415366\n",
       "3   40.650551319122314  14.626602083444595\n",
       "4            40.652708           14.624941\n",
       "..                 ...                 ...\n",
       "60   40.66944479942322  14.732317328453064\n",
       "61   40.65782278776169  14.712235629558563\n",
       "62   40.65788850188255  14.712146446108818\n",
       "63   40.66430568695069   14.71624553203583\n",
       "64  40.668480545282364   14.72260370850563\n",
       "\n",
       "[63 rows x 2 columns]"
      ]
     },
     "execution_count": 10,
     "metadata": {},
     "output_type": "execute_result"
    }
   ],
   "source": [
    "temp_separator = \";;\"\n",
    "itineraries_costiera_amalfitana_df['Temp'] = itineraries_costiera_amalfitana_df['GEOLOCALIZZAZIONE'].apply(lambda x: temp_separator.join(float_tuple_to_string_list(get_latitude_longitude(string=x, null_value=NULL_VALUE))))\n",
    "itineraries_costiera_amalfitana_df[['LATITUDE', 'LONGITUDE']] = itineraries_costiera_amalfitana_df.Temp.str.split(temp_separator, expand=True)\n",
    "itineraries_costiera_amalfitana_df = itineraries_costiera_amalfitana_df.drop(['Temp'], axis=1)\n",
    "\n",
    "itineraries_costiera_amalfitana_df.drop_duplicates(subset = ['LATITUDE', 'LONGITUDE'])[['LATITUDE', 'LONGITUDE']]"
   ]
  },
  {
   "cell_type": "markdown",
   "id": "2c5a64aa",
   "metadata": {
    "cell_id": "00018-90c04e74-a143-431a-9e1d-f90af4abb148",
    "deepnote_cell_type": "markdown",
    "tags": []
   },
   "source": [
    "### 5. Description - DESCRIZIONE - replace NON DISPONIBILE/empty values with NULL + clean values (e.g., numbers)"
   ]
  },
  {
   "cell_type": "code",
   "execution_count": 11,
   "id": "d2a51725",
   "metadata": {
    "cell_id": "00019-f1847213-99e6-45fa-8b8b-f16f58994ee0",
    "deepnote_cell_type": "code",
    "deepnote_output_heights": [
     232.25
    ],
    "deepnote_to_be_reexecuted": false,
    "execution_millis": 24,
    "execution_start": 1641769361910,
    "source_hash": "8583c4eb",
    "tags": []
   },
   "outputs": [
    {
     "data": {
      "text/plain": [
       "Cetara è un antico borgo di pescatori in provincia di Salerno, ancora oggi caratterizzato da un'economia concentrata sulla pesca e sull'artigianato. A Cetara continua a essere presente nella tradizione culinaria, la colatura di alici, erede del Garum, un piatto descrittoci da Plinio e Orazio come una salsa di pesce cremosa che veniva ottenuta facendo macerare strati alternati di pesci piccoli e interi, probabilmente alici e pesci più grandi tagliati a pezzetti, forse sgombri o tonni, con strati di erbe aromatiche tritate, tutto ricoperto da sale grosso. La colatura di alici che viene prodotta a Cetara è un liquido ambrato ottenuto seguendo un antico procedimento che i pescatori del luogo si sono tramandati di padre in figlio. Si parte dalla tecnica di lavorazione delle alici sotto sale, di cui la colatura è un derivato: le alici appena pescate, in tutto il periodo primaverile, vengono private della testa e delle interiora e poi adagiate in un contenitore, cosparse di sale marino abbondante per 24 ore. Dopo la prima salatura, vengono messe in una piccola botte, il terzigno, e sistemate con la classica tecnica ‘'testa-coda'' a strati alterni di sale. Completato il lavoro, il terzigno viene coperto con un disco in legno, sul quale si collocano dei pesi. Per effetto della pressatura e della maturazione del pesce, il liquido secreto dalle alici comincia ad affiorare in superficie. è questo liquido l'elemento base per la colatura: raccolto progressivamente man mano viene inserito in grandi bottiglie di vetro ed esposto a fonte di luce diretta del sole per circa quattro o cinque mesi, perché evapori l'acqua e aumenti la concentrazione cosicché, in genere fra la fine del mese di ottobre e gli inizi di novembre, tutto è pronto per l'ultima fase: il liquido raccolto e conservato viene versato nuovamente nel terzigno dove le alici sono rimaste in maturazione. Così, colando lentamente attraverso i vari strati dei pesci, ne raccoglie il meglio delle caratteristiche organolettiche. Viene recuperato attraverso un foro praticato appositamente nel terzigno, trasferito in un altro recipiente e filtrato con l'uso di teli di lino, chiamati cappucci. Il risultato finale è un distillato limpido di colore ambrato carico, quasi bruno-mogano, dal sapore deciso e corposo che a Cetara è il tradizionale condimento per gli spaghetti delle vigilie, oltre che per le bruschette, i broccoli di Natale e altre verdure: tradizionalmente considerato un cibo povero, sostitutivo del pesce fresco, oggi è un condimento ricercatissimo e apprezzato a tutti i livelli.    1\n",
       "Chiamata anche torre della Pigna o del Cimitero. Il Capo di Conca, insieme al Capo d'Orso, è uno dei punti fondamentali per le comunicazioni visive della costiera amalfitana. Il 19 aprile 1279 la torre di Capo di Conca è citata tra le cinque torri del golfo di Salerno a pianta circolare. Fu ripristinata e voluta più grande in epoca vicereale. La sua posizione, molto vicina al mare, indusse a dotarla di un presidio di cinque soldati. La tipologia della torre è a tre caditoie presenti su tutti e quattro i lati.                                                                                                                                                                                                                                                                                                                                                                                                                                                                                                                                                                                                                                                                                                                                                                                                                                                                                                                                                                                                                                                                                                                                                                                                                                                                                                                                                                                                                                                                                                                                                                                                                                                                                                                                                                                                                                                                                                                                                                                                                                                                                                                                            1\n",
       "Circa 400 anni fa una monaca convento di clausura di Santa Rosa a Conca dei Marini, in provincia di Salerno, preparando il biancomangiare, un dolce composto da semola cotta nel latte, sbagliò le dosi e decise di sperimentare una nuova creazione: aggiunse all'impasto alcune gocce di limoncello, dei pezzi di susine, albicocche e pere disseccate. Pose, poi, il composto fra due \"pettole\" cioè pezzi di pasta di pane insaporita con mezzo bicchiere di vino, strutto e dello zucchero e alla fine pose la \"grandissima sfogliata\" nel forno molto caldo ed attese che si indorasse. La Badessa apprezzò molto la nuova ricetta e dispose che il dolce fosse intitolato alla santa fondatrice dell'ordine, Santa Rosa, e che fosse preparato ogni 30 agosto in occasione della festa della santa. La Santa Rosa si componeva, dunque, di molteplici e sottili sfoglie sovrapposte, era confezionato a forma di conchiglia o cappuccio, e arricchito da un cordone di crema e di marmellata di amarena. La dolce ricetta trapelò dal convento intorno al 1800 e, con alcune variazioni, come, ad esempio, un ridimensionamento della forma, la sostituzione dei frutti secchi con i canditi e l'eliminazione della crema pasticciera, divenne la specialità di un osteria del cuore della città e prese il nome di sfogliatella. Da allora l'osteria che aveva trasformato la Santa Rosa in sfogliatella si trasformò lei stessa in un laboratorio dolciario specializzato in sfogliatelle e la ricetta del dolce si diffuse in tutte le pasticcerie della la città, sia nella sua variante riccia che in quella frolla.                                                                                                                                                                                                                                                                                                                                                                                                                                                                                                                                                                                                                                                                                                                                                                                                                                                                                                                                                                                                                                              1\n",
       "Col nome di ndunderi si indica un tipo di pasta fatta a mano tipica di Minori, in provincia di Salerno. La ricetta degli ndunderi, utilizzati tradizionalmente per i festeggiamenti in onore di Santa Trofimena, è antichissima, pare che sia una variante delle \"palline latine\" di origine romana, un alimento a base di \"farina caseata\" cioè farro e latte cagliato. Furono i pastai di Minori a modificarne la ricetta, gli stessi che, nel ‘700, valicarono i monti lattari per trasferirsi a Gragnano dove impiantarono la moderna industria della pasta. La ricetta attuale prevede un impasto di farina e latte cagliato oppure ricotta, tuorli d'uovo, formaggio di vacca grattugiato, sale, pepe e noce moscata; la lavorazione deve avvenire a mano, l'impasto va ridotto in un lungo cordone, non troppo sottile, e poi tagliato a tocchetti che vanno resi concavi dalla leggera pressione di un dito o di due dita a seconda della grandezza stabilita. Dopo, i tocchetti si fanno scivolare sulla concavità di una grattugia, su una forchetta, o su un'apposita tavoletta rigata detta \"pettine\". Il condimento privilegiato per gli ndunderi è il ragù di carne.                                                                                                                                                                                                                                                                                                                                                                                                                                                                                                                                                                                                                                                                                                                                                                                                                                                                                                                                                                                                                                                                                                                                                                                                                                                                                                                                                                                                                                                                                            1\n",
       "Controllava i tratti di mare davanti alle spiagge del Fornillo e Grande. La torre ha una base circolare a scarpata, sormontata da un corpo cilindrico privo del coronamento superiore e mostra un parapetto spezzato sul terrazzo che ricorda vagamente le antiche merlature.Completamente trasformata per poter essere adattata ad abitazione privata, mostra elementi di matrice angioina. La prima notizia riguardante i lavori della torre risalgono al 1567. Quando la torre fu disarmata, nel 1758, il cannone di cui era armata fu trasportato a Napoli dal comandante del corpo di Artiglieria, Gennaro Russo. Nel 1817 la torre fu messa in vendita per la prima volta. Alla metà del Novecento, sui resti dell'antica torre, nacque una nuova costruzione, ridisegnata sulle linee architettoniche di quelle delle altre torri angioine presenti lungo la costa amalfitana.                                                                                                                                                                                                                                                                                                                                                                                                                                                                                                                                                                                                                                                                                                                                                                                                                                                                                                                                                                                                                                                                                                                                                                                                                                                                                                                                                                                                                                                                                                                                                                                                                                                                                                                                                                                         1\n",
       "                                                                                                                                                                                                                                                                                                                                                                                                                                                                                                                                                                                                                                                                                                                                                                                                                                                                                                                                                                                                                                                                                                                                                                                                                                                                                                                                                                                                                                                                                                                                                                                                                                                                                                                                                                                                                                                                                                                                                                                                                                                                                                                                                                                                                                                                                                                                                                                                                                                                                                                                                                                                                                                                             ..\n",
       "Torre di avvistamento con troniera sull'ingresso. Era una delle torri più importanti del sistema difensivo angioino, a pianta circolare e con mura a scarpata. L’antichissima costruzione, ormai in rovina, si estende su di un piccolo promontorio a picco sul mare, tra i comuni di Cetara e Maiori, poco prima della piccola frazione maiorese di Erchie.                                                                                                                                                                                                                                                                                                                                                                                                                                                                                                                                                                                                                                                                                                                                                                                                                                                                                                                                                                                                                                                                                                                                                                                                                                                                                                                                                                                                                                                                                                                                                                                                                                                                                                                                                                                                                                                                                                                                                                                                                                                                                                                                                                                                                                                                                                                  1\n",
       "Torre di sbarramento a base circolare con beccatelli alla sommità. Permetteva di comunicare visivamente col castello, col nucleo urbano di Amalfi e con la torre di Vettica. La torre appare all'estremità meridionale del monte Aureo, ad est del centro urbano di Amalfi. In epoca ducale questo versante del litorale veniva protetto dal castello di Santa Croce o Rocca di Santa Sofia. Quando in epoca angioina furono rinforzate le difese marittime, all'estremità meridionale dell'antica Rocca di Santa Croce fu edificata la torre in prossimità del mare. Nel 1436 erano già in corso opere di restauro della torre di San Francesco. Lucio Santoro inquadra nel programma aragonese il potenziamento con una maggiore altezza della preesistente torre. La torre presenta un primo corpo a base circolare, con pareti a scarpata, suddiviso all'interno in due ambienti. Le pareti a scarpata terminano con un toro in travertino, probabilmente proveniente dalle cave di Vietri. La seconda parte della torre, sempre cilindrica ha le pareti esterne dritte con un coronamento formato da beccatelli in travertino, privi dell'archetto superiore.                                                                                                                                                                                                                                                                                                                                                                                                                                                                                                                                                                                                                                                                                                                                                                                                                                                                                                                                                                                                                                                                                                                                                                                                                                                                                                                                                                                                                                                                                                            1\n",
       "Torre di sbarramento a quattro troniere. Realizzata a seguito dell'ordine del vicerè Pedro Toledo nel 1532. Il 2 maggio 1567 erano in corso i lavori della fabbrica della torre di Ogliara.                                                                                                                                                                                                                                                                                                                                                                                                                                                                                                                                                                                                                                                                                                                                                                                                                                                                                                                                                                                                                                                                                                                                                                                                                                                                                                                                                                                                                                                                                                                                                                                                                                                                                                                                                                                                                                                                                                                                                                                                                                                                                                                                                                                                                                                                                                                                                                                                                                                                                   1\n",
       "Torre di sbarramento realizzata nel 1565 sul lato occidentale della foce del torrente Reginna Maior, nei pressi della torre della Trinità, più antica e situata più a nord.                                                                                                                                                                                                                                                                                                                                                                                                                                                                                                                                                                                                                                                                                                                                                                                                                                                                                                                                                                                                                                                                                                                                                                                                                                                                                                                                                                                                                                                                                                                                                                                                                                                                                                                                                                                                                                                                                                                                                                                                                                                                                                                                                                                                                                                                                                                                                                                                                                                                                                   1\n",
       "Torre di sbarramento senza troniere. Resti di un probabile torrione sono visibili sulle rocce che affiorano dal mare. Il muro si presenta con una configurazione a scarpata.                                                                                                                                                                                                                                                                                                                                                                                                                                                                                                                                                                                                                                                                                                                                                                                                                                                                                                                                                                                                                                                                                                                                                                                                                                                                                                                                                                                                                                                                                                                                                                                                                                                                                                                                                                                                                                                                                                                                                                                                                                                                                                                                                                                                                                                                                                                                                                                                                                                                                                  1\n",
       "Name: DESCRIZIONE, Length: 65, dtype: int64"
      ]
     },
     "execution_count": 11,
     "metadata": {},
     "output_type": "execute_result"
    }
   ],
   "source": [
    "itineraries_costiera_amalfitana_df['DESCRIZIONE'].value_counts().sort_index()"
   ]
  },
  {
   "cell_type": "markdown",
   "id": "16ec8118",
   "metadata": {
    "cell_id": "00020-90c39552-62a8-4b65-afb5-787c86e77403",
    "deepnote_cell_type": "markdown",
    "tags": []
   },
   "source": [
    "### 6. Note - NOTE - replace NON DISPONIBILE/empty values with NULL + clean values (e.g., numbers)"
   ]
  },
  {
   "cell_type": "code",
   "execution_count": 12,
   "id": "109e60fb",
   "metadata": {
    "cell_id": "00021-48b009ec-3884-4014-9df1-a52f23f37108",
    "deepnote_cell_type": "code",
    "deepnote_output_heights": [
     607
    ],
    "deepnote_to_be_reexecuted": false,
    "execution_millis": 32,
    "execution_start": 1641769361936,
    "source_hash": "475d2825",
    "tags": []
   },
   "outputs": [
    {
     "data": {
      "text/plain": [
       "Chiamata anche americana o del mortaro. epoca vicereale                                                                                                                                                                                                  1\n",
       "Chiamata anche torre revigliano o revellino. epoca vicereale                                                                                                                                                                                             1\n",
       "Conosciuta anche col nome di torretta di capo d'orso. epoca angioina                                                                                                                                                                                     1\n",
       "Detta anche della formicola. epoca vicereale                                                                                                                                                                                                             1\n",
       "Detta anche di capo focardo, marmorata o ficarola. epoca vicereale                                                                                                                                                                                       1\n",
       "Detta anche di san francesco  per la presenza di un ex convento o del tumulo. epoca angioina                                                                                                                                                             1\n",
       "Detta anche santa maria d'ogliara o di s.spirito. epoca vicereale                                                                                                                                                                                        1\n",
       "Detta anche torre della maddalena o revellino di atrani.epoca vicereale                                                                                                                                                                                  1\n",
       "Detta anche torre di acquarulo. epoca vicereale                                                                                                                                                                                                          1\n",
       "Detta anche torrione. demolita. epoca vicereale                                                                                                                                                                                                          1\n",
       "Detta torre del ciro o giro, o anche del buon tempo. epoca angioina                                                                                                                                                                                      1\n",
       "Epoca angioina                                                                                                                                                                                                                                           2\n",
       "Epoca ignota                                                                                                                                                                                                                                             1\n",
       "Epoca normanna                                                                                                                                                                                                                                           1\n",
       "Epoca vicereale                                                                                                                                                                                                                                          4\n",
       "Epoca vicereale. la torre di cetara ha una struttura molto articolata, frutto di una integrazione tra una torre cilindrica angioina ed una a doppia altezza vicereale. le due costruzioni sovrapposte, però, conservano una loro leggibile autonomia.    1\n",
       "Il bastione si trova nella località di arienzo. epoca vicereale                                                                                                                                                                                          1\n",
       "In abbandono - pericolo crolli. epoca bizantina                                                                                                                                                                                                          1\n",
       "In rovina. epoca vicereale                                                                                                                                                                                                                               1\n",
       "La cerniola è una delle prime torri che s'incontrano lungo la costa da salerno a positano. epoca vicereale. edificio per cerimonie ed eventi                                                                                                             1\n",
       "La torre di avvistamento, realizzata in muratura di pietrame, si mostra nella tipica forma angioina. epoca angioina                                                                                                                                      1\n",
       "La torre di bassano è una delle tante torri di avvistamento situate lungo la costiera amalfitana. epoca vicereale                                                                                                                                        1\n",
       "NULL                                                                                                                                                                                                                                                     9\n",
       "Parcheggio                                                                                                                                                                                                                                               1\n",
       "Percorso escursionistico                                                                                                                                                                                                                                 4\n",
       "Percorso escursionistico - raggiungibile solo a piedi                                                                                                                                                                                                    1\n",
       "Percorso escursionistico - visite guidate                                                                                                                                                                                                                1\n",
       "Raggiungibile solo a piedi                                                                                                                                                                                                                               2\n",
       "Situata sull'isola dei briganti. epoca aragonese                                                                                                                                                                                                         1\n",
       "Situata sull'isola lunga de li galli. torre di sbarramento. epoca angioina                                                                                                                                                                               1\n",
       "Situata sull'isola rotonda de li galli. epoca angioina                                                                                                                                                                                                   1\n",
       "Sorge nella località di capo di vettica. epoca vicereale                                                                                                                                                                                                 1\n",
       "Sorge nella località di erchie; castello in abbandono. epoca angioina                                                                                                                                                                                    1\n",
       "Torre di avvistamento a tre troniere. epoca vicereale                                                                                                                                                                                                    1\n",
       "Torre di avvistamento costruita direttamente su roccia.                                                                                                                                                                                                  1\n",
       "Torre di avvistamento, chiamata anche torre di vettica o grado di vettica. epoca angioina                                                                                                                                                                1\n",
       "Torre di avvistamento, senza troniera. epoca vicereale                                                                                                                                                                                                   1\n",
       "Torre di sbarramento a base circolare                                                                                                                                                                                                                    1\n",
       "Torre di sbarramento a base circolare. epoca vicereale                                                                                                                                                                                                   1\n",
       "Torre di sbarramento a base quadrata con quattro troniere. epoca vicereale                                                                                                                                                                               1\n",
       "Torre di sbarramento a cinque troniere. epoca vicereale. sede della guardia di finanza                                                                                                                                                                   1\n",
       "Torre di sbarramento con quattro troniere. epoca vicereale. abitazione privata                                                                                                                                                                           1\n",
       "Torre di sbarramento con troniera. chiamata anche torre praiasciene, della gavitella o dello scaricatore. epoca vicereale                                                                                                                                1\n",
       "Torre di sbarramento con una troniera a monte e quattro sul fronte mare. b&b. epoca vicereale                                                                                                                                                            1\n",
       "Torre di sbarramento detta anche clavel. situata sulla spiaggia di fornillo.  epoca vicereale                                                                                                                                                            1\n",
       "Torre di sbarramento, detta anticamente trasino, perchè situata tra due seni o spiagge. epoca angioina                                                                                                                                                   1\n",
       "Torre di sbarramento. epoca vicereale                                                                                                                                                                                                                    1\n",
       "Tra vettica e praiano sorge la torre dell'assiola detta anche sciola. epoca angioina                                                                                                                                                                     1\n",
       "Traccia storica                                                                                                                                                                                                                                          1\n",
       "Name: NOTE, dtype: int64"
      ]
     },
     "execution_count": 12,
     "metadata": {},
     "output_type": "execute_result"
    }
   ],
   "source": [
    "itineraries_costiera_amalfitana_df['NOTE'] = itineraries_costiera_amalfitana_df['NOTE'].str.capitalize()\n",
    "itineraries_costiera_amalfitana_df['NOTE'] = itineraries_costiera_amalfitana_df['NOTE'].str.replace(\"vicerale\", \"vicereale\", regex=False)\n",
    "itineraries_costiera_amalfitana_df['NOTE'] = itineraries_costiera_amalfitana_df['NOTE'].str.replace(NULL_VALUE.capitalize(), NULL_VALUE, regex=False)\n",
    "itineraries_costiera_amalfitana_df['NOTE'].value_counts().sort_index()"
   ]
  },
  {
   "cell_type": "markdown",
   "id": "e02a1199",
   "metadata": {
    "cell_id": "00032-1206b20b-391e-465f-82e6-d877672b8719",
    "deepnote_cell_type": "markdown",
    "tags": []
   },
   "source": [
    "### 7. Image - URL IMMAGINE -  replace NON DISPONIBILE/empty values with NULL "
   ]
  },
  {
   "cell_type": "code",
   "execution_count": 13,
   "id": "9cf16f78",
   "metadata": {
    "cell_id": "00033-a139812b-60dc-4d67-bc0d-4606b94b48f8",
    "deepnote_cell_type": "code",
    "deepnote_output_heights": [
     213.0625
    ],
    "deepnote_to_be_reexecuted": false,
    "execution_millis": 7,
    "execution_start": 1641769362033,
    "source_hash": "bd16502a",
    "tags": []
   },
   "outputs": [
    {
     "data": {
      "text/plain": [
       "NULL                                                                                                                            56\n",
       "http://spod.databenc.it/ethersheet/images/ae8a366d-e0fa-405c-8d1e-882d84b56df8/18721305_10211478306570096_1522314104_o.jpg       1\n",
       "http://spod.databenc.it/ethersheet/images/ae8a366d-e0fa-405c-8d1e-882d84b56df8/Delizia_al_limone.jpg                             1\n",
       "http://spod.databenc.it/ethersheet/images/ae8a366d-e0fa-405c-8d1e-882d84b56df8/Limoncello.jpg                                    1\n",
       "http://spod.databenc.it/ethersheet/images/ae8a366d-e0fa-405c-8d1e-882d84b56df8/Limone_di_Sorrento.jpg                            1\n",
       "http://spod.databenc.it/ethersheet/images/ae8a366d-e0fa-405c-8d1e-882d84b56df8/Marroni_.jpeg                                     1\n",
       "http://spod.databenc.it/ethersheet/images/ae8a366d-e0fa-405c-8d1e-882d84b56df8/Progetto senza titolo (2).png                     1\n",
       "http://spod.databenc.it/ethersheet/images/ae8a366d-e0fa-405c-8d1e-882d84b56df8/Sfogliatella_Santarosa.jpg                        1\n",
       "http://spod.databenc.it/ethersheet/images/ae8a366d-e0fa-405c-8d1e-882d84b56df8/Spaghetti_di_Gragnano_e_colatura_di_alici.jpg     1\n",
       "http://spod.databenc.it/ethersheet/images/ae8a366d-e0fa-405c-8d1e-882d84b56df8/fusilli-1041100_1280.jpg                          1\n",
       "Name: URL IMMAGINE, dtype: int64"
      ]
     },
     "execution_count": 13,
     "metadata": {},
     "output_type": "execute_result"
    }
   ],
   "source": [
    "itineraries_costiera_amalfitana_df['URL IMMAGINE'].value_counts().sort_index()"
   ]
  },
  {
   "cell_type": "markdown",
   "id": "72af78ea",
   "metadata": {},
   "source": [
    "### 8. Address - adding columns reporting zip code, municipality, country, etc."
   ]
  },
  {
   "cell_type": "code",
   "execution_count": 14,
   "id": "2d450e13",
   "metadata": {},
   "outputs": [
    {
     "data": {
      "text/html": [
       "<div>\n",
       "<style scoped>\n",
       "    .dataframe tbody tr th:only-of-type {\n",
       "        vertical-align: middle;\n",
       "    }\n",
       "\n",
       "    .dataframe tbody tr th {\n",
       "        vertical-align: top;\n",
       "    }\n",
       "\n",
       "    .dataframe thead th {\n",
       "        text-align: right;\n",
       "    }\n",
       "</style>\n",
       "<table border=\"1\" class=\"dataframe\">\n",
       "  <thead>\n",
       "    <tr style=\"text-align: right;\">\n",
       "      <th></th>\n",
       "      <th>LOCALITAˈ</th>\n",
       "      <th>CAP</th>\n",
       "      <th>PROVINCIA</th>\n",
       "      <th>REGIONE</th>\n",
       "    </tr>\n",
       "  </thead>\n",
       "  <tbody>\n",
       "    <tr>\n",
       "      <th>0</th>\n",
       "      <td>Amalfi</td>\n",
       "      <td>84011</td>\n",
       "      <td>SA</td>\n",
       "      <td>Campania</td>\n",
       "    </tr>\n",
       "    <tr>\n",
       "      <th>2</th>\n",
       "      <td>Tramonti</td>\n",
       "      <td>84010</td>\n",
       "      <td>SA</td>\n",
       "      <td>Campania</td>\n",
       "    </tr>\n",
       "    <tr>\n",
       "      <th>3</th>\n",
       "      <td>Minori</td>\n",
       "      <td>84010</td>\n",
       "      <td>SA</td>\n",
       "      <td>Campania</td>\n",
       "    </tr>\n",
       "    <tr>\n",
       "      <th>5</th>\n",
       "      <td>Scala</td>\n",
       "      <td>84010</td>\n",
       "      <td>SA</td>\n",
       "      <td>Campania</td>\n",
       "    </tr>\n",
       "    <tr>\n",
       "      <th>7</th>\n",
       "      <td>Cetara</td>\n",
       "      <td>84010</td>\n",
       "      <td>SA</td>\n",
       "      <td>Campania</td>\n",
       "    </tr>\n",
       "    <tr>\n",
       "      <th>8</th>\n",
       "      <td>Conca dei Marini</td>\n",
       "      <td>84010</td>\n",
       "      <td>SA</td>\n",
       "      <td>Campania</td>\n",
       "    </tr>\n",
       "    <tr>\n",
       "      <th>10</th>\n",
       "      <td>Atrani</td>\n",
       "      <td>84010</td>\n",
       "      <td>SA</td>\n",
       "      <td>Campania</td>\n",
       "    </tr>\n",
       "    <tr>\n",
       "      <th>12</th>\n",
       "      <td>Furore</td>\n",
       "      <td>84010</td>\n",
       "      <td>SA</td>\n",
       "      <td>Campania</td>\n",
       "    </tr>\n",
       "    <tr>\n",
       "      <th>13</th>\n",
       "      <td>Maiori</td>\n",
       "      <td>84010</td>\n",
       "      <td>SA</td>\n",
       "      <td>Campania</td>\n",
       "    </tr>\n",
       "    <tr>\n",
       "      <th>16</th>\n",
       "      <td>Ravello</td>\n",
       "      <td>84010</td>\n",
       "      <td>SA</td>\n",
       "      <td>Campania</td>\n",
       "    </tr>\n",
       "    <tr>\n",
       "      <th>46</th>\n",
       "      <td>Positano</td>\n",
       "      <td>84017</td>\n",
       "      <td>SA</td>\n",
       "      <td>Campania</td>\n",
       "    </tr>\n",
       "    <tr>\n",
       "      <th>53</th>\n",
       "      <td>Praiano</td>\n",
       "      <td>84010</td>\n",
       "      <td>SA</td>\n",
       "      <td>Campania</td>\n",
       "    </tr>\n",
       "    <tr>\n",
       "      <th>60</th>\n",
       "      <td>Vietri sul Mare</td>\n",
       "      <td>84019</td>\n",
       "      <td>SA</td>\n",
       "      <td>Campania</td>\n",
       "    </tr>\n",
       "  </tbody>\n",
       "</table>\n",
       "</div>"
      ],
      "text/plain": [
       "           LOCALITAˈ    CAP PROVINCIA   REGIONE\n",
       "0             Amalfi  84011        SA  Campania\n",
       "2           Tramonti  84010        SA  Campania\n",
       "3             Minori  84010        SA  Campania\n",
       "5              Scala  84010        SA  Campania\n",
       "7             Cetara  84010        SA  Campania\n",
       "8   Conca dei Marini  84010        SA  Campania\n",
       "10            Atrani  84010        SA  Campania\n",
       "12            Furore  84010        SA  Campania\n",
       "13            Maiori  84010        SA  Campania\n",
       "16           Ravello  84010        SA  Campania\n",
       "46          Positano  84017        SA  Campania\n",
       "53           Praiano  84010        SA  Campania\n",
       "60   Vietri sul Mare  84019        SA  Campania"
      ]
     },
     "execution_count": 14,
     "metadata": {},
     "output_type": "execute_result"
    }
   ],
   "source": [
    "temp_separator = \";;\"\n",
    "itineraries_costiera_amalfitana_df['Temp'] = itineraries_costiera_amalfitana_df['LOCALITAˈ'].apply(lambda x: temp_separator.join(getAddressInfo(comune=map_comune_to_elenco_comuni_cap(x), elenco_comuni_cap=elenco_comuni_cap)))\n",
    "itineraries_costiera_amalfitana_df[['CAP','PROVINCIA','REGIONE']] = itineraries_costiera_amalfitana_df.Temp.str.split(temp_separator, expand=True)\n",
    "itineraries_costiera_amalfitana_df = itineraries_costiera_amalfitana_df.drop(['Temp'], axis=1)\n",
    "\n",
    "itineraries_costiera_amalfitana_df.drop_duplicates(subset = ['LOCALITAˈ', 'CAP','PROVINCIA','REGIONE'])[['LOCALITAˈ', 'CAP','PROVINCIA','REGIONE']]"
   ]
  },
  {
   "cell_type": "markdown",
   "id": "45ddb946",
   "metadata": {},
   "source": [
    "## Define type of itinerary"
   ]
  },
  {
   "cell_type": "code",
   "execution_count": 15,
   "id": "e262c40d",
   "metadata": {},
   "outputs": [],
   "source": [
    "itinerary_culinare_name_list = [\"Limone Costa d'Amalfi I.G.P.\",\"Delizia al limone\", \\\n",
    "                                \"Liquore concerto\", \"Fusillo furitano\", \\\n",
    "                                \"Ndunderi\", \"Marrone di Scala\", \\\n",
    "                                \"Liquore di limone Costa d'Amalfi\", \"Colatura di alici di Cetara\", \\\n",
    "                                \"Sfogliatella Santa Rosa\"]\n",
    "\n",
    "itineraries_costiera_amalfitana_df[\"CATEGORIA ITINERARIO\"] = 'culturale'\n",
    "itineraries_costiera_amalfitana_df.loc[itineraries_costiera_amalfitana_df.NOME.isin(itinerary_culinare_name_list), \"CATEGORIA ITINERARIO\"] = 'culinario'"
   ]
  },
  {
   "cell_type": "markdown",
   "id": "111dfbfd",
   "metadata": {
    "cell_id": "00023-6be66372-be9b-4570-8ecd-dbba6c2f9ca8",
    "deepnote_cell_type": "markdown",
    "tags": []
   },
   "source": [
    "## Save to csv and pickle"
   ]
  },
  {
   "cell_type": "code",
   "execution_count": 16,
   "id": "c0e53ad8",
   "metadata": {
    "cell_id": "00043-4d330847-1060-4c82-9341-76652cdb9303",
    "deepnote_cell_type": "code",
    "deepnote_to_be_reexecuted": false,
    "execution_millis": 1,
    "execution_start": 1641769362034,
    "source_hash": "a73cdac2"
   },
   "outputs": [],
   "source": [
    "itineraries_costiera_amalfitana_df = itineraries_costiera_amalfitana_df[['CATEGORIA ITINERARIO', 'NOME', \\\n",
    "        'LOCALITAˈ', 'CAP', 'PROVINCIA', 'REGIONE', 'TIPOLOGIA', 'DESCRIZIONE', 'NOTE', 'URL IMMAGINE', \\\n",
    "        'LATITUDE', 'LONGITUDE']]\n",
    "itineraries_costiera_amalfitana_df.to_csv('../Dataset_clean/itineraries-CostieraAmalfitana.csv', index=False)\n",
    "itineraries_costiera_amalfitana_df.to_pickle(\"../Dataset_clean/itineraries-CostieraAmalfitana.pkl\")  "
   ]
  }
 ],
 "metadata": {
  "deepnote": {},
  "deepnote_execution_queue": [],
  "deepnote_notebook_id": "7d9946d5-0923-4f9d-8b12-d8232e0d0448",
  "kernelspec": {
   "display_name": "Python 3",
   "language": "python",
   "name": "python3"
  },
  "language_info": {
   "codemirror_mode": {
    "name": "ipython",
    "version": 3
   },
   "file_extension": ".py",
   "mimetype": "text/x-python",
   "name": "python",
   "nbconvert_exporter": "python",
   "pygments_lexer": "ipython3",
   "version": "3.9.9"
  }
 },
 "nbformat": 4,
 "nbformat_minor": 5
}
