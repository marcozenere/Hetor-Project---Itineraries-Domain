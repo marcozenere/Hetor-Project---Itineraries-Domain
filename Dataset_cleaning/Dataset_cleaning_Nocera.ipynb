{
 "cells": [
  {
   "cell_type": "code",
   "execution_count": 1,
   "id": "cc777a96",
   "metadata": {
    "cell_id": "00000-af3f51da-fd60-4534-bd24-6de2726c9692",
    "deepnote_cell_type": "code",
    "deepnote_to_be_reexecuted": false,
    "execution_millis": 1695,
    "execution_start": 1641769385581,
    "source_hash": "5302ac93"
   },
   "outputs": [],
   "source": [
    "import pandas as pd\n",
    "from data_cleaning_util import *"
   ]
  },
  {
   "cell_type": "markdown",
   "id": "15747b60",
   "metadata": {
    "cell_id": "00001-79f211db-d660-44e2-8c05-cf66211dc386",
    "deepnote_cell_type": "markdown"
   },
   "source": [
    "# Dataset itineraries-Nocera"
   ]
  },
  {
   "cell_type": "code",
   "execution_count": 2,
   "id": "893beb02",
   "metadata": {
    "cell_id": "00002-7b3ef4d4-226f-43ba-8386-3f4e5037f286",
    "deepnote_cell_type": "code",
    "deepnote_to_be_reexecuted": false,
    "execution_millis": 1,
    "execution_start": 1641769387276,
    "source_hash": "4fec5071"
   },
   "outputs": [],
   "source": [
    "itineraries_nocera_df = pd.read_csv('../Dataset/itineraries-Nocera.csv')"
   ]
  },
  {
   "cell_type": "code",
   "execution_count": 3,
   "id": "6c990962",
   "metadata": {
    "cell_id": "00006-37c4549d-6d38-4ccb-bf85-662d907833a8",
    "deepnote_cell_type": "code",
    "deepnote_output_heights": [
     264
    ],
    "deepnote_to_be_reexecuted": false,
    "execution_millis": 30,
    "execution_start": 1641769387277,
    "source_hash": "2f4c31de",
    "tags": []
   },
   "outputs": [
    {
     "name": "stdout",
     "output_type": "stream",
     "text": [
      "<class 'pandas.core.frame.DataFrame'>\n",
      "RangeIndex: 69 entries, 0 to 68\n",
      "Data columns (total 23 columns):\n",
      " #   Column                        Non-Null Count  Dtype  \n",
      "---  ------                        --------------  -----  \n",
      " 0   Città                         69 non-null     object \n",
      " 1   Località                      51 non-null     object \n",
      " 2   Via                           20 non-null     object \n",
      " 3   N. Registro generale          69 non-null     int64  \n",
      " 4   Nome azienda                  69 non-null     object \n",
      " 5   Data deposito                 69 non-null     object \n",
      " 6   Data registrazione marchio    69 non-null     object \n",
      " 7   Luogo di Deposito             68 non-null     object \n",
      " 8   Nome marchio                  69 non-null     object \n",
      " 9   Settore produzione            69 non-null     object \n",
      " 10  Importazione Si/No            61 non-null     object \n",
      " 11  Itinerario (periodo)          69 non-null     object \n",
      " 12  Descrizione del marchio       53 non-null     object \n",
      " 13  Sito azienda                  2 non-null      object \n",
      " 14  Note                          24 non-null     object \n",
      " 15  geolocalizzazione             47 non-null     object \n",
      " 16  Bibliografia                  46 non-null     object \n",
      " 17  Sitografia                    69 non-null     object \n",
      " 18  URL immagine                  68 non-null     object \n",
      " 19  URL immagine 2                26 non-null     object \n",
      " 20  Tipologia edificio            0 non-null      float64\n",
      " 21  Rifunzionalizzato Si/No       27 non-null     object \n",
      " 22  Tipo di rifunzionalizzazione  24 non-null     object \n",
      "dtypes: float64(1), int64(1), object(21)\n",
      "memory usage: 12.5+ KB\n"
     ]
    }
   ],
   "source": [
    "itineraries_nocera_df.info()"
   ]
  },
  {
   "cell_type": "code",
   "execution_count": 4,
   "id": "c73cae81",
   "metadata": {
    "cell_id": "00003-47b94d35-2728-4e44-b20c-1b063f6d4f9b",
    "deepnote_cell_type": "code",
    "deepnote_output_heights": [
     208.1875
    ],
    "deepnote_to_be_reexecuted": false,
    "execution_millis": 224,
    "execution_start": 1641769387309,
    "source_hash": "15ed20bf"
   },
   "outputs": [
    {
     "data": {
      "text/html": [
       "<div>\n",
       "<style scoped>\n",
       "    .dataframe tbody tr th:only-of-type {\n",
       "        vertical-align: middle;\n",
       "    }\n",
       "\n",
       "    .dataframe tbody tr th {\n",
       "        vertical-align: top;\n",
       "    }\n",
       "\n",
       "    .dataframe thead th {\n",
       "        text-align: right;\n",
       "    }\n",
       "</style>\n",
       "<table border=\"1\" class=\"dataframe\">\n",
       "  <thead>\n",
       "    <tr style=\"text-align: right;\">\n",
       "      <th></th>\n",
       "      <th>Città</th>\n",
       "      <th>Località</th>\n",
       "      <th>Via</th>\n",
       "      <th>N. Registro generale</th>\n",
       "      <th>Nome azienda</th>\n",
       "      <th>Data deposito</th>\n",
       "      <th>Data registrazione marchio</th>\n",
       "      <th>Luogo di Deposito</th>\n",
       "      <th>Nome marchio</th>\n",
       "      <th>Settore produzione</th>\n",
       "      <th>...</th>\n",
       "      <th>Sito azienda</th>\n",
       "      <th>Note</th>\n",
       "      <th>geolocalizzazione</th>\n",
       "      <th>Bibliografia</th>\n",
       "      <th>Sitografia</th>\n",
       "      <th>URL immagine</th>\n",
       "      <th>URL immagine 2</th>\n",
       "      <th>Tipologia edificio</th>\n",
       "      <th>Rifunzionalizzato Si/No</th>\n",
       "      <th>Tipo di rifunzionalizzazione</th>\n",
       "    </tr>\n",
       "  </thead>\n",
       "  <tbody>\n",
       "    <tr>\n",
       "      <th>0</th>\n",
       "      <td>Nocera Inferiore</td>\n",
       "      <td>NaN</td>\n",
       "      <td>NaN</td>\n",
       "      <td>4532</td>\n",
       "      <td>COMPAGNIA VESUVIANA PRODOTTI CONSERVATI</td>\n",
       "      <td>1899/11/09</td>\n",
       "      <td>1900/03/29</td>\n",
       "      <td>Milano</td>\n",
       "      <td>La Paysanne</td>\n",
       "      <td>Agro alimentare</td>\n",
       "      <td>...</td>\n",
       "      <td>NaN</td>\n",
       "      <td>Non disponiamo di informazioni riguardanti que...</td>\n",
       "      <td>NaN</td>\n",
       "      <td>NaN</td>\n",
       "      <td>http://dati.acs.beniculturali.it/mm/local/</td>\n",
       "      <td>http://dati.acs.beniculturali.it/media/bm/thmb...</td>\n",
       "      <td>http://dati.acs.beniculturali.it/media/bm/wtmk...</td>\n",
       "      <td>NaN</td>\n",
       "      <td>Non verificabile</td>\n",
       "      <td>NaN</td>\n",
       "    </tr>\n",
       "    <tr>\n",
       "      <th>1</th>\n",
       "      <td>Nocera Inferiore</td>\n",
       "      <td>NaN</td>\n",
       "      <td>NaN</td>\n",
       "      <td>6158</td>\n",
       "      <td>COMPAGNIA VESUVIANA PRODOTTI CONSERVATI</td>\n",
       "      <td>1904/01/31</td>\n",
       "      <td>1904/05/17</td>\n",
       "      <td>Milano</td>\n",
       "      <td>La Paysanne</td>\n",
       "      <td>Agro alimentare</td>\n",
       "      <td>...</td>\n",
       "      <td>NaN</td>\n",
       "      <td>Non disponiamo di informazioni riguardanti que...</td>\n",
       "      <td>NaN</td>\n",
       "      <td>NaN</td>\n",
       "      <td>http://dati.acs.beniculturali.it/mm/local/</td>\n",
       "      <td>http://dati.acs.beniculturali.it/media/bm/wtmk...</td>\n",
       "      <td>http://dati.acs.beniculturali.it/media/bm/wtmk...</td>\n",
       "      <td>NaN</td>\n",
       "      <td>Non verificabile</td>\n",
       "      <td>NaN</td>\n",
       "    </tr>\n",
       "    <tr>\n",
       "      <th>2</th>\n",
       "      <td>Nocera Inferiore</td>\n",
       "      <td>Piedimonte</td>\n",
       "      <td>NaN</td>\n",
       "      <td>6710</td>\n",
       "      <td>DITTA ANDREANI SPERA &amp; C.</td>\n",
       "      <td>1905/02/11</td>\n",
       "      <td>1905/04/29</td>\n",
       "      <td>Napoli</td>\n",
       "      <td>Non inserito</td>\n",
       "      <td>Agro alimentare</td>\n",
       "      <td>...</td>\n",
       "      <td>NaN</td>\n",
       "      <td>NaN</td>\n",
       "      <td>40.75240767002924,14.647127084417662</td>\n",
       "      <td>NaN</td>\n",
       "      <td>http://dati.acs.beniculturali.it/mm/local/</td>\n",
       "      <td>http://dati.acs.beniculturali.it/media/bm/thmb...</td>\n",
       "      <td>http://dati.acs.beniculturali.it/media/bm/wtmk...</td>\n",
       "      <td>NaN</td>\n",
       "      <td>Non verificabile</td>\n",
       "      <td>NaN</td>\n",
       "    </tr>\n",
       "    <tr>\n",
       "      <th>3</th>\n",
       "      <td>Nocera Inferiore</td>\n",
       "      <td>Mercato, Arenula</td>\n",
       "      <td>via G. B. Castaldo, 51</td>\n",
       "      <td>31970</td>\n",
       "      <td>SOC. AN. NOCERINA CONSERVE ALIMENTARI</td>\n",
       "      <td>1925/10/01</td>\n",
       "      <td>1926/04/14</td>\n",
       "      <td>Roma</td>\n",
       "      <td>Pantera</td>\n",
       "      <td>Agro alimentare</td>\n",
       "      <td>...</td>\n",
       "      <td>NaN</td>\n",
       "      <td>NaN</td>\n",
       "      <td>{\"type\":\"FeatureCollection\",\"features\":[{\"type...</td>\n",
       "      <td>R. Vitolo, M. Stanzione (eds.), Capitani d'ind...</td>\n",
       "      <td>http://dati.acs.beniculturali.it/mm/local/</td>\n",
       "      <td>http://dati.acs.beniculturali.it/media/bm/wtmk...</td>\n",
       "      <td>NaN</td>\n",
       "      <td>NaN</td>\n",
       "      <td>Si</td>\n",
       "      <td>Supermercato</td>\n",
       "    </tr>\n",
       "    <tr>\n",
       "      <th>4</th>\n",
       "      <td>Nocera Inferiore</td>\n",
       "      <td>Liporta</td>\n",
       "      <td>via E. Astuti, 52 - Via Napoli</td>\n",
       "      <td>38783</td>\n",
       "      <td>DITTA SALVATORE FORINO &amp; FIGLI</td>\n",
       "      <td>1929/07/05</td>\n",
       "      <td>1930/03/04</td>\n",
       "      <td>Roma</td>\n",
       "      <td>Cheval</td>\n",
       "      <td>Agro alimentare</td>\n",
       "      <td>...</td>\n",
       "      <td>NaN</td>\n",
       "      <td>Viene indicato il posizionamento dell'azienda ...</td>\n",
       "      <td>{\"type\":\"FeatureCollection\",\"features\":[{\"type...</td>\n",
       "      <td>R. Vitolo, M. Stanzione (eds.), Capitani d'ind...</td>\n",
       "      <td>http://dati.acs.beniculturali.it/mm/local/</td>\n",
       "      <td>http://dati.acs.beniculturali.it/media/bm/wtmk...</td>\n",
       "      <td>NaN</td>\n",
       "      <td>NaN</td>\n",
       "      <td>Si</td>\n",
       "      <td>Supermercato, Pub, Altre aziende, Istituto Alb...</td>\n",
       "    </tr>\n",
       "  </tbody>\n",
       "</table>\n",
       "<p>5 rows × 23 columns</p>\n",
       "</div>"
      ],
      "text/plain": [
       "              Città          Località                             Via  \\\n",
       "0  Nocera Inferiore               NaN                             NaN   \n",
       "1  Nocera Inferiore               NaN                             NaN   \n",
       "2  Nocera Inferiore        Piedimonte                             NaN   \n",
       "3  Nocera Inferiore  Mercato, Arenula          via G. B. Castaldo, 51   \n",
       "4  Nocera Inferiore           Liporta  via E. Astuti, 52 - Via Napoli   \n",
       "\n",
       "   N. Registro generale                             Nome azienda  \\\n",
       "0                  4532  COMPAGNIA VESUVIANA PRODOTTI CONSERVATI   \n",
       "1                  6158  COMPAGNIA VESUVIANA PRODOTTI CONSERVATI   \n",
       "2                  6710                DITTA ANDREANI SPERA & C.   \n",
       "3                 31970    SOC. AN. NOCERINA CONSERVE ALIMENTARI   \n",
       "4                 38783           DITTA SALVATORE FORINO & FIGLI   \n",
       "\n",
       "  Data deposito Data registrazione marchio Luogo di Deposito  Nome marchio  \\\n",
       "0    1899/11/09                 1900/03/29            Milano   La Paysanne   \n",
       "1    1904/01/31                 1904/05/17            Milano   La Paysanne   \n",
       "2    1905/02/11                 1905/04/29            Napoli  Non inserito   \n",
       "3    1925/10/01                 1926/04/14              Roma       Pantera   \n",
       "4    1929/07/05                 1930/03/04              Roma        Cheval   \n",
       "\n",
       "  Settore produzione  ... Sito azienda  \\\n",
       "0    Agro alimentare  ...          NaN   \n",
       "1    Agro alimentare  ...          NaN   \n",
       "2    Agro alimentare  ...          NaN   \n",
       "3    Agro alimentare  ...          NaN   \n",
       "4    Agro alimentare  ...          NaN   \n",
       "\n",
       "                                                Note  \\\n",
       "0  Non disponiamo di informazioni riguardanti que...   \n",
       "1  Non disponiamo di informazioni riguardanti que...   \n",
       "2                                                NaN   \n",
       "3                                                NaN   \n",
       "4  Viene indicato il posizionamento dell'azienda ...   \n",
       "\n",
       "                                   geolocalizzazione  \\\n",
       "0                                                NaN   \n",
       "1                                                NaN   \n",
       "2               40.75240767002924,14.647127084417662   \n",
       "3  {\"type\":\"FeatureCollection\",\"features\":[{\"type...   \n",
       "4  {\"type\":\"FeatureCollection\",\"features\":[{\"type...   \n",
       "\n",
       "                                        Bibliografia  \\\n",
       "0                                                NaN   \n",
       "1                                                NaN   \n",
       "2                                                NaN   \n",
       "3  R. Vitolo, M. Stanzione (eds.), Capitani d'ind...   \n",
       "4  R. Vitolo, M. Stanzione (eds.), Capitani d'ind...   \n",
       "\n",
       "                                   Sitografia  \\\n",
       "0  http://dati.acs.beniculturali.it/mm/local/   \n",
       "1  http://dati.acs.beniculturali.it/mm/local/   \n",
       "2  http://dati.acs.beniculturali.it/mm/local/   \n",
       "3  http://dati.acs.beniculturali.it/mm/local/   \n",
       "4  http://dati.acs.beniculturali.it/mm/local/   \n",
       "\n",
       "                                        URL immagine  \\\n",
       "0  http://dati.acs.beniculturali.it/media/bm/thmb...   \n",
       "1  http://dati.acs.beniculturali.it/media/bm/wtmk...   \n",
       "2  http://dati.acs.beniculturali.it/media/bm/thmb...   \n",
       "3  http://dati.acs.beniculturali.it/media/bm/wtmk...   \n",
       "4  http://dati.acs.beniculturali.it/media/bm/wtmk...   \n",
       "\n",
       "                                      URL immagine 2 Tipologia edificio  \\\n",
       "0  http://dati.acs.beniculturali.it/media/bm/wtmk...                NaN   \n",
       "1  http://dati.acs.beniculturali.it/media/bm/wtmk...                NaN   \n",
       "2  http://dati.acs.beniculturali.it/media/bm/wtmk...                NaN   \n",
       "3                                                NaN                NaN   \n",
       "4                                                NaN                NaN   \n",
       "\n",
       "  Rifunzionalizzato Si/No                       Tipo di rifunzionalizzazione  \n",
       "0        Non verificabile                                                NaN  \n",
       "1        Non verificabile                                                NaN  \n",
       "2        Non verificabile                                                NaN  \n",
       "3                      Si                                       Supermercato  \n",
       "4                      Si  Supermercato, Pub, Altre aziende, Istituto Alb...  \n",
       "\n",
       "[5 rows x 23 columns]"
      ]
     },
     "execution_count": 4,
     "metadata": {},
     "output_type": "execute_result"
    }
   ],
   "source": [
    "itineraries_nocera_df.head(5)"
   ]
  },
  {
   "cell_type": "code",
   "execution_count": 5,
   "id": "8c6301d9",
   "metadata": {
    "cell_id": "00004-5b3d5632-37fa-4653-9ad6-432a04e0715d",
    "deepnote_cell_type": "code",
    "deepnote_output_heights": [
     174.6875
    ],
    "deepnote_to_be_reexecuted": false,
    "execution_millis": 3,
    "execution_start": 1641769387582,
    "source_hash": "284ae20e",
    "tags": []
   },
   "outputs": [
    {
     "name": "stdout",
     "output_type": "stream",
     "text": [
      "Number of columns 23\n",
      "Index(['Città', 'Località', 'Via', 'N. Registro generale', 'Nome azienda',\n",
      "       'Data deposito', 'Data registrazione marchio', 'Luogo di Deposito',\n",
      "       'Nome marchio', 'Settore produzione', 'Importazione Si/No',\n",
      "       'Itinerario (periodo)', 'Descrizione del marchio', 'Sito azienda',\n",
      "       'Note', 'geolocalizzazione', 'Bibliografia', 'Sitografia',\n",
      "       'URL immagine', 'URL immagine 2', 'Tipologia edificio',\n",
      "       'Rifunzionalizzato Si/No', 'Tipo di rifunzionalizzazione'],\n",
      "      dtype='object'))\n"
     ]
    }
   ],
   "source": [
    "print(f\"Number of columns {len(itineraries_nocera_df.columns)}\\n{itineraries_nocera_df.columns})\")"
   ]
  },
  {
   "cell_type": "markdown",
   "id": "af2a4079",
   "metadata": {
    "cell_id": "00004-ccff2d5f-70d0-47f9-8cb5-304c6c292ffe",
    "deepnote_cell_type": "markdown",
    "tags": []
   },
   "source": [
    "## Correction to do:\n",
    "\n",
    "1. Municipality - Città - align it with official municipality names (e.g., https://www.istat.it/storage/codici-unita-amministrative/Elenco-comuni-italiani.xls)\n",
    "2. Location - Località - remove extra spaces,  remove abbreviations, deal with empty values as NULL\n",
    "3. Address - Via - split it on multiple columns reporting (zip code, street, municipality, country, etc.) \n",
    "4. Register number - N. Registro generale\n",
    "5. Company name - Nome azienda\n",
    "6. filing date - Data deposito - check date format consistency\n",
    "7. trademark registration date - Data registrazione marchio - check date format consistency\n",
    "8. filing location - Luogo di Deposito - align it with official municipality names\n",
    "9. trademark name - Nome marchio - deal with empty, NON INSERITO values\n",
    "10. production field - Settore produzione - check consistency\n",
    "11. import - Importazione Si/No - check value consistency\n",
    "12. Period itinerary - Itinerario (periodo) - check value consistency\n",
    "13. trademark description - Descrizione del marchio - deal with empty values or MARCHIO NON PRESENTE / DISPONIBILE as NULL\n",
    "14. company website - Sito azienda - deal with empty values\n",
    "15. note - Note - deal with empty values\n",
    "16. Localization - Geolocalizzazione - consider the possibility to split it in longitude and latitude + replace NON DISPONIBILE/empty values with NULL + check suspicious values\n",
    "17. Bibliography - Bibliografia -  replace NON DISPONIBILE/empty values with NULL \n",
    "18. Site - Sitografia -  replace NON DISPONIBILE/empty values with NULL \n",
    "19. Image - URL Immagine-  deal with multiple values +   replace NON DISPONIBILE/empty values with NULL \n",
    "20. Image - URL Immagine 2-  deal with multiple values +   replace NON DISPONIBILE/empty values with NULL \n",
    "21. Building type - Tipologia edificio - check value consistency + empty values\n",
    "22. Novel usage - Rifunzionalizzato Si/No -  check value consistency + replace empty values with NULL\n",
    "23. Usage type - Tipo di rifunzionalizzazione -  replace NESSUNO/empty values with NULL"
   ]
  },
  {
   "cell_type": "markdown",
   "id": "d46209fe",
   "metadata": {
    "cell_id": "00009-d898578f-e4fe-4d63-9bc7-002f7388403c",
    "deepnote_cell_type": "markdown",
    "tags": []
   },
   "source": [
    "### Fill Na with NULL"
   ]
  },
  {
   "cell_type": "code",
   "execution_count": 6,
   "id": "8c3ec25a",
   "metadata": {
    "cell_id": "00009-1574e961-f742-4489-a613-16c6e1ca64c7",
    "deepnote_cell_type": "code",
    "deepnote_to_be_reexecuted": false,
    "execution_millis": 0,
    "execution_start": 1641769387583,
    "source_hash": "9e3ccf5e",
    "tags": []
   },
   "outputs": [],
   "source": [
    "itineraries_nocera_df = itineraries_nocera_df.fillna(NULL_VALUE)"
   ]
  },
  {
   "cell_type": "markdown",
   "id": "7e4c705e",
   "metadata": {
    "cell_id": "00009-1fc83789-bff4-41cf-aa9e-e757d914cb8a",
    "deepnote_cell_type": "markdown"
   },
   "source": [
    "### 1. Municipality - Città - align it with official municipality names\n"
   ]
  },
  {
   "cell_type": "code",
   "execution_count": 7,
   "id": "ed15913b",
   "metadata": {
    "cell_id": "00012-1096cd50-9af5-46e9-8b69-4e8d8b9248a1",
    "deepnote_cell_type": "code",
    "deepnote_output_heights": [
     40.375
    ],
    "deepnote_to_be_reexecuted": false,
    "execution_millis": 466,
    "execution_start": 1641769387583,
    "source_hash": "801d8ad2"
   },
   "outputs": [
    {
     "data": {
      "text/plain": [
       "Nocera Inferiore    69\n",
       "Name: Città, dtype: int64"
      ]
     },
     "execution_count": 7,
     "metadata": {},
     "output_type": "execute_result"
    }
   ],
   "source": [
    "itineraries_nocera_df['Città'] = itineraries_nocera_df['Città'].apply(lambda x: municipality_alignment(comune=x,\\\n",
    "                                                                                comuni_istat_ita_list=comuni_istat_ita_list,\\\n",
    "                                                                                comuni_istat_altra_lingua_list=comuni_istat_altra_lingua_list,\\\n",
    "                                                                                comuni_istat_ita_e_straniero_list=comuni_istat_ita_e_straniero_list,\\\n",
    "                                                                                null_value=NULL_VALUE, \\\n",
    "                                                                                max_levenshtein_distance=2))\n",
    "\n",
    "itineraries_nocera_df['Città'].value_counts().sort_index()"
   ]
  },
  {
   "cell_type": "markdown",
   "id": "84f3f344",
   "metadata": {
    "cell_id": "00011-0e4e92f7-90d1-4b8d-819f-97b3ac656aca",
    "deepnote_cell_type": "markdown",
    "tags": []
   },
   "source": [
    "### 2. Location - Località - remove extra spaces,  remove abbreviations, deal with empty values as NULL"
   ]
  },
  {
   "cell_type": "code",
   "execution_count": 8,
   "id": "e6d06482",
   "metadata": {
    "cell_id": "00010-7aee6ad7-e970-448f-97bb-a696d4f392d4",
    "deepnote_cell_type": "code",
    "deepnote_output_heights": [
     289.8125
    ],
    "deepnote_to_be_reexecuted": false,
    "execution_millis": 1,
    "execution_start": 1641769388105,
    "source_hash": "53106a90",
    "tags": []
   },
   "outputs": [
    {
     "data": {
      "text/plain": [
       "Borgo                                               3\n",
       "Casolla                                             5\n",
       "Cicalesi                                            1\n",
       "Corso Vittorio Emanuele / Sant'Angelo In Grotta     2\n",
       "Corso Vittorio Emanuele / Via Atzori                3\n",
       "Ferrovia                                            1\n",
       "Liporta                                             9\n",
       "Mercato, Arenula                                    3\n",
       "Merichi                                            12\n",
       "NULL                                               18\n",
       "Piedimonte                                          1\n",
       "Rione Calenda                                       1\n",
       "Sperandei                                           7\n",
       "Via Napoli                                          3\n",
       "Name: Località, dtype: int64"
      ]
     },
     "execution_count": 8,
     "metadata": {},
     "output_type": "execute_result"
    }
   ],
   "source": [
    "itineraries_nocera_df['Località'] = itineraries_nocera_df['Località'].str.replace(\"/\", \" / \", regex=False)\n",
    "itineraries_nocera_df['Località'] = itineraries_nocera_df['Località'].apply(lambda x: remove_extra_spaces(x))\n",
    "itineraries_nocera_df['Località'] = itineraries_nocera_df['Località'].str.title()\n",
    "itineraries_nocera_df['Località'] = itineraries_nocera_df['Località'].str.replace(NULL_VALUE.title(), NULL_VALUE, regex=False)\n",
    "itineraries_nocera_df['Località'].value_counts().sort_index()"
   ]
  },
  {
   "cell_type": "markdown",
   "id": "78a373b3",
   "metadata": {
    "cell_id": "00012-456c1431-abbd-4493-957f-e6314aa1e03d",
    "deepnote_cell_type": "markdown",
    "tags": []
   },
   "source": [
    "### 3. Address - Via - split it on multiple columns reporting (zip code, street, municipality, country, etc.) \n"
   ]
  },
  {
   "cell_type": "code",
   "execution_count": 9,
   "id": "a70a9490",
   "metadata": {
    "cell_id": "00020-75e16621-bc93-4f30-8e9a-91a97cfe827b",
    "deepnote_cell_type": "code",
    "deepnote_output_heights": [
     193.875
    ],
    "deepnote_to_be_reexecuted": false,
    "execution_millis": 2,
    "execution_start": 1641769388149,
    "source_hash": "14be51bb",
    "tags": []
   },
   "outputs": [
    {
     "data": {
      "text/plain": [
       "NULL                              49\n",
       "Via Atzori, 16                     1\n",
       "Via Atzori, 174                    2\n",
       "Via Cicalesi                       1\n",
       "Via Dentice D'Accadia              1\n",
       "Via E. Astuti, 52 - Via Napoli     9\n",
       "Via Federici, 51                   1\n",
       "Via G. B. Castaldo, 51             3\n",
       "Via Michele Pironti, 5             2\n",
       "Name: Via, dtype: int64"
      ]
     },
     "execution_count": 9,
     "metadata": {},
     "output_type": "execute_result"
    }
   ],
   "source": [
    "itineraries_nocera_df['Via'] = itineraries_nocera_df['Via'].str.replace(\".\", \". \", regex=False)\n",
    "itineraries_nocera_df['Via'] = itineraries_nocera_df['Via'].apply(lambda x: remove_extra_spaces(x))\n",
    "itineraries_nocera_df['Via'] = itineraries_nocera_df['Via'].str.title()\n",
    "itineraries_nocera_df['Via'] = itineraries_nocera_df['Via'].str.replace(NULL_VALUE.title(), NULL_VALUE ,regex=False)\n",
    "itineraries_nocera_df['Via'].value_counts().sort_index()"
   ]
  },
  {
   "cell_type": "code",
   "execution_count": 10,
   "id": "a7d679f6",
   "metadata": {
    "cell_id": "00012-2cefd2e6-ae28-4c82-a4ba-3ffb7577d533",
    "deepnote_cell_type": "code",
    "deepnote_output_heights": [
     293
    ],
    "deepnote_to_be_reexecuted": false,
    "execution_millis": 232,
    "execution_start": 1641769388150,
    "source_hash": "fecbf66a",
    "tags": []
   },
   "outputs": [
    {
     "data": {
      "text/html": [
       "<div>\n",
       "<style scoped>\n",
       "    .dataframe tbody tr th:only-of-type {\n",
       "        vertical-align: middle;\n",
       "    }\n",
       "\n",
       "    .dataframe tbody tr th {\n",
       "        vertical-align: top;\n",
       "    }\n",
       "\n",
       "    .dataframe thead th {\n",
       "        text-align: right;\n",
       "    }\n",
       "</style>\n",
       "<table border=\"1\" class=\"dataframe\">\n",
       "  <thead>\n",
       "    <tr style=\"text-align: right;\">\n",
       "      <th></th>\n",
       "      <th>Via</th>\n",
       "      <th>Cap</th>\n",
       "      <th>Provincia</th>\n",
       "      <th>Regione</th>\n",
       "    </tr>\n",
       "  </thead>\n",
       "  <tbody>\n",
       "    <tr>\n",
       "      <th>0</th>\n",
       "      <td>NULL</td>\n",
       "      <td>84014</td>\n",
       "      <td>SA</td>\n",
       "      <td>Campania</td>\n",
       "    </tr>\n",
       "    <tr>\n",
       "      <th>3</th>\n",
       "      <td>Via G. B. Castaldo, 51</td>\n",
       "      <td>84014</td>\n",
       "      <td>SA</td>\n",
       "      <td>Campania</td>\n",
       "    </tr>\n",
       "    <tr>\n",
       "      <th>4</th>\n",
       "      <td>Via E. Astuti, 52 - Via Napoli</td>\n",
       "      <td>84014</td>\n",
       "      <td>SA</td>\n",
       "      <td>Campania</td>\n",
       "    </tr>\n",
       "    <tr>\n",
       "      <th>7</th>\n",
       "      <td>Via Atzori, 174</td>\n",
       "      <td>84014</td>\n",
       "      <td>SA</td>\n",
       "      <td>Campania</td>\n",
       "    </tr>\n",
       "    <tr>\n",
       "      <th>44</th>\n",
       "      <td>Via Dentice D'Accadia</td>\n",
       "      <td>84014</td>\n",
       "      <td>SA</td>\n",
       "      <td>Campania</td>\n",
       "    </tr>\n",
       "    <tr>\n",
       "      <th>45</th>\n",
       "      <td>Via Atzori, 16</td>\n",
       "      <td>84014</td>\n",
       "      <td>SA</td>\n",
       "      <td>Campania</td>\n",
       "    </tr>\n",
       "    <tr>\n",
       "      <th>52</th>\n",
       "      <td>Via Federici, 51</td>\n",
       "      <td>84014</td>\n",
       "      <td>SA</td>\n",
       "      <td>Campania</td>\n",
       "    </tr>\n",
       "    <tr>\n",
       "      <th>57</th>\n",
       "      <td>Via Michele Pironti, 5</td>\n",
       "      <td>84014</td>\n",
       "      <td>SA</td>\n",
       "      <td>Campania</td>\n",
       "    </tr>\n",
       "    <tr>\n",
       "      <th>67</th>\n",
       "      <td>Via Cicalesi</td>\n",
       "      <td>84014</td>\n",
       "      <td>SA</td>\n",
       "      <td>Campania</td>\n",
       "    </tr>\n",
       "  </tbody>\n",
       "</table>\n",
       "</div>"
      ],
      "text/plain": [
       "                               Via    Cap Provincia   Regione\n",
       "0                             NULL  84014        SA  Campania\n",
       "3           Via G. B. Castaldo, 51  84014        SA  Campania\n",
       "4   Via E. Astuti, 52 - Via Napoli  84014        SA  Campania\n",
       "7                  Via Atzori, 174  84014        SA  Campania\n",
       "44           Via Dentice D'Accadia  84014        SA  Campania\n",
       "45                  Via Atzori, 16  84014        SA  Campania\n",
       "52                Via Federici, 51  84014        SA  Campania\n",
       "57          Via Michele Pironti, 5  84014        SA  Campania\n",
       "67                    Via Cicalesi  84014        SA  Campania"
      ]
     },
     "execution_count": 10,
     "metadata": {},
     "output_type": "execute_result"
    }
   ],
   "source": [
    "temp_separator = \";;\"\n",
    "itineraries_nocera_df['Temp'] = itineraries_nocera_df['Città'].apply(lambda x: temp_separator.join(getAddressInfo(comune=map_comune_to_elenco_comuni_cap(x), elenco_comuni_cap=elenco_comuni_cap)))\n",
    "itineraries_nocera_df[['Cap','Provincia','Regione']] = itineraries_nocera_df.Temp.str.split(temp_separator, expand=True)\n",
    "itineraries_nocera_df = itineraries_nocera_df.drop(['Temp'], axis=1)\n",
    "\n",
    "itineraries_nocera_df.drop_duplicates(subset = ['Via', 'Cap','Provincia','Regione'])[['Via', 'Cap','Provincia','Regione']]\n"
   ]
  },
  {
   "cell_type": "markdown",
   "id": "031043e7",
   "metadata": {
    "cell_id": "00015-65cca779-c7aa-463d-888d-3223c5ea983a",
    "deepnote_cell_type": "markdown",
    "tags": []
   },
   "source": [
    "### 4. Register number - N. Registro generale\n"
   ]
  },
  {
   "cell_type": "code",
   "execution_count": 11,
   "id": "3ebed18f",
   "metadata": {
    "cell_id": "00015-99bde7b9-629e-488a-b969-3456c4d1793b",
    "deepnote_cell_type": "code",
    "deepnote_output_heights": [
     232.25
    ],
    "deepnote_to_be_reexecuted": false,
    "execution_millis": 2,
    "execution_start": 1641769388380,
    "source_hash": "30f4b499",
    "tags": []
   },
   "outputs": [
    {
     "data": {
      "text/plain": [
       "4532      1\n",
       "6158      1\n",
       "6710      1\n",
       "31970     1\n",
       "38783     1\n",
       "         ..\n",
       "160478    1\n",
       "161872    1\n",
       "168243    1\n",
       "168328    1\n",
       "169962    1\n",
       "Name: N. Registro generale, Length: 68, dtype: int64"
      ]
     },
     "execution_count": 11,
     "metadata": {},
     "output_type": "execute_result"
    }
   ],
   "source": [
    "itineraries_nocera_df['N. Registro generale'].value_counts().sort_index()"
   ]
  },
  {
   "cell_type": "markdown",
   "id": "d309e0d1",
   "metadata": {
    "cell_id": "00020-eb2cf3ea-0023-4633-918d-234b49fc77c8",
    "deepnote_cell_type": "markdown",
    "tags": []
   },
   "source": [
    "### 5. Company name - Nome azienda"
   ]
  },
  {
   "cell_type": "code",
   "execution_count": 12,
   "id": "9fc4fe1a",
   "metadata": {
    "cell_id": "00020-e0e10362-eb37-444c-996d-e5ee93e6eea5",
    "deepnote_cell_type": "code",
    "deepnote_output_heights": [
     611
    ],
    "deepnote_to_be_reexecuted": false,
    "execution_millis": 6,
    "execution_start": 1641769388381,
    "source_hash": "16550477",
    "tags": []
   },
   "outputs": [
    {
     "data": {
      "text/plain": [
       "ALFONSO ESPOSITO                                              1\n",
       "ANDREA CASO                                                   1\n",
       "ANDREANI SPERA E C.                                           1\n",
       "ANTONIO CITARELLA                                             1\n",
       "ANTONIO GALANO - INDUSTRIA CONSERVE ALIMENTARI                2\n",
       "BENEDETTO CELENTANO                                           1\n",
       "CARMINE DELLO IOIO                                            2\n",
       "COMPAGNIA VESUVIANA PRODOTTI CONSERVATI                       2\n",
       "D'ALESSIO E GAETANO                                           2\n",
       "ENRICO ESPOSITO FU DOMENICO                                   1\n",
       "ENRICO PECORARO                                               1\n",
       "ESPOSITO E BENEVENTO                                          2\n",
       "FORINO S.P.A.                                                 2\n",
       "FRANCESCO SPINELLI                                            3\n",
       "FRANCESCO SPINELLI E GAETANO SCHIAVO                          4\n",
       "FRATELLI SCHIAVO DI GENNARO S.R.L.                            3\n",
       "GABRIELE GAMBARDELLA E FIGLI                                  8\n",
       "GAETANO BUSCETTO                                              1\n",
       "GIUSEPPE CELENTANO SOCIETA' DI FATTO                          1\n",
       "GUSTAVO MARANCA                                               1\n",
       "INDUSTRIE AROMATICHE DOTT. GUSTAVO MARANCA                    2\n",
       "ISAIA GABOLA                                                  1\n",
       "LA CONSERVIERA MERIDIONALE S.P.A.                             1\n",
       "LA FLORIDA (CONSERVE ALIMENTARI) SOC.A R.L.                   1\n",
       "LUDOVICO FERRARA                                              1\n",
       "MATTEO E LUIGI D'ALESSIO                                      4\n",
       "MEMOLI SOC. IN NOME COLLETTIVO                                1\n",
       "RAFFAELE D'AGOSTO                                             1\n",
       "RICCARDO FORINO                                               1\n",
       "S.I.C.A. SOC.R.L. SOCIETA' INDUSTRIA CONSERVE ALIMENTARI      3\n",
       "S.P.A. GABOLA - PASTE ALIMENTARI DI LUSSO                     1\n",
       "SALVATORE FORINO E FIGLI                                      7\n",
       "SARNO E APICELLA                                              1\n",
       "SOCIETA' ANONIMA NOCERINA CONSERVE ALIMENTARI (S.A.N.C.A.)    3\n",
       "SOCIETA' GABRIELE GAMBARDELLA E FIGLI                         1\n",
       "Name: Nome azienda, dtype: int64"
      ]
     },
     "execution_count": 12,
     "metadata": {},
     "output_type": "execute_result"
    }
   ],
   "source": [
    "itineraries_nocera_df['Nome azienda'] = itineraries_nocera_df['Nome azienda'].str.replace(\"&\", \"E\", regex=False)\n",
    "itineraries_nocera_df['Nome azienda'] = itineraries_nocera_df['Nome azienda'].str.replace(\"DITTA \", \"\", regex=False)\n",
    "itineraries_nocera_df['Nome azienda'] = itineraries_nocera_df['Nome azienda'].str.replace(\"ANTONIO GALANO - IND. CONSERVE ALIMENTARI\", \"ANTONIO GALANO - INDUSTRIA CONSERVE ALIMENTARI\", regex=False)\n",
    "itineraries_nocera_df['Nome azienda'] = itineraries_nocera_df['Nome azienda'].str.replace(\"S.I.C.A.SOC.A R.L.SOCIETA' INDUSTRIA CONSERVE ALIMENTARI\", \"S.I.C.A. SOC.R.L. SOCIETA' INDUSTRIA CONSERVE ALIMENTARI\", regex=False)\n",
    "itineraries_nocera_df['Nome azienda'] = itineraries_nocera_df['Nome azienda'].str.replace(\"SOC. AN. NOCERINA CONSERVE ALIMENTARI\", \"SOCIETA' ANONIMA NOCERINA CONSERVE ALIMENTARI (S.A.N.C.A.)\", regex=False)\n",
    "itineraries_nocera_df['Nome azienda'] = itineraries_nocera_df['Nome azienda'].str.replace(\"S.R.L. F.LLI SCHIAVO DI GENNAROI\", \"FRATELLI SCHIAVO DI GENNARO S.R.L.\", regex=False)\n",
    "itineraries_nocera_df['Nome azienda'] = itineraries_nocera_df['Nome azienda'].str.replace(\"LUIGI E MATTEO D'ALESSIO\", \"MATTEO E LUIGI D'ALESSIO\", regex=False)\n",
    "itineraries_nocera_df['Nome azienda'] = itineraries_nocera_df['Nome azienda'].str.replace(\"SPINELLI FRANCESCO\", \"FRANCESCO SPINELLI\", regex=False)\n",
    "itineraries_nocera_df['Nome azienda'] = itineraries_nocera_df['Nome azienda'].str.replace(\"S.R.L. F.LLI SCHIAVO DI GENNARO\", \"FRATELLI SCHIAVO DI GENNARO S.R.L.\", regex=False)\n",
    "\n",
    "\n",
    "itineraries_nocera_df['Nome azienda'].value_counts().sort_index()\n"
   ]
  },
  {
   "cell_type": "markdown",
   "id": "f22360aa",
   "metadata": {
    "cell_id": "00022-a91b13ec-929b-49b5-81d9-0d5c796367a7",
    "deepnote_cell_type": "markdown",
    "tags": []
   },
   "source": [
    "### 6. filing date - Data deposito - check date format consistency"
   ]
  },
  {
   "cell_type": "code",
   "execution_count": 13,
   "id": "3b160fe4",
   "metadata": {
    "cell_id": "00022-2379a60c-6b0a-4168-aeb6-b2a5479cb8b8",
    "deepnote_cell_type": "code",
    "deepnote_output_heights": [
     611
    ],
    "deepnote_to_be_reexecuted": false,
    "execution_millis": 235,
    "execution_start": 1641769388391,
    "source_hash": "b7a17c4b",
    "tags": []
   },
   "outputs": [
    {
     "data": {
      "text/plain": [
       "1899/11/09    1\n",
       "1904/01/31    1\n",
       "1905/02/11    1\n",
       "1925/10/01    1\n",
       "1929/07/05    1\n",
       "1929/08/14    1\n",
       "1930/11/15    1\n",
       "1931/04/13    1\n",
       "1931/10/29    1\n",
       "1932/04/08    1\n",
       "1932/07/11    1\n",
       "1933/10/02    1\n",
       "1933/11/09    1\n",
       "1934/01/30    1\n",
       "1934/03/15    3\n",
       "1935/06/15    2\n",
       "1936/05/09    1\n",
       "1936/07/16    1\n",
       "1936/09/10    1\n",
       "1937/07/06    1\n",
       "1937/08/11    1\n",
       "1937/08/20    1\n",
       "1938/10/26    1\n",
       "1940/01/05    1\n",
       "1942/01/17    1\n",
       "1942/11/05    2\n",
       "1943/08/28    2\n",
       "1945/08/18    2\n",
       "1946/04/27    2\n",
       "1946/09/26    2\n",
       "1946/09/27    1\n",
       "1947/01/04    1\n",
       "1947/02/01    1\n",
       "1947/02/15    1\n",
       "1947/05/05    1\n",
       "1947/09/22    1\n",
       "1950/02/10    1\n",
       "1952/09/16    1\n",
       "1953/05/30    1\n",
       "1953/10/13    1\n",
       "1955/02/10    1\n",
       "1955/06/24    1\n",
       "1955/07/30    1\n",
       "1956/03/03    1\n",
       "1956/05/03    1\n",
       "1956/07/07    1\n",
       "1957/07/31    1\n",
       "1957/12/21    1\n",
       "1958/05/09    1\n",
       "1959/02/28    2\n",
       "1959/04/10    1\n",
       "1959/06/01    1\n",
       "1959/07/16    1\n",
       "1959/11/26    1\n",
       "1960/04/14    1\n",
       "1960/05/31    1\n",
       "1960/07/09    1\n",
       "1960/07/27    1\n",
       "1960/10/05    1\n",
       "1961/06/16    1\n",
       "Name: Data deposito, dtype: int64"
      ]
     },
     "execution_count": 13,
     "metadata": {},
     "output_type": "execute_result"
    }
   ],
   "source": [
    "itineraries_nocera_df['Data deposito'] = itineraries_nocera_df['Data deposito'].apply(lambda x: check_date_format(x, DATE_FORMAT))\n",
    "itineraries_nocera_df['Data deposito'].value_counts().sort_index()"
   ]
  },
  {
   "cell_type": "markdown",
   "id": "416cf06b",
   "metadata": {
    "cell_id": "00025-76ad2030-9109-4c16-88e2-a0a6f3d7194c",
    "deepnote_cell_type": "markdown",
    "tags": []
   },
   "source": [
    "### 7. trademark registration date - Data registrazione marchio - check date format consistency\n"
   ]
  },
  {
   "cell_type": "code",
   "execution_count": 14,
   "id": "919fc709",
   "metadata": {
    "cell_id": "00025-c89e7bae-2d83-4284-8d2a-6f30452335de",
    "deepnote_cell_type": "code",
    "deepnote_output_heights": [
     232.25
    ],
    "deepnote_to_be_reexecuted": false,
    "execution_millis": 0,
    "execution_start": 1641769388457,
    "source_hash": "c6776dba",
    "tags": []
   },
   "outputs": [
    {
     "data": {
      "text/plain": [
       "1900/03/29    1\n",
       "1904/05/17    1\n",
       "1905/04/29    1\n",
       "1926/04/14    1\n",
       "1930/03/04    1\n",
       "             ..\n",
       "1962/10/27    1\n",
       "1963/07/13    1\n",
       "1965/02/18    1\n",
       "1965/02/27    1\n",
       "1965/05/31    1\n",
       "Name: Data registrazione marchio, Length: 64, dtype: int64"
      ]
     },
     "execution_count": 14,
     "metadata": {},
     "output_type": "execute_result"
    }
   ],
   "source": [
    "itineraries_nocera_df['Data registrazione marchio'] = itineraries_nocera_df['Data registrazione marchio'].apply(lambda x: check_date_format(x, DATE_FORMAT))\n",
    "itineraries_nocera_df['Data registrazione marchio'].value_counts().sort_index()"
   ]
  },
  {
   "cell_type": "markdown",
   "id": "643b5bfa",
   "metadata": {
    "cell_id": "00027-06184c02-7d75-42f2-b270-343dfdc81c93",
    "deepnote_cell_type": "markdown",
    "tags": []
   },
   "source": [
    "### 8. filing location - Luogo di Deposito - align it with official municipality names\n"
   ]
  },
  {
   "cell_type": "code",
   "execution_count": 15,
   "id": "a99aec56",
   "metadata": {
    "cell_id": "00011-0b18c3f4-bc81-41c5-9baf-a15ba632933b",
    "deepnote_cell_type": "code",
    "deepnote_output_heights": [
     117.125
    ],
    "deepnote_to_be_reexecuted": false,
    "execution_millis": 438,
    "execution_start": 1641769388500,
    "source_hash": "1a1730dc",
    "tags": []
   },
   "outputs": [
    {
     "data": {
      "text/plain": [
       "Milano      4\n",
       "NULL        1\n",
       "Napoli     23\n",
       "Roma       34\n",
       "Salerno     7\n",
       "Name: Luogo di Deposito, dtype: int64"
      ]
     },
     "execution_count": 15,
     "metadata": {},
     "output_type": "execute_result"
    }
   ],
   "source": [
    "itineraries_nocera_df['Luogo di Deposito'] = itineraries_nocera_df['Luogo di Deposito'].apply(lambda x: municipality_alignment(comune=x,\\\n",
    "                                                                                comuni_istat_ita_list=comuni_istat_ita_list,\\\n",
    "                                                                                comuni_istat_altra_lingua_list=comuni_istat_altra_lingua_list,\\\n",
    "                                                                                comuni_istat_ita_e_straniero_list=comuni_istat_ita_e_straniero_list,\\\n",
    "                                                                                null_value=NULL_VALUE, \\\n",
    "                                                                                max_levenshtein_distance=2))\n",
    "\n",
    "itineraries_nocera_df['Luogo di Deposito'].value_counts().sort_index()"
   ]
  },
  {
   "cell_type": "markdown",
   "id": "2e115298",
   "metadata": {
    "cell_id": "00029-daf5d824-1a1b-4a26-8a6f-2ee796ca9c2c",
    "deepnote_cell_type": "markdown",
    "tags": []
   },
   "source": [
    "### 9. trademark name - Nome marchio - deal with empty, NON INSERITO values"
   ]
  },
  {
   "cell_type": "code",
   "execution_count": 16,
   "id": "0fcf3f7f",
   "metadata": {
    "cell_id": "00030-45d204b9-884b-41dc-a937-b9d7073da1f1",
    "deepnote_cell_type": "code",
    "deepnote_output_heights": [
     611
    ],
    "deepnote_to_be_reexecuted": false,
    "execution_millis": 54,
    "execution_start": 1641769388939,
    "source_hash": "4ec75b86",
    "tags": []
   },
   "outputs": [
    {
     "data": {
      "text/plain": [
       "Africanella                          3\n",
       "Aquila                               1\n",
       "Augusto                              1\n",
       "Cheval                               3\n",
       "Diga                                 2\n",
       "Dottor GusMar                        1\n",
       "Eva                                  2\n",
       "Forino                               1\n",
       "Guagliò                              1\n",
       "GusMar                               1\n",
       "Il bersagliere                       1\n",
       "La Cristofaro Colombo Brand          1\n",
       "La Florida                           1\n",
       "La Gustosa                           1\n",
       "La Migliore                          1\n",
       "La Paysanne                          2\n",
       "La Pompeiana                         1\n",
       "La Romanella                         8\n",
       "La Saporita                          1\n",
       "La Sarnesina                         1\n",
       "La Trasteverina                      2\n",
       "La Tripolina                         1\n",
       "La bella nocerina                    1\n",
       "Luciana                              3\n",
       "Marca Elefante                       1\n",
       "Maschio Angioino                     1\n",
       "Moretto                              3\n",
       "NULL                                 5\n",
       "Ominira                              1\n",
       "Pantera                              3\n",
       "Pentagelo                            1\n",
       "Pine                                 1\n",
       "Pupetta Nera                         2\n",
       "Reginella                            1\n",
       "Schiavo brand                        1\n",
       "Sole d'Italia                        2\n",
       "Spinelli                             1\n",
       "Super Forino estratto di pomodoro    1\n",
       "Tigre                                2\n",
       "Trycotrophine                        1\n",
       "Woffollin Stella                     1\n",
       "Name: Nome marchio, dtype: int64"
      ]
     },
     "execution_count": 16,
     "metadata": {},
     "output_type": "execute_result"
    }
   ],
   "source": [
    "itineraries_nocera_df['Nome marchio'] = itineraries_nocera_df['Nome marchio'].str.replace(\"Non inserito\", NULL_VALUE, regex=False)\n",
    "itineraries_nocera_df['Nome marchio'].value_counts().sort_index()"
   ]
  },
  {
   "cell_type": "markdown",
   "id": "5301e3ec",
   "metadata": {
    "cell_id": "00031-d8be4fa5-e095-45a7-b331-14d65cc58e0e",
    "deepnote_cell_type": "markdown",
    "tags": []
   },
   "source": [
    "### 10. production field - Settore produzione - check consistency"
   ]
  },
  {
   "cell_type": "code",
   "execution_count": 17,
   "id": "8236207d",
   "metadata": {
    "cell_id": "00016-cf3df1ec-9a7d-4af7-893d-c05a3756c8c6",
    "deepnote_cell_type": "code",
    "deepnote_output_heights": [
     117.125
    ],
    "deepnote_to_be_reexecuted": false,
    "execution_millis": 2126967,
    "execution_start": 1641769389001,
    "source_hash": "1614d12b"
   },
   "outputs": [
    {
     "data": {
      "text/plain": [
       "Agro alimentare       59\n",
       "Chimica                4\n",
       "Dolciario              3\n",
       "Metalmeccanico         1\n",
       "Mulini e pastifici     2\n",
       "Name: Settore produzione, dtype: int64"
      ]
     },
     "execution_count": 17,
     "metadata": {},
     "output_type": "execute_result"
    }
   ],
   "source": [
    "itineraries_nocera_df['Settore produzione'].value_counts().sort_index()"
   ]
  },
  {
   "cell_type": "markdown",
   "id": "1a8e9bba",
   "metadata": {
    "cell_id": "00033-4c355d89-e97c-42ef-a5b4-a86331e7fe4b",
    "deepnote_cell_type": "markdown",
    "tags": []
   },
   "source": [
    "### 11. import - Importazione Si/No - check value consistency\n"
   ]
  },
  {
   "cell_type": "code",
   "execution_count": 18,
   "id": "31083368",
   "metadata": {
    "cell_id": "00017-94d58644-8aa0-4fd7-99a3-c12d0f025dc4",
    "deepnote_cell_type": "code",
    "deepnote_output_heights": [
     78.75
    ],
    "deepnote_to_be_reexecuted": false,
    "execution_millis": 5,
    "execution_start": 1641769389053,
    "source_hash": "c0566e17"
   },
   "outputs": [
    {
     "data": {
      "text/plain": [
       "NULL     9\n",
       "No      21\n",
       "Si      39\n",
       "Name: Importazione Si/No, dtype: int64"
      ]
     },
     "execution_count": 18,
     "metadata": {},
     "output_type": "execute_result"
    }
   ],
   "source": [
    "itineraries_nocera_df['Importazione Si/No'] = itineraries_nocera_df['Importazione Si/No'].str.capitalize()\n",
    "itineraries_nocera_df['Importazione Si/No'] = itineraries_nocera_df['Importazione Si/No'].replace(to_replace=[\"?\", NULL_VALUE.capitalize()], value=NULL_VALUE)\n",
    "itineraries_nocera_df['Importazione Si/No'].value_counts().sort_index()"
   ]
  },
  {
   "cell_type": "markdown",
   "id": "01e45efb",
   "metadata": {
    "cell_id": "00035-54018a41-df7b-4050-be44-7da23000f0f6",
    "deepnote_cell_type": "markdown",
    "tags": []
   },
   "source": [
    "### 12. Period itinerary - Itinerario (periodo) - check value consistency\n"
   ]
  },
  {
   "cell_type": "code",
   "execution_count": 19,
   "id": "311ee764",
   "metadata": {
    "cell_id": "00018-c83f745e-d85a-4d70-b202-7189f0297d8c",
    "deepnote_cell_type": "code",
    "deepnote_output_heights": [
     40.375
    ],
    "deepnote_to_be_reexecuted": false,
    "execution_millis": 0,
    "execution_start": 1641769389054,
    "source_hash": "5240d7ca"
   },
   "outputs": [
    {
     "data": {
      "text/plain": [
       "Contemporaneo    69\n",
       "Name: Itinerario (periodo), dtype: int64"
      ]
     },
     "execution_count": 19,
     "metadata": {},
     "output_type": "execute_result"
    }
   ],
   "source": [
    "itineraries_nocera_df['Itinerario (periodo)'].value_counts().sort_index()"
   ]
  },
  {
   "cell_type": "markdown",
   "id": "3b2b05b3",
   "metadata": {
    "cell_id": "00020-284cbcf6-9624-480a-9c4b-aec4a77b50e4",
    "deepnote_cell_type": "markdown"
   },
   "source": [
    "### 13. trademark description - Descrizione del marchio - deal with empty values or MARCHIO NON PRESENTE / DISPONIBILE as NULL\n"
   ]
  },
  {
   "cell_type": "code",
   "execution_count": 20,
   "id": "6ae0203c",
   "metadata": {
    "cell_id": "00021-686ce8a4-9793-43f8-bf3f-b72d7b59daf1",
    "deepnote_cell_type": "code",
    "deepnote_output_heights": [
     607
    ],
    "deepnote_to_be_reexecuted": false,
    "execution_millis": 16,
    "execution_start": 1641769389055,
    "source_hash": "364e0a5f"
   },
   "outputs": [
    {
     "data": {
      "text/plain": [
       "All'estremo sinistro del marchio è presente una donna di colore che un cesto di pomodori,invece, all'estremo destro sono presenti dei pomodori.                                                                                                                                                                                                                                                                                                                                                                                                                                                                                                                                                                                             1\n",
       "All'estremo sinistro il marchio presenta un uomo di colore in una cornice rotonda, all'estremo destro ci sono un gruppo di pomidori, il marchio è di colore blu scuro.                                                                                                                                                                                                                                                                                                                                                                                                                                                                                                                                                                      1\n",
       "Etichetta impressa in rosso e nero su fondo celeste e giallo. vi è un disegno di una donna che sorride.                                                                                                                                                                                                                                                                                                                                                                                                                                                                                                                                                                                                                                     1\n",
       "Etichetta rettangolare a fondo bleu portante a sinistra un'ancora sormontata dalle parole \"marca di fabbrica\", un gruppo di medaglie, ed un tamburello a fondo giallo, ornato di rami  di pomidoro, sul quale leggesi \"specialità estratto di pomidoro-chiusura della scatola senza stagna- lavorazione a macchina- presso il tamburello vedesi una contadina che porta un cesto di pomidori, ed a destra dell'etichetta una marina con vele e veduta del vesuvio, oltre la scritta \"andreani spera & c. nocera inferiore (napoli).                                                                                                                                                                                                         1\n",
       "Etichetta rettangolare portante a sinistra, sopra un gruppo di medaglie un fondo circolare nel quale campeggia la veduta del vesuvio;lo sfondo è sormontato una corona con la parola marca registrata e porta lungo l'orlo inferiore la scritta vesuvio brand. a destra, sopra una tamburella contornata da pomidoro con foglie, leggesi \"estratto concentrato di pomidoro-purèe concentrèe de tomates\";segna la figura di una contadina in costume napoletano ridente con un cesto di pomidoro e verso destra la veduta del golfo di napoli con il vesuvio,il mare e due barche a vela. in alto leggesi tra due virgolette \"la paysanne\" ed infondo a destra  \"compagnia vesuviana prodotti conservati milano-salerno-nocera inferiore     1\n",
       "Etichetta scritta in italiano, all'estremo sinistro presenta una contadina in una cornice dove campeggia la scritta \"la bella nocerina\". all'estremo sinistro è presente, invece, un gruppo di pomidori.                                                                                                                                                                                                                                                                                                                                                                                                                                                                                                                                    1\n",
       "Etichetta scritta in lingua inglese. al centro è presente una contadina a busto intero e ad  ambo i lati sono presenti due gruppi di pomidori                                                                                                                                                                                                                                                                                                                                                                                                                                                                                                                                                                                               1\n",
       "I marchi sono due un ragazzino che sorride e un gruppo di pomodori.                                                                                                                                                                                                                                                                                                                                                                                                                                                                                                                                                                                                                                                                         1\n",
       "Il marchio non è a colori ed ha la forma di un gelato.                                                                                                                                                                                                                                                                                                                                                                                                                                                                                                                                                                                                                                                                                      1\n",
       "Il marchio presenta a sinistra la figura di un cavallo nero e dietro di esso è presente napoli, ben distinguibile per via della presenza del vesuvio. a destra sono raffigurati un gruppo di pomidori e una scritta ''super forino''                                                                                                                                                                                                                                                                                                                                                                                                                                                                                                        1\n",
       "Il marchio presenta a sinistra la figura di una contadina gioiosa e a destra un gruppo di pomidori, il marchio è stato depositato a colori.                                                                                                                                                                                                                                                                                                                                                                                                                                                                                                                                                                                                 1\n",
       "Il marchio presenta a sinistra un gruppo di pomodori e a destra il maschio angioino, da cui il nome del brand. il marchio è stato depositato a colori con sfondo giallo e scritte rosse ''salvatore forino e figli''.                                                                                                                                                                                                                                                                                                                                                                                                                                                                                                                       1\n",
       "Il marchio presenta a sinistra una donna e, a destra, un gruppo di pomodori                                                                                                                                                                                                                                                                                                                                                                                                                                                                                                                                                                                                                                                                 1\n",
       "Il marchio presenta ai due estremi delle cornici rotonde. sulla sinistra si nota un cristoforo colombo rappresentato per intero e dietro di lui più navi ormeggiate. all'estremo destro del marchio sono presenti quattro pomodori. al centro del marchio è presente la scritta \"d'alessio e gaetano\"                                                                                                                                                                                                                                                                                                                                                                                                                                       1\n",
       "Il marchio presenta un bambino con due gelati in mano e sovrastante la scritta ''pentangelo''                                                                                                                                                                                                                                                                                                                                                                                                                                                                                                                                                                                                                                               1\n",
       "Il marchio presenta una donna incorniciata da una cornice ovale e sia al lato destro che a quello sinistro sono presenti gruppi di pomodori                                                                                                                                                                                                                                                                                                                                                                                                                                                                                                                                                                                                 1\n",
       "Il marchio presenta una pantera in bianco e nero sottostante la scritta s.a.n.c.a.                                                                                                                                                                                                                                                                                                                                                                                                                                                                                                                                                                                                                                                          1\n",
       "Il marchio è depositato a colori e presenta sullo sfondo i colori rosso e giallo la scritta '' spinelli''                                                                                                                                                                                                                                                                                                                                                                                                                                                                                                                                                                                                                                   1\n",
       "Il marchio è depositato in bianco e nero e presenta eva che viene tentata dal serpente con un gruppo di pomodori al posto della mela e ella si trova in un campo di pomodori.                                                                                                                                                                                                                                                                                                                                                                                                                                                                                                                                                               1\n",
       "Il marchio è di colore bianco e nero, presenta una donna africana che sorride.                                                                                                                                                                                                                                                                                                                                                                                                                                                                                                                                                                                                                                                              1\n",
       "Il marchio è di colori bianco e nero e presenta una donna africana che sorride qui il nome del brand.                                                                                                                                                                                                                                                                                                                                                                                                                                                                                                                                                                                                                                       1\n",
       "Il marchio è di forma ovale. presenta al centro una tigre la quale è circondata da barattoli di pomodori. tutti i colori sono al naturale.                                                                                                                                                                                                                                                                                                                                                                                                                                                                                                                                                                                                  1\n",
       "Il marchio è ovale, al suo interno è presente una contadina che ha con se in un cesto una moltitudine di pomidori. sullo sfondo, inoltre, è presente il colosseo.                                                                                                                                                                                                                                                                                                                                                                                                                                                                                                                                                                           1\n",
       "Il marchio è prevalentemente di colore rosso, con inserzioni in color oro. sono presenti tre figure. quella più in risalto è quella centrale, la quale, è un gruppo di pomodori, a sinistra sono presenti degli angeli e a destra  una contadina intenta a coltivare pomodori                                                                                                                                                                                                                                                                                                                                                                                                                                                               1\n",
       "Il marchio è stato depositato a colo, presenta una donna con un grande sorriso vestita elegante.                                                                                                                                                                                                                                                                                                                                                                                                                                                                                                                                                                                                                                            1\n",
       "Il marchio è stato depositato a colori al centro è presente la scritta ''diga, conserve alimentari'' a sinistra è presente il disegno di una vera diga e a destra un gruppo di pomodori                                                                                                                                                                                                                                                                                                                                                                                                                                                                                                                                                     1\n",
       "Il marchio è stato depositato a colori e presenta un gruppo di pomodori al colore naturale                                                                                                                                                                                                                                                                                                                                                                                                                                                                                                                                                                                                                                                  1\n",
       "Il marchio è stato depositato a colori è presente un pineto e sopra un pomodoro.                                                                                                                                                                                                                                                                                                                                                                                                                                                                                                                                                                                                                                                            1\n",
       "Il marchio è stato depositato a colori, presenta una donna africana sulla sinistra in una cornice rotonda. sulla destra un marchio di colore blu con all'interno un gruppo di pomodori di colore naturale.                                                                                                                                                                                                                                                                                                                                                                                                                                                                                                                                  1\n",
       "Il marchio è stato depositato a colori, è di sfondo blu scuro e presenta al centro una aquila che assale un globo terrestre e attorno , nello spazio, sono presenti dei pomodori il tutto sovrastante alla scritta ''super d'agosto''                                                                                                                                                                                                                                                                                                                                                                                                                                                                                                       1\n",
       "Il marchio è stato depositato a colori. è a fondo celeste e a caratteri bianchi. alla sinistra del marchio è raffigurato un elefante con diversi pomodori da cui il nome del brand                                                                                                                                                                                                                                                                                                                                                                                                                                                                                                                                                          1\n",
       "Il marchio è un disegno stilizzato di un cavallo che salta sopra al vesuvio e sotto di esse è presente la scritta ''forino''                                                                                                                                                                                                                                                                                                                                                                                                                                                                                                                                                                                                                1\n",
       "Le scritte presenti sul marchio sono il lingua inglese, l'immagine non è a colori e presenta un gruppo di pomodori centrali.                                                                                                                                                                                                                                                                                                                                                                                                                                                                                                                                                                                                                1\n",
       "Marchio a sfondo giallo con caratteri blu, presenta due disegni diversi ai suoi estremi.a destra troviamo un gruppo di pomidori sovrastanti la scritta ''labor omnia vincit'' a sinistra, invece, si nota un sole sovrastante la scritta precedente. al centro è presente la scritta ''d'alessio&gaetano''.                                                                                                                                                                                                                                                                                                                                                                                                                                 1\n",
       "Marchio con una grande scritta in rosso che recita \"pastificio isaia gabola\". in alto presenta un gallo formato da varie tipologia di pasta                                                                                                                                                                                                                                                                                                                                                                                                                                                                                                                                                                                                 1\n",
       "Marchio depositato a colori con diverse raffigurazioni, a  sinistra è presente uno schivo con in mano una cassa di pomodori e dietro di lui è possibile vedere un campo di pomodori. a destra è presente un gruppo di pomodori e la scritta ''super schiavo''                                                                                                                                                                                                                                                                                                                                                                                                                                                                               1\n",
       "Marchio depositato a colori con fondo giallo, a sinistra presenta una contadina con una grande mole di pomodori, a sinistra sono presenti un gruppo di pomodori. al centro del marchio è presente una scritta ''enrico esposito fu domenico''                                                                                                                                                                                                                                                                                                                                                                                                                                                                                               1\n",
       "Marchio depositato a colori e presenta uno sfondo nero. al centro è presente al sole e ai suoi estremi sono presenti due gruppi di pomodori.                                                                                                                                                                                                                                                                                                                                                                                                                                                                                                                                                                                                1\n",
       "Marchio depositato a colori, il colore prevalente è il rosso. presenta al centro l'imperatore romano augusto. il marchio presenta in diverse lingue la scritta ''pomodori in scatola''                                                                                                                                                                                                                                                                                                                                                                                                                                                                                                                                                      1\n",
       "Marchio depositato a colori, lo sfondo è di colore azzurro e presenta scritte in rosso. a sinistra è presente una contadina mentre a destra un gruppo di pomodori.                                                                                                                                                                                                                                                                                                                                                                                                                                                                                                                                                                          1\n",
       "Marchio depositato a colori. a fondo azzurro, è presente a destra una donna avente in mano un gran numero di pomodori mentre a sinistra un gruppo di pomodori.                                                                                                                                                                                                                                                                                                                                                                                                                                                                                                                                                                              1\n",
       "Marchio depositato a colori. il marchio è in fondo blu con caratteri, a sinistra è presente un gruppo di pomodori, alla destra marchio è presente una contadina portante un cesto di pomodori e alle spalle della contadine è presente il vesuvio.                                                                                                                                                                                                                                                                                                                                                                                                                                                                                          1\n",
       "Marchio depositato in colore- descrizione:fondo generale giallo arancione; gruppi di pomodori al colore naturale; figura di donna in bianco rosso e verde                                                                                                                                                                                                                                                                                                                                                                                                                                                                                                                                                                                   1\n",
       "Marchio depositato in colore. fondo generale giallo e arancione. gruppo di pomodori al colore naturale;figura di donna centrale in bianco.                                                                                                                                                                                                                                                                                                                                                                                                                                                                                                                                                                                                  1\n",
       "Marchio non disponibile.                                                                                                                                                                                                                                                                                                                                                                                                                                                                                                                                                                                                                                                                                                                    1\n",
       "Marchio ovale con scritta al suo interno \"dottor gusmar\"                                                                                                                                                                                                                                                                                                                                                                                                                                                                                                                                                                                                                                                                                    1\n",
       "NULL                                                                                                                                                                                                                                                                                                                                                                                                                                                                                                                                                                                                                                                                                                                                       17\n",
       "Presenta a sinistra una donna di colore portante una cesta di pomodori a destra,invece, sono presenti un gruppo di pomodori. il marchio è stato depositato a colori, è di fondo giallo e bordata in celeste e sono presenti scritte in rosso.                                                                                                                                                                                                                                                                                                                                                                                                                                                                                               1\n",
       "Presenta sulla destra un bollo con raffigurata una pantera e sovrastata dalla scritta s.a.n.c.a. centralmente si vedono un gruppo di pomodori e sulla sinistra l'acronimo dell'azienda. da notare inoltre la presenza di parole in lingua inglese funzionali ai prodotti da esportazione.                                                                                                                                                                                                                                                                                                                                                                                                                                                   1\n",
       "Presenta un cavallo sulla sinistra e sullo sfondo il monte vesuvio. il testo dell'etichetta è scritto in lingua francese.                                                                                                                                                                                                                                                                                                                                                                                                                                                                                                                                                                                                                   1\n",
       "Un triangolo formato dalle lettere ''gb''                                                                                                                                                                                                                                                                                                                                                                                                                                                                                                                                                                                                                                                                                                   1\n",
       "Una donna pompeiana con abiti tradizionali e una giara in mano.                                                                                                                                                                                                                                                                                                                                                                                                                                                                                                                                                                                                                                                                             1\n",
       "Una zona circolare con fregi portanti sulla parte inferiore le parole \"vesuvio brand\" e nella superiore una corona fantastica:nello spazio rimanente della zona sono disposte sei coroncine separate da altrettante stellette. il campo centrale contiene la veduta del vesuvio in eruzione.                                                                                                                                                                                                                                                                                                                                                                                                                                                1\n",
       "Name: Descrizione del marchio, dtype: int64"
      ]
     },
     "execution_count": 20,
     "metadata": {},
     "output_type": "execute_result"
    }
   ],
   "source": [
    "itineraries_nocera_df['Descrizione del marchio'] = itineraries_nocera_df['Descrizione del marchio'].str.capitalize()\n",
    "itineraries_nocera_df['Descrizione del marchio'] = itineraries_nocera_df['Descrizione del marchio'].replace(to_replace=[\"marchio non disponibile.\", \"Marchio non presente.\", NULL_VALUE.capitalize()], value=NULL_VALUE)\n",
    "itineraries_nocera_df['Descrizione del marchio'].value_counts().sort_index()"
   ]
  },
  {
   "cell_type": "markdown",
   "id": "43fe4cf6",
   "metadata": {
    "cell_id": "00039-06391bde-42b9-4733-88f8-d8ce4c765934",
    "deepnote_cell_type": "markdown",
    "tags": []
   },
   "source": [
    "### 14. company website - Sito azienda - deal with empty values\n"
   ]
  },
  {
   "cell_type": "code",
   "execution_count": 21,
   "id": "22a2e581",
   "metadata": {
    "cell_id": "00040-b897d4ea-3af8-44b3-8990-706adfb77183",
    "deepnote_cell_type": "code",
    "deepnote_output_heights": [
     78.75
    ],
    "deepnote_to_be_reexecuted": false,
    "execution_millis": 2126993,
    "execution_start": 1641769389077,
    "source_hash": "1c71a93e",
    "tags": []
   },
   "outputs": [
    {
     "data": {
      "text/plain": [
       "NULL                                67\n",
       "http://www.consaritaly.com/it        1\n",
       "http://www.forinomediazione.com/     1\n",
       "Name: Sito azienda, dtype: int64"
      ]
     },
     "execution_count": 21,
     "metadata": {},
     "output_type": "execute_result"
    }
   ],
   "source": [
    "itineraries_nocera_df['Sito azienda'].value_counts().sort_index()"
   ]
  },
  {
   "cell_type": "markdown",
   "id": "ac99ba24",
   "metadata": {
    "cell_id": "00041-e320edff-5aed-4547-96e8-9cfa3a3fb63f",
    "deepnote_cell_type": "markdown",
    "tags": []
   },
   "source": [
    "### 15. note - Note - deal with empty values\n"
   ]
  },
  {
   "cell_type": "code",
   "execution_count": 22,
   "id": "16ebfe66",
   "metadata": {
    "cell_id": "00042-0e36c0c0-af2e-49ad-8d21-5796861e1bee",
    "deepnote_cell_type": "code",
    "deepnote_output_heights": [
     174.6875
    ],
    "deepnote_to_be_reexecuted": false,
    "execution_millis": 2126953,
    "execution_start": 1641769389083,
    "source_hash": "852acfca",
    "tags": []
   },
   "outputs": [
    {
     "data": {
      "text/plain": [
       "E' stato indicato il posizionamento della spinelli                                                                                                                                            4\n",
       "Incerto                                                                                                                                                                                       5\n",
       "L'azienda è ancora esistente, ma sul finire degli anni '90 è stata delocalizzata nocera superiore. in geolocalizzazione viene indicato il vecchio posizionamento                              1\n",
       "NULL                                                                                                                                                                                         45\n",
       "Nasce dalla trasformazione della pentagelo. esistente                                                                                                                                         2\n",
       "Non disponiamo di informazioni riguardanti questa azienda.  potrebbe essere  che il brand fosse utilizzato per  soli scopi commerciali utilizzando prodotti trasformati da aziende terze.     2\n",
       "Si conserva parte della ciminiera                                                                                                                                                             1\n",
       "Viene indicato il posizionamento dell'azienda dopo il 1950                                                                                                                                    9\n",
       "Name: Note, dtype: int64"
      ]
     },
     "execution_count": 22,
     "metadata": {},
     "output_type": "execute_result"
    }
   ],
   "source": [
    "itineraries_nocera_df['Note'] = itineraries_nocera_df['Note'].str.capitalize()\n",
    "itineraries_nocera_df['Note'] = itineraries_nocera_df['Note'].replace(to_replace=[NULL_VALUE.capitalize()], value=NULL_VALUE)\n",
    "itineraries_nocera_df['Note'].value_counts().sort_index()"
   ]
  },
  {
   "cell_type": "markdown",
   "id": "a8d40f0b",
   "metadata": {
    "cell_id": "00043-905a9b13-2cc8-4c0f-9b5e-ef84af13f612",
    "deepnote_cell_type": "markdown",
    "tags": []
   },
   "source": [
    "### 16. Localization - Geolocalizzazione - consider the possibility to split it in longitude and latitude + replace NON DISPONIBILE/empty values with NULL + check suspicious values\n"
   ]
  },
  {
   "cell_type": "code",
   "execution_count": 23,
   "id": "1a022fcc",
   "metadata": {
    "cell_id": "00045-589a0520-b39a-4229-90d8-2eee65b544ab",
    "deepnote_cell_type": "code",
    "deepnote_output_heights": [
     500.875,
     554
    ],
    "deepnote_table_loading": false,
    "deepnote_table_state": {
     "filters": [],
     "pageIndex": 0,
     "pageSize": 25,
     "sortBy": []
    },
    "deepnote_to_be_reexecuted": false,
    "execution_millis": 13,
    "execution_start": 1641769389127,
    "source_hash": "dcbf7445",
    "tags": []
   },
   "outputs": [
    {
     "data": {
      "text/html": [
       "<div>\n",
       "<style scoped>\n",
       "    .dataframe tbody tr th:only-of-type {\n",
       "        vertical-align: middle;\n",
       "    }\n",
       "\n",
       "    .dataframe tbody tr th {\n",
       "        vertical-align: top;\n",
       "    }\n",
       "\n",
       "    .dataframe thead th {\n",
       "        text-align: right;\n",
       "    }\n",
       "</style>\n",
       "<table border=\"1\" class=\"dataframe\">\n",
       "  <thead>\n",
       "    <tr style=\"text-align: right;\">\n",
       "      <th></th>\n",
       "      <th>Latitude</th>\n",
       "      <th>Longitude</th>\n",
       "    </tr>\n",
       "  </thead>\n",
       "  <tbody>\n",
       "    <tr>\n",
       "      <th>0</th>\n",
       "      <td>NULL</td>\n",
       "      <td>NULL</td>\n",
       "    </tr>\n",
       "    <tr>\n",
       "      <th>2</th>\n",
       "      <td>40.75240767002924</td>\n",
       "      <td>14.647127084417662</td>\n",
       "    </tr>\n",
       "    <tr>\n",
       "      <th>3</th>\n",
       "      <td>40.74658854047788</td>\n",
       "      <td>14.64624510288485</td>\n",
       "    </tr>\n",
       "    <tr>\n",
       "      <th>4</th>\n",
       "      <td>40.74629526946984</td>\n",
       "      <td>14.63495163616335</td>\n",
       "    </tr>\n",
       "    <tr>\n",
       "      <th>5</th>\n",
       "      <td>40.748607534830775</td>\n",
       "      <td>14.635621313855124</td>\n",
       "    </tr>\n",
       "    <tr>\n",
       "      <th>6</th>\n",
       "      <td>40.74159861076623</td>\n",
       "      <td>14.632279146462679</td>\n",
       "    </tr>\n",
       "    <tr>\n",
       "      <th>7</th>\n",
       "      <td>40.74226636042788</td>\n",
       "      <td>14.63459433453509</td>\n",
       "    </tr>\n",
       "    <tr>\n",
       "      <th>8</th>\n",
       "      <td>40.7470987632405</td>\n",
       "      <td>14.632356783840807</td>\n",
       "    </tr>\n",
       "    <tr>\n",
       "      <th>11</th>\n",
       "      <td>40.74942926001023</td>\n",
       "      <td>14.635014751741195</td>\n",
       "    </tr>\n",
       "    <tr>\n",
       "      <th>36</th>\n",
       "      <td>40.74643850815793</td>\n",
       "      <td>14.641197120402184</td>\n",
       "    </tr>\n",
       "    <tr>\n",
       "      <th>42</th>\n",
       "      <td>40.74179653670269</td>\n",
       "      <td>14.65038519911988</td>\n",
       "    </tr>\n",
       "    <tr>\n",
       "      <th>44</th>\n",
       "      <td>40.74556339615427</td>\n",
       "      <td>14.638880389915611</td>\n",
       "    </tr>\n",
       "    <tr>\n",
       "      <th>45</th>\n",
       "      <td>40.74104439221237</td>\n",
       "      <td>14.645188586129402</td>\n",
       "    </tr>\n",
       "    <tr>\n",
       "      <th>52</th>\n",
       "      <td>40.74418354779482</td>\n",
       "      <td>14.635982512263581</td>\n",
       "    </tr>\n",
       "    <tr>\n",
       "      <th>57</th>\n",
       "      <td>40.74174493584032</td>\n",
       "      <td>14.651784507662727</td>\n",
       "    </tr>\n",
       "    <tr>\n",
       "      <th>59</th>\n",
       "      <td>40.76707049156539</td>\n",
       "      <td>14.657384476158768</td>\n",
       "    </tr>\n",
       "    <tr>\n",
       "      <th>66</th>\n",
       "      <td>40.74155731941573</td>\n",
       "      <td>14.632442614529282</td>\n",
       "    </tr>\n",
       "    <tr>\n",
       "      <th>67</th>\n",
       "      <td>40.75113725848496</td>\n",
       "      <td>14.634358882613014</td>\n",
       "    </tr>\n",
       "  </tbody>\n",
       "</table>\n",
       "</div>"
      ],
      "text/plain": [
       "              Latitude           Longitude\n",
       "0                 NULL                NULL\n",
       "2    40.75240767002924  14.647127084417662\n",
       "3    40.74658854047788   14.64624510288485\n",
       "4    40.74629526946984   14.63495163616335\n",
       "5   40.748607534830775  14.635621313855124\n",
       "6    40.74159861076623  14.632279146462679\n",
       "7    40.74226636042788   14.63459433453509\n",
       "8     40.7470987632405  14.632356783840807\n",
       "11   40.74942926001023  14.635014751741195\n",
       "36   40.74643850815793  14.641197120402184\n",
       "42   40.74179653670269   14.65038519911988\n",
       "44   40.74556339615427  14.638880389915611\n",
       "45   40.74104439221237  14.645188586129402\n",
       "52   40.74418354779482  14.635982512263581\n",
       "57   40.74174493584032  14.651784507662727\n",
       "59   40.76707049156539  14.657384476158768\n",
       "66   40.74155731941573  14.632442614529282\n",
       "67   40.75113725848496  14.634358882613014"
      ]
     },
     "execution_count": 23,
     "metadata": {},
     "output_type": "execute_result"
    }
   ],
   "source": [
    "temp_separator = \";;\"\n",
    "itineraries_nocera_df['Temp'] = itineraries_nocera_df['geolocalizzazione'].apply(lambda x: temp_separator.join(float_tuple_to_string_list(get_latitude_longitude(string=x, null_value=NULL_VALUE))))\n",
    "itineraries_nocera_df[['Latitude','Longitude']] = itineraries_nocera_df.Temp.str.split(temp_separator, expand=True)\n",
    "itineraries_nocera_df = itineraries_nocera_df.drop(['Temp'], axis=1)\n",
    "#itineraries_nocera_df = itineraries_nocera_df.drop(['geolocalizzazione'], axis=1)\n",
    "\n",
    "itineraries_nocera_df.drop_duplicates(subset = ['Latitude','Longitude'])[['Latitude','Longitude']]"
   ]
  },
  {
   "cell_type": "markdown",
   "id": "ff49ca52",
   "metadata": {
    "cell_id": "00046-597ab80a-3ea1-43ae-a680-ea1126d7e2c8",
    "deepnote_cell_type": "markdown",
    "tags": []
   },
   "source": [
    "### 17. Bibliography - Bibliografia -  replace NON DISPONIBILE/empty values with NULL \n"
   ]
  },
  {
   "cell_type": "code",
   "execution_count": 24,
   "id": "65fa6ebe",
   "metadata": {
    "cell_id": "00047-2840804c-30b3-4d8c-9245-56141eec78e7",
    "deepnote_cell_type": "code",
    "deepnote_output_heights": [
     59.5625
    ],
    "deepnote_to_be_reexecuted": false,
    "execution_millis": 3,
    "execution_start": 1641769389148,
    "source_hash": "b63aad7a",
    "tags": []
   },
   "outputs": [
    {
     "data": {
      "text/plain": [
       "NULL                                                                                                                                                                                                          23\n",
       "R. Vitolo, M. Stanzione (eds.), Capitani d'industrua, in Com'eravamo. Un secolo di vita a Nocera Inferiore tra ricordi immagini testimonianze, Nocera Inferiore 2013, pp. 157-158, ISBN 978-88-902535-9-1.    46\n",
       "Name: Bibliografia, dtype: int64"
      ]
     },
     "execution_count": 24,
     "metadata": {},
     "output_type": "execute_result"
    }
   ],
   "source": [
    "itineraries_nocera_df['Bibliografia'].value_counts().sort_index()"
   ]
  },
  {
   "cell_type": "markdown",
   "id": "29fe5652",
   "metadata": {
    "cell_id": "00048-e9289053-2b30-4984-b1d0-38b85e444006",
    "deepnote_cell_type": "markdown",
    "tags": []
   },
   "source": [
    "### 18. Site - Sitografia -  replace NON DISPONIBILE/empty values with NULL \n"
   ]
  },
  {
   "cell_type": "code",
   "execution_count": 25,
   "id": "0a7166af",
   "metadata": {
    "cell_id": "00049-24dc600a-6e92-45d4-bbf0-f58f74afe343",
    "deepnote_cell_type": "code",
    "deepnote_output_heights": [
     40.375
    ],
    "deepnote_to_be_reexecuted": false,
    "execution_millis": 2126942,
    "execution_start": 1641769389201,
    "source_hash": "8e165ee7",
    "tags": []
   },
   "outputs": [
    {
     "data": {
      "text/plain": [
       "http://dati.acs.beniculturali.it/mm/local/    69\n",
       "Name: Sitografia, dtype: int64"
      ]
     },
     "execution_count": 25,
     "metadata": {},
     "output_type": "execute_result"
    }
   ],
   "source": [
    "itineraries_nocera_df['Sitografia'].value_counts().sort_index()"
   ]
  },
  {
   "cell_type": "markdown",
   "id": "ba4220cf",
   "metadata": {
    "cell_id": "00050-3c9efb8c-7361-4fce-8f05-fc8262115e12",
    "deepnote_cell_type": "markdown",
    "tags": []
   },
   "source": [
    "### 19. Image - URL Immagine -  deal with multiple values +   replace NON DISPONIBILE/empty values with NULL \n"
   ]
  },
  {
   "cell_type": "code",
   "execution_count": 26,
   "id": "c51e1129",
   "metadata": {
    "cell_id": "00051-7c1f7c73-11d2-4d5d-b0fd-6d61c97ec123",
    "deepnote_cell_type": "code",
    "deepnote_output_heights": [
     232.25
    ],
    "deepnote_to_be_reexecuted": false,
    "execution_millis": 2,
    "execution_start": 1641769389202,
    "source_hash": "94fe4d60",
    "tags": []
   },
   "outputs": [
    {
     "data": {
      "text/plain": [
       "NULL                                                                                                       1\n",
       "http://dati.acs.beniculturali.it/media/bm/thmb/ACS_003/P000056_89602-89803/WEB/89602-89803_0131.jpg        1\n",
       "http://dati.acs.beniculturali.it/media/bm/thmb/ACS_009/P000248_128401-128601/WEB/128401-128601_0105.jpg    1\n",
       "http://dati.acs.beniculturali.it/media/bm/thmb/ACS_015/P003091_161801-161900/WEB/161801-161900_0081.jpg    1\n",
       "http://dati.acs.beniculturali.it/media/bm/thmb/ACS_020/P002068_43901-44100/WEB/43901-44100_0073.jpg        1\n",
       "                                                                                                          ..\n",
       "http://dati.acs.beniculturali.it/media/bm/wtmk/ACS_027/P000385_75601-75800/WEB/75601-75800_0115.jpg        1\n",
       "http://dati.acs.beniculturali.it/media/bm/wtmk/ACS_027/P000386_75801-76000/WEB/75801-76000_0059.jpg        1\n",
       "http://dati.acs.beniculturali.it/media/bm/wtmk/ACS_027/P000386_75801-76000/WEB/75801-76000_0061.jpg        1\n",
       "http://dati.acs.beniculturali.it/media/bm/wtmk/ACS_028/P000394_77401-77601/WEB/77401-77601_0026.jpg        1\n",
       "http://dati.acs.beniculturali.it/media/bm/wtmk/ACS_029/P004059_6101-6200/WEB/6101-6200_0052.jpg            1\n",
       "Name: URL immagine, Length: 68, dtype: int64"
      ]
     },
     "execution_count": 26,
     "metadata": {},
     "output_type": "execute_result"
    }
   ],
   "source": [
    "itineraries_nocera_df['URL immagine'].value_counts().sort_index()"
   ]
  },
  {
   "cell_type": "markdown",
   "id": "ece868df",
   "metadata": {
    "cell_id": "00050-5c905261-a37c-4552-a1a3-5189f033c810",
    "deepnote_cell_type": "markdown",
    "tags": []
   },
   "source": [
    "### 20. Image 2- URL Immagine 2-  deal with multiple values +   replace NON DISPONIBILE/empty values with NULL \n"
   ]
  },
  {
   "cell_type": "code",
   "execution_count": 27,
   "id": "952ac794",
   "metadata": {
    "cell_id": "00051-223f705a-dd2c-4919-a213-4ba55d80633f",
    "deepnote_cell_type": "code",
    "deepnote_output_heights": [
     520.0625
    ],
    "deepnote_to_be_reexecuted": false,
    "execution_millis": 2,
    "execution_start": 1641769389202,
    "source_hash": "30d0535d",
    "tags": []
   },
   "outputs": [
    {
     "data": {
      "text/plain": [
       "NULL                                                                                                       43\n",
       "http://dati.acs.beniculturali.it/media/bm/thmb/ACS_003/P000056_89602-89803/WEB/89602-89803_0132.jpg         1\n",
       "http://dati.acs.beniculturali.it/media/bm/thmb/ACS_009/P000238_126401-126600/WEB/126401-126600_0147.jpg     1\n",
       "http://dati.acs.beniculturali.it/media/bm/thmb/ACS_009/P000248_128401-128601/WEB/128401-128601_0106.jpg     1\n",
       "http://dati.acs.beniculturali.it/media/bm/thmb/ACS_010/P000261_131001-131200/WEB/131001-131200_0123.jpg     1\n",
       "http://dati.acs.beniculturali.it/media/bm/thmb/ACS_014/P003048_154201-154400/WEB/154201-154400_0118.jpg     1\n",
       "http://dati.acs.beniculturali.it/media/bm/thmb/ACS_015/P003091_161801-161900/WEB/161801-161900_0082.jpg     1\n",
       "http://dati.acs.beniculturali.it/media/bm/thmb/ACS_020/P002068_43901-44100/WEB/43901-44100_0074.jpg         1\n",
       "http://dati.acs.beniculturali.it/media/bm/thmb/ACS_022/P002095_49301-49500/WEB/49301-49500_0016.jpg         1\n",
       "http://dati.acs.beniculturali.it/media/bm/thmb/ACS_022/P002096_49501-49700/WEB/49501-49700_0206.jpg         1\n",
       "http://dati.acs.beniculturali.it/media/bm/thmb/ACS_022/P002096_49501-49700/WEB/49501-49700_0208.jpg         1\n",
       "http://dati.acs.beniculturali.it/media/bm/thmb/ACS_023/P002129_56101-56300/WEB/56101-56300_0201.jpg         1\n",
       "http://dati.acs.beniculturali.it/media/bm/thmb/ACS_027/P000386_75801-76000/WEB/75801-76000_0060.jpg         1\n",
       "http://dati.acs.beniculturali.it/media/bm/wtmk/ACS_001/P000014_81201-81401/WEB/81201-81401_0029.jpg         1\n",
       "http://dati.acs.beniculturali.it/media/bm/wtmk/ACS_001/P000018_82002-82201/WEB/82002-82201_0008.jpg         1\n",
       "http://dati.acs.beniculturali.it/media/bm/wtmk/ACS_001/P000022_82801-83001/WEB/82801-83001_0075.jpg         1\n",
       "http://dati.acs.beniculturali.it/media/bm/wtmk/ACS_007/P000184_115602-115800/WEB/115602-115800_0095.jpg     1\n",
       "http://dati.acs.beniculturali.it/media/bm/wtmk/ACS_010/P000271_133001-133200/WEB/133001-133200_0024.jpg     1\n",
       "http://dati.acs.beniculturali.it/media/bm/wtmk/ACS_013/P003014_147401-147600/WEB/147401-147600_0010.jpg     1\n",
       "http://dati.acs.beniculturali.it/media/bm/wtmk/ACS_013/P003026_149801-150000/WEB/149801-150000_0030.jpg     1\n",
       "http://dati.acs.beniculturali.it/media/bm/wtmk/ACS_021/P002078_45901-46100/WEB/45901-46100_0284.jpg         1\n",
       "http://dati.acs.beniculturali.it/media/bm/wtmk/ACS_022/P002108_51901-52100/WEB/51901-52100_0112.jpg         1\n",
       "http://dati.acs.beniculturali.it/media/bm/wtmk/ACS_022/P002108_51901-52100/WEB/51901-52100_0113.jpg         1\n",
       "http://dati.acs.beniculturali.it/media/bm/wtmk/ACS_026/P000344_67402-67600/WEB/67402-67600_0123.jpg         1\n",
       "http://dati.acs.beniculturali.it/media/bm/wtmk/ACS_033A/P005019_58-59-60/WEB/Vol_58-59-60_0080.jpg          2\n",
       "http://dati.acs.beniculturali.it/media/bm/wtmk/ACS_033A/P005020_61-62-63/WEB/Vol_61-62-63_0268.jpg          1\n",
       "Name: URL immagine 2, dtype: int64"
      ]
     },
     "execution_count": 27,
     "metadata": {},
     "output_type": "execute_result"
    }
   ],
   "source": [
    "itineraries_nocera_df['URL immagine 2'].value_counts().sort_index()"
   ]
  },
  {
   "cell_type": "markdown",
   "id": "ca34ec91",
   "metadata": {
    "cell_id": "00052-ca4ee75c-6c7d-45b4-b60e-d717079475a4",
    "deepnote_cell_type": "markdown",
    "tags": []
   },
   "source": [
    "### 21. Building type - Tipologia edificio - check value consistency + empty values\n"
   ]
  },
  {
   "cell_type": "code",
   "execution_count": 28,
   "id": "080add04",
   "metadata": {
    "cell_id": "00053-545f4f90-f2f1-4b64-8a46-7621f9ace08a",
    "deepnote_cell_type": "code",
    "deepnote_output_heights": [
     40.375
    ],
    "deepnote_to_be_reexecuted": false,
    "execution_millis": 1,
    "execution_start": 1641769389208,
    "source_hash": "5e225bd8",
    "tags": []
   },
   "outputs": [
    {
     "data": {
      "text/plain": [
       "NULL    69\n",
       "Name: Tipologia edificio, dtype: int64"
      ]
     },
     "execution_count": 28,
     "metadata": {},
     "output_type": "execute_result"
    }
   ],
   "source": [
    "itineraries_nocera_df['Tipologia edificio'].value_counts().sort_index()"
   ]
  },
  {
   "cell_type": "markdown",
   "id": "673e8193",
   "metadata": {
    "cell_id": "00054-9671cb96-6d44-4922-9235-c755ee9a4847",
    "deepnote_cell_type": "markdown",
    "tags": []
   },
   "source": [
    "### 22. Novel usage - Rifunzionalizzato -  check value consistency + replace empty values with NULL\n"
   ]
  },
  {
   "cell_type": "code",
   "execution_count": 29,
   "id": "52a98f7e",
   "metadata": {
    "cell_id": "00055-d5e4aad8-0bea-4582-8bfc-de3b1171639f",
    "deepnote_cell_type": "code",
    "deepnote_output_heights": [
     78.75
    ],
    "deepnote_to_be_reexecuted": false,
    "execution_millis": 1,
    "execution_start": 1641769389263,
    "source_hash": "d7a6fed3",
    "tags": []
   },
   "outputs": [
    {
     "data": {
      "text/plain": [
       "NULL    45\n",
       "No       3\n",
       "Si      21\n",
       "Name: Rifunzionalizzato Si/No, dtype: int64"
      ]
     },
     "execution_count": 29,
     "metadata": {},
     "output_type": "execute_result"
    }
   ],
   "source": [
    "itineraries_nocera_df['Rifunzionalizzato Si/No'] = itineraries_nocera_df['Rifunzionalizzato Si/No'].replace(to_replace=[\"Non verificabile\"], value=NULL_VALUE)\n",
    "itineraries_nocera_df['Rifunzionalizzato Si/No'].value_counts().sort_index()"
   ]
  },
  {
   "cell_type": "markdown",
   "id": "8773236c",
   "metadata": {
    "cell_id": "00058-bdec37b7-e0af-4435-8af5-5abfbf8935d0",
    "deepnote_cell_type": "markdown",
    "tags": []
   },
   "source": [
    "### 23. Usage type - Tipo di rifunzionalizzazione -  replace NESSUNO/empty values with NULL"
   ]
  },
  {
   "cell_type": "code",
   "execution_count": 30,
   "id": "0b519b26",
   "metadata": {
    "cell_id": "00059-20fb377e-7f29-4b84-9bef-40c5bddf94b2",
    "deepnote_cell_type": "code",
    "deepnote_output_heights": [
     193.875
    ],
    "deepnote_to_be_reexecuted": false,
    "execution_millis": 2,
    "execution_start": 1641769389264,
    "source_hash": "b67fd1d9",
    "tags": []
   },
   "outputs": [
    {
     "data": {
      "text/plain": [
       "Abbattuta per costruire civili abitazioni                                                      1\n",
       "Abbattuta per la costruzione di civili abitazioni                                              1\n",
       "Attività produttive                                                                            1\n",
       "Istituto Tecnico Industriale Marconi                                                           1\n",
       "NULL                                                                                          45\n",
       "Parcellizzata e trasformata in altre aziende                                                   8\n",
       "Supermercato                                                                                   3\n",
       "Supermercato, Pub, Altre aziende, Istituto Alberghiero, Insediamento per civili abitazioni     8\n",
       "Trasformata in scuola                                                                          1\n",
       "Name: Tipo di rifunzionalizzazione, dtype: int64"
      ]
     },
     "execution_count": 30,
     "metadata": {},
     "output_type": "execute_result"
    }
   ],
   "source": [
    "itineraries_nocera_df['Tipo di rifunzionalizzazione'].value_counts().sort_index()"
   ]
  },
  {
   "cell_type": "markdown",
   "id": "1071a61b",
   "metadata": {},
   "source": [
    "## Define type of itinerary"
   ]
  },
  {
   "cell_type": "code",
   "execution_count": 31,
   "id": "ada10ed8",
   "metadata": {},
   "outputs": [],
   "source": [
    "itineraries_nocera_df[\"Categoria itinerario\"] = \"aziendale\""
   ]
  },
  {
   "cell_type": "markdown",
   "id": "2b54fcfc",
   "metadata": {
    "cell_id": "00056-f706e295-233d-489a-8082-2d333b146bdf",
    "deepnote_cell_type": "markdown",
    "tags": []
   },
   "source": [
    "## Save to csv and pickle"
   ]
  },
  {
   "cell_type": "code",
   "execution_count": 32,
   "id": "181d052b",
   "metadata": {
    "cell_id": "00048-dffbf098-4201-41fa-ba0f-436181908f1d",
    "deepnote_cell_type": "code",
    "deepnote_to_be_reexecuted": false,
    "execution_millis": 13,
    "execution_start": 1641769389265,
    "source_hash": "6f59c9a5"
   },
   "outputs": [],
   "source": [
    "itineraries_nocera_df = itineraries_nocera_df[['Categoria itinerario', 'Città', 'Località', 'Via', 'Cap',\n",
    "       'Provincia', 'Regione', 'N. Registro generale', 'Nome azienda',\n",
    "       'Data deposito', 'Data registrazione marchio', 'Luogo di Deposito',\n",
    "       'Nome marchio', 'Settore produzione', 'Importazione Si/No',\n",
    "       'Itinerario (periodo)', 'Descrizione del marchio', 'Sito azienda',\n",
    "       'Note', 'Bibliografia', 'Sitografia',\n",
    "       'URL immagine', 'URL immagine 2', 'Tipologia edificio',\n",
    "       'Rifunzionalizzato Si/No', 'Tipo di rifunzionalizzazione',\n",
    "       'Latitude', 'Longitude']]\n",
    "\n",
    "itineraries_nocera_df.to_csv('../Dataset_clean/itineraries-Nocera.csv', index=False)\n",
    "itineraries_nocera_df.to_pickle(\"../Dataset_clean/itineraries-Nocera.pkl\")  "
   ]
  },
  {
   "cell_type": "code",
   "execution_count": null,
   "id": "a78f8182",
   "metadata": {},
   "outputs": [],
   "source": []
  }
 ],
 "metadata": {
  "deepnote": {},
  "deepnote_execution_queue": [],
  "deepnote_notebook_id": "c426dfe6-bdb2-4d7c-8ac6-d6984e70b80d",
  "kernelspec": {
   "display_name": "Python 3 (ipykernel)",
   "language": "python",
   "name": "python3"
  },
  "language_info": {
   "codemirror_mode": {
    "name": "ipython",
    "version": 3
   },
   "file_extension": ".py",
   "mimetype": "text/x-python",
   "name": "python",
   "nbconvert_exporter": "python",
   "pygments_lexer": "ipython3",
   "version": "3.10.2"
  }
 },
 "nbformat": 4,
 "nbformat_minor": 5
}
